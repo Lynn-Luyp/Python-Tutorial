{
 "cells": [
  {
   "cell_type": "markdown",
   "id": "f095d93e",
   "metadata": {},
   "source": [
    "# if语句"
   ]
  },
  {
   "cell_type": "markdown",
   "id": "c8d456cb",
   "metadata": {},
   "source": [
    "基本格式：\n",
    "```\n",
    "if + 条件：\n",
    "\n",
    "    true result\n",
    "\n",
    "else：\n",
    "\n",
    "    false result\n",
    "```"
   ]
  },
  {
   "cell_type": "markdown",
   "id": "11120af8",
   "metadata": {},
   "source": [
    "表达含义：如果[条件 == true]，true result，否则 false result"
   ]
  },
  {
   "cell_type": "markdown",
   "id": "abccfd12",
   "metadata": {},
   "source": [
    "举例：\n",
    "\n",
    "1. 如果佳成LOL上王者，那么他可以代练赚钱，否则他只能学习"
   ]
  },
  {
   "cell_type": "code",
   "execution_count": 3,
   "id": "289de9ee",
   "metadata": {},
   "outputs": [],
   "source": [
    "# if LOL 上王者：\n",
    "# \t代练赚钱\n",
    "# else：\n",
    "# \t学习"
   ]
  },
  {
   "cell_type": "markdown",
   "id": "60ea276c",
   "metadata": {},
   "source": [
    "2. 如果这个人是未成年人（不满18岁），那么不给玩游戏"
   ]
  },
  {
   "cell_type": "code",
   "execution_count": 9,
   "id": "4ce86a57",
   "metadata": {},
   "outputs": [],
   "source": [
    "# age = int(input(\"输入年龄\"))\n",
    "# if age < 18:\n",
    "# \t不给玩游戏\n",
    "# else:\n",
    "# \t可以玩游戏"
   ]
  },
  {
   "cell_type": "markdown",
   "id": "b69c6844",
   "metadata": {},
   "source": [
    "备注：\n",
    "\n",
    "else 也可以省略，比如："
   ]
  },
  {
   "cell_type": "code",
   "execution_count": 7,
   "id": "8bb44791",
   "metadata": {},
   "outputs": [],
   "source": [
    "# age = int(input(\"输入年龄\"))\n",
    "# if age < 18:\n",
    "# \t不给玩游戏"
   ]
  },
  {
   "cell_type": "markdown",
   "id": "19fadd3b",
   "metadata": {},
   "source": [
    "# 运算符"
   ]
  },
  {
   "cell_type": "code",
   "execution_count": 8,
   "id": "4b94e384",
   "metadata": {},
   "outputs": [
    {
     "name": "stdout",
     "output_type": "stream",
     "text": [
      "False\n",
      "True\n",
      "True\n",
      "False\n",
      "True\n",
      "False\n",
      "a和b不相等\n"
     ]
    }
   ],
   "source": [
    "a = 3\n",
    "b = 7\n",
    "print(a == b)     # False\n",
    "print(a != b)     # True\n",
    "print(a < b)      # True\n",
    "print(a > b)      # False\n",
    "print(a <= b)     # True\n",
    "print(a >= b)     # False\n",
    "# 结合if判断\n",
    "if a == b:\n",
    "    # 如果相等就输出语句，不相等则不进行任何操作\n",
    "    print(\"a和b相等\")   # (没有输出结果，因为a的值与b的值本就不相等)\n",
    "else:\n",
    "    print(\"a和b不相等\")"
   ]
  },
  {
   "cell_type": "markdown",
   "id": "423250f7",
   "metadata": {},
   "source": [
    "## 比较运算符"
   ]
  },
  {
   "cell_type": "markdown",
   "id": "35c8d8a0",
   "metadata": {},
   "source": [
    "相等：`a == b`  \n",
    "不相等：`a != b`  \n",
    "小于：`a < b`  \n",
    "大于：`a > b`"
   ]
  },
  {
   "cell_type": "markdown",
   "id": "7ae7a8db",
   "metadata": {},
   "source": [
    "## 逻辑运算符"
   ]
  },
  {
   "cell_type": "markdown",
   "id": "f8974c1c",
   "metadata": {},
   "source": [
    "格式：[left] [expr] [right]\n",
    "\n",
    "1. and：left 和 right 都为 true，结果为true\n",
    "2. or：left 和 right 任意一个为true，结果为true\n",
    "3. not：结果取反\n",
    "\n",
    "注意：and 和 or 都有截断功能，即当left满足条件时，不会执行right，比如："
   ]
  },
  {
   "cell_type": "markdown",
   "id": "57a6c402",
   "metadata": {},
   "source": [
    "举例："
   ]
  },
  {
   "cell_type": "code",
   "execution_count": 11,
   "id": "5cc749e8",
   "metadata": {},
   "outputs": [
    {
     "name": "stdout",
     "output_type": "stream",
     "text": [
      "x, y都为正数\n",
      "请输入今天星期几：1\n",
      "0\n",
      "0\n",
      "0\n",
      "0\n",
      "2\n",
      "1\n",
      "1\n",
      "2\n",
      "1\n"
     ]
    }
   ],
   "source": [
    "x = 1\n",
    "y = 2\n",
    "if x > 0 and y > 0:\n",
    "    print(\"x, y都为正数\")\n",
    "    \n",
    "    \n",
    "n1 = 5\n",
    "n2 = 8\n",
    "if n1 == 0 or n2 == 0:\n",
    "    print(\"有一个数为0\")\n",
    "    \n",
    "    \n",
    "# 需求：星期二、星期四、星期六都是有课的\n",
    "day = input(\"请输入今天星期几：\")\n",
    "if day == \"星期二\" or day == \"星期四\" or day == \"星期六\":\n",
    "    print(\"有课哦\")\n",
    "    \n",
    "    \n",
    "# 数字转bool来说，0 为 false, 非0 为 true.\n",
    "# bool转数字来说，false 为 0, true 为 1\n",
    "a = 0\n",
    "b = 1\n",
    "c = 2\n",
    "# and运算符，只要有一个值为0，则结果为0，否则结果为最后一个非0数字\n",
    "print(a and b)  # 0\n",
    "print(b and a)  # 0\n",
    "print(a and c)  # 0\n",
    "print(c and a)  # 0\n",
    "print(b and c)  # 2\n",
    "print(c and b)  # 1\n",
    "# or运算符，只有所有值为0结果才为0，否则结果为第一个非0数字\n",
    "print(a or b)  # 1\n",
    "print(a or c)  # 2\n",
    "print(b or c)  # 1"
   ]
  },
  {
   "cell_type": "markdown",
   "id": "93c2be0e",
   "metadata": {},
   "source": [
    "## 三元运算符"
   ]
  },
  {
   "cell_type": "markdown",
   "id": "d8ca21ef",
   "metadata": {},
   "source": [
    "格式：[true result] if [expr] else [false result]\n",
    "\n",
    "意义：写法更简单，一句话能搞定。但是可读性降低\n",
    "\n",
    "举例："
   ]
  },
  {
   "cell_type": "code",
   "execution_count": 15,
   "id": "d824506b",
   "metadata": {},
   "outputs": [
    {
     "name": "stdout",
     "output_type": "stream",
     "text": [
      "a比b小\n",
      "a比b小\n"
     ]
    }
   ],
   "source": [
    "# 三元运算符\n",
    "a = 1; b = 2\n",
    "print('a比b小' if a < b else 'a比b大')\n",
    "\n",
    "# 普通写法\n",
    "if a < b:\n",
    "    print('a比b小')\n",
    "else:\n",
    "    print('a比b大')"
   ]
  },
  {
   "cell_type": "markdown",
   "id": "d8211442",
   "metadata": {},
   "source": [
    "# if - elif"
   ]
  },
  {
   "cell_type": "code",
   "execution_count": 16,
   "id": "e649ece4",
   "metadata": {},
   "outputs": [],
   "source": [
    "# 基本格式：\n",
    "# if 条件1:\n",
    "#     事情1\n",
    "# elif 条件2:\n",
    "#     事情2\n",
    "# elif 条件3:\n",
    "#     事情3\n",
    "# else:\n",
    "#     事情4"
   ]
  },
  {
   "cell_type": "markdown",
   "id": "90ba0ea2",
   "metadata": {},
   "source": [
    "举例："
   ]
  },
  {
   "cell_type": "code",
   "execution_count": 17,
   "id": "f921f145",
   "metadata": {},
   "outputs": [
    {
     "name": "stdout",
     "output_type": "stream",
     "text": [
      "成绩无效\n"
     ]
    }
   ],
   "source": [
    "# score = 85    # 优秀\n",
    "# score = 70    # 及格\n",
    "# score = 45    # 不及格\n",
    "score = 120\n",
    "if 85 <= score <= 100:\n",
    "    print(\"优秀\")\n",
    "elif 75 <= score < 85:\n",
    "    print(\"良好\")\n",
    "elif 60 <= score < 75:\n",
    "    print(\"及格\")\n",
    "elif 0 <= score < 60:\n",
    "    print(\"不及格\")\n",
    "# elif可以写很多个，没有数量限制要求\n",
    "else:   # else可以表示所有条件都不符合的情况\n",
    "    print(\"成绩无效\")"
   ]
  },
  {
   "cell_type": "markdown",
   "id": "dc8b8926",
   "metadata": {},
   "source": [
    "# if - else 语句"
   ]
  },
  {
   "cell_type": "code",
   "execution_count": 12,
   "id": "a6620775",
   "metadata": {},
   "outputs": [
    {
     "name": "stdout",
     "output_type": "stream",
     "text": [
      "无法入内\n",
      "a比b小\n"
     ]
    }
   ],
   "source": [
    "# 需求: 如果是成年人，可以进入娱乐场所；否则无法进入。\n",
    "age = 16\n",
    "if age >= 18:\n",
    "    print(\"可以进入娱乐场所了\")\n",
    "else:     # 注意：else后不能添加条件\n",
    "    print(\"无法入内\")\n",
    "    \n",
    "    \n",
    "# 需求: 数字比大小\n",
    "a = 5\n",
    "b = 8\n",
    "if a < b:\n",
    "    print(\"a比b小\")                      # 为真的结果\n",
    "else:\n",
    "    print('不满足a比b小的条件')           # 为假的结果"
   ]
  },
  {
   "cell_type": "markdown",
   "id": "ba135cb5",
   "metadata": {},
   "source": [
    "# if 嵌套"
   ]
  },
  {
   "cell_type": "code",
   "execution_count": 18,
   "id": "606feada",
   "metadata": {},
   "outputs": [],
   "source": [
    "# 4.3 格式\n",
    "# if 条件1:\n",
    "#     事情1\n",
    "#     if 条件2:\n",
    "#         事情2\n",
    "# else:\n",
    "#     不满足条件的事情\n",
    "# 注意:外层的if判断，也可以是if-else；内层的if判断，也可以是if-else"
   ]
  },
  {
   "cell_type": "markdown",
   "id": "f0b49c48",
   "metadata": {},
   "source": [
    "如果满足条件1和条件2，才会做事情2。\n",
    "\n",
    "如果不需要做`事情1`，可以写成"
   ]
  },
  {
   "cell_type": "code",
   "execution_count": 19,
   "id": "08ac7f85",
   "metadata": {},
   "outputs": [],
   "source": [
    "# if 条件1 and 条件2:\n",
    "# \t\t事情2\n",
    "# else:\n",
    "# \t\t不满足条件的事情"
   ]
  },
  {
   "cell_type": "markdown",
   "id": "7cb96d37",
   "metadata": {},
   "source": [
    "举例：\n",
    "\n",
    "现在我们是LOL英雄安妮，假设需要放Q和R技能，放技能要满足条件，完成条件："
   ]
  },
  {
   "cell_type": "code",
   "execution_count": 25,
   "id": "3d8bb3d3",
   "metadata": {},
   "outputs": [],
   "source": [
    "# q_cd_ready = false\n",
    "# q_mana = 30\n",
    "# r_cd_ready = false\n",
    "# r_mana = 100\n",
    "# find_enemy = false\n",
    "\n",
    "# 当前蓝量，认为是无限的\n",
    "# current_mana = 1000000\n",
    "\n",
    "# if (条件1):\n",
    "# \t释放R技能\n",
    "# \t事情1\n",
    "# elif (条件2):\n",
    "# \t释放Q技能\n",
    "# \t事情2\n",
    "# else:\n",
    "# \t普通攻击\n",
    "# \t..."
   ]
  },
  {
   "cell_type": "markdown",
   "id": "87b59614",
   "metadata": {},
   "source": [
    "# 循环语句\n",
    "\n",
    "介绍：循环就是重复的去做某一件事情\n",
    "\n",
    "分类：\n",
    "\n",
    "1. 条件循环（while）：一直重复，直到条件不满足时才结束\n",
    "2. 次数循环（for）：重复一定次数的循环"
   ]
  },
  {
   "cell_type": "markdown",
   "id": "cb3f3433",
   "metadata": {},
   "source": [
    "## 条件循环（while）\n",
    "\n",
    "格式："
   ]
  },
  {
   "cell_type": "code",
   "execution_count": 26,
   "id": "07d1e3c8",
   "metadata": {},
   "outputs": [],
   "source": [
    "# while 条件表达式:\n",
    "#     循环体(重复执行的代码块)\n",
    "#     改变变量(不改变就会一直循环)   "
   ]
  },
  {
   "cell_type": "markdown",
   "id": "b4fd78c5",
   "metadata": {},
   "source": [
    "题目：\n",
    "\n",
    "1. 利用while循环输出5遍 \"Hello，靓仔！\""
   ]
  },
  {
   "cell_type": "code",
   "execution_count": 28,
   "id": "ec460c36",
   "metadata": {},
   "outputs": [],
   "source": [
    "# i = 1           # 定义一个初始值，记录循环的次数(相当于一个计数器)，从第一次开始\n",
    "# while (填空1)   # 当i的值如果满足条件就执行下面的代码\n",
    "#     print(\"Hello，靓仔！\")\n",
    "#     # 注意:发生死循环的时候，点击左边的红色方框让其停止,不要等到真的卡机，对电脑有损伤\n",
    "#     (填空2)"
   ]
  },
  {
   "cell_type": "markdown",
   "id": "efc72cec",
   "metadata": {},
   "source": [
    "2. 利用while循环输出8遍这是第n次循环，n是具体的数值"
   ]
  },
  {
   "cell_type": "code",
   "execution_count": 31,
   "id": "1074f09a",
   "metadata": {},
   "outputs": [],
   "source": [
    "# n = 1\n",
    "# while (条件1):\n",
    "#     print(条件2)\n",
    "#     (条件3)"
   ]
  },
  {
   "cell_type": "markdown",
   "id": "9be83017",
   "metadata": {},
   "source": [
    "### 跳出循环方法\n",
    "1. 使用break(下文说)  \n",
    "2. 使用标志位(flag)  "
   ]
  },
  {
   "cell_type": "code",
   "execution_count": 11,
   "id": "4cb1b55e",
   "metadata": {},
   "outputs": [
    {
     "name": "stdout",
     "output_type": "stream",
     "text": [
      "a\n",
      "message is: a\n",
      "quit\n",
      "quit!\n"
     ]
    }
   ],
   "source": [
    "flag = True\n",
    "while flag:\n",
    "    message = input()\n",
    "    if (message == \"quit\"):\n",
    "        print(\"quit!\")\n",
    "        flag = False\n",
    "    else:\n",
    "        print(f\"message is: {message}\")"
   ]
  },
  {
   "cell_type": "markdown",
   "id": "6522431f",
   "metadata": {},
   "source": [
    "### 死循环\n",
    "\n",
    "死循环指循环条件一直满足，导致程序一直在执行无法退出\n",
    "\n",
    "代码中设计死循环原因：有些方法可以手动跳出死循环，后面介绍"
   ]
  },
  {
   "cell_type": "code",
   "execution_count": 33,
   "id": "6ac19d60",
   "metadata": {},
   "outputs": [],
   "source": [
    "# 不能执行，执行后就卡死\n",
    "# while True:\n",
    "#     print(\"代码执行中\")"
   ]
  },
  {
   "cell_type": "markdown",
   "id": "d2c0a850",
   "metadata": {},
   "source": [
    "### 嵌套while循环"
   ]
  },
  {
   "cell_type": "code",
   "execution_count": 34,
   "id": "ce97d8b8",
   "metadata": {},
   "outputs": [
    {
     "name": "stdout",
     "output_type": "stream",
     "text": [
      "这是第1次循环\n",
      "内循环1\n",
      "内循环2\n",
      "内循环3\n",
      "内循环4\n",
      "内循环5\n",
      "这是第2次循环\n",
      "内循环1\n",
      "内循环2\n",
      "内循环3\n",
      "内循环4\n",
      "内循环5\n",
      "这是第3次循环\n",
      "内循环1\n",
      "内循环2\n",
      "内循环3\n",
      "内循环4\n",
      "内循环5\n"
     ]
    }
   ],
   "source": [
    "a = 1                    # 定义一个变量记录外循环的次数\n",
    "while a <= 3:            # 外循环\n",
    "    print(f\"这是第{a}次循环\")\n",
    "    b = 1                # 定义一个变量记录内循环的次数\n",
    "    while b <= 5:        # 内循环\n",
    "        print(f\"内循环{b}\")\n",
    "        b += 1           # 改变内循环变量的值\n",
    "    a += 1               # 改变外循环变量的值"
   ]
  },
  {
   "cell_type": "markdown",
   "id": "971f68e0",
   "metadata": {},
   "source": [
    "### 题目\n",
    "\n",
    "1. 需求：计算1-100的和"
   ]
  },
  {
   "cell_type": "code",
   "execution_count": 35,
   "id": "ac703131",
   "metadata": {},
   "outputs": [
    {
     "name": "stdout",
     "output_type": "stream",
     "text": [
      "计算结果: 5050\n"
     ]
    }
   ],
   "source": [
    "i = 1            # 定义一个初始值，从1开始计算，记录循环次数\n",
    "s = 0            # 定义一个保存计算结果的变量，最开始计算结果为0，因为一开始没有相加，s和i进行相加\n",
    "while i <= 100:  # 循环100次\n",
    "    # print(i)   # 循环打印出1-100\n",
    "    s = s+i      # 每次循环的计算结果和i进行相加\n",
    "    i += 1       # 每循环一次i的值加一\n",
    "    # print(\"计算结果:\",s)     \n",
    "# 输出最终计算结果\n",
    "print(\"计算结果:\", s)"
   ]
  },
  {
   "cell_type": "markdown",
   "id": "397acc07",
   "metadata": {},
   "source": [
    "## 次数循环（for）\n",
    "\n",
    "格式："
   ]
  },
  {
   "cell_type": "code",
   "execution_count": 37,
   "id": "e29023ac",
   "metadata": {},
   "outputs": [],
   "source": [
    "# for 临时变量 in 可迭代对象:    \n",
    "#     循环体(满足条件时执行的代码块)"
   ]
  },
  {
   "cell_type": "markdown",
   "id": "748d565b",
   "metadata": {},
   "source": [
    "### 字符串+for"
   ]
  },
  {
   "cell_type": "code",
   "execution_count": 38,
   "id": "3d0e5552",
   "metadata": {},
   "outputs": [
    {
     "name": "stdout",
     "output_type": "stream",
     "text": [
      "L\n",
      "J\n",
      "C\n",
      "1 <class 'str'>\n",
      "2 <class 'str'>\n",
      "3 <class 'str'>\n",
      "4 <class 'str'>\n",
      "5 <class 'str'>\n",
      "6 <class 'str'>\n",
      "7 <class 'str'>\n",
      "8 <class 'str'>\n",
      "9 <class 'str'>\n",
      "1 <class 'str'>\n",
      "0 <class 'str'>\n"
     ]
    }
   ],
   "source": [
    "st = \"LJC\"        # 定义一个字符串\n",
    "for i in st:          # 这里的i是临时变量，可以随便写，i是常规写法\n",
    "    print(i)\n",
    "    \n",
    "st = \"12345678910\"\n",
    "for i in st:\n",
    "    # print(i)\n",
    "    print(i, type(i))"
   ]
  },
  {
   "cell_type": "markdown",
   "id": "0e137ab1",
   "metadata": {},
   "source": [
    "### range函数+for\n",
    "\n",
    "格式：` range(start=0, stop, step=1)  `\n",
    "\n",
    "start：指定计数的起始值，可以省略，如果省略则从0开始\n",
    "\n",
    "stop： 指定计数的结束值(**但不包括该值**)，不能省略\n",
    "\n",
    "step： 指定步长，即两个数之间的间隔，可以省略，如果省略则表示步长为1\n",
    "\n",
    "注意：\n",
    "\n",
    "1. 如果只有一个值，那么代表stop，start = 0，左闭右开\n",
    "2. 如果有两个值，代表start + stop\n",
    "3. 如果有三个值，代表start + stop + step"
   ]
  },
  {
   "cell_type": "markdown",
   "id": "502807f3",
   "metadata": {},
   "source": [
    "### 注意缩进 "
   ]
  },
  {
   "cell_type": "code",
   "execution_count": 7,
   "id": "10984f5e",
   "metadata": {},
   "outputs": [
    {
     "name": "stdout",
     "output_type": "stream",
     "text": [
      "name:ljc\n",
      "name:ljc\n",
      "name:wyx\n",
      "name:wyx\n",
      "name:child\n",
      "name:child\n",
      "end\n"
     ]
    }
   ],
   "source": [
    "members = [\"ljc\", \"wyx\", \"child\"]\n",
    "# 循环体末尾需要:\n",
    "for member in members:\n",
    "    # 循环体主体需要缩进\n",
    "    print(f\"name:{member}\") # 格式化打印1\n",
    "    print(\"name:{}\" .format(member)) # 格式化打印2\n",
    "# 循环体之外不用缩进，不会多次打印\n",
    "print(\"end\")"
   ]
  },
  {
   "cell_type": "markdown",
   "id": "ff184a67",
   "metadata": {},
   "source": [
    "### 题目\n",
    "\n",
    "需求：\n",
    "\n",
    "1. 依次打印5个数据，[0, 5)"
   ]
  },
  {
   "cell_type": "code",
   "execution_count": 39,
   "id": "558919de",
   "metadata": {},
   "outputs": [
    {
     "name": "stdout",
     "output_type": "stream",
     "text": [
      "0\n",
      "1\n",
      "2\n",
      "3\n",
      "4\n"
     ]
    }
   ],
   "source": [
    "for i in range(5):     # 从0开始，5是结束值，但不包含5。可以理解成循环的次数。\n",
    "    print(i)"
   ]
  },
  {
   "cell_type": "markdown",
   "id": "2f96f1ab",
   "metadata": {},
   "source": [
    "2. 打印3遍哈哈哈"
   ]
  },
  {
   "cell_type": "code",
   "execution_count": 40,
   "id": "ef0b6350",
   "metadata": {},
   "outputs": [
    {
     "name": "stdout",
     "output_type": "stream",
     "text": [
      "0\n",
      "哈哈哈\n",
      "1\n",
      "哈哈哈\n",
      "2\n",
      "哈哈哈\n"
     ]
    }
   ],
   "source": [
    "for i in range(3):\n",
    "    print(i)\n",
    "    print(\"哈哈哈\")"
   ]
  },
  {
   "cell_type": "markdown",
   "id": "0a44799a",
   "metadata": {},
   "source": [
    "3. 打印1-5这5个数据"
   ]
  },
  {
   "cell_type": "code",
   "execution_count": 41,
   "id": "13677580",
   "metadata": {},
   "outputs": [
    {
     "name": "stdout",
     "output_type": "stream",
     "text": [
      "1\n",
      "2\n",
      "3\n",
      "4\n",
      "5\n"
     ]
    }
   ],
   "source": [
    "for i in range(1, 6):  # 从1开始，到6结束，不包括6本身\n",
    "    print(i)"
   ]
  },
  {
   "cell_type": "markdown",
   "id": "9f2575cd",
   "metadata": {},
   "source": [
    "4. 打印0-10之间间隔为2的数据"
   ]
  },
  {
   "cell_type": "code",
   "execution_count": 42,
   "id": "a20e5981",
   "metadata": {},
   "outputs": [
    {
     "name": "stdout",
     "output_type": "stream",
     "text": [
      "0\n",
      "2\n",
      "4\n",
      "6\n",
      "8\n",
      "10\n"
     ]
    }
   ],
   "source": [
    "for i in range(0, 11, 2):     # 从0开始，到11结束，不包含11，步长为2\n",
    "    print(i)   # 0 2 4 6 8 10"
   ]
  },
  {
   "cell_type": "markdown",
   "id": "eb82ea65",
   "metadata": {},
   "source": [
    "5. 利用for循环计算1-100的和，并且输出出来"
   ]
  },
  {
   "cell_type": "code",
   "execution_count": 43,
   "id": "79f80aec",
   "metadata": {},
   "outputs": [
    {
     "name": "stdout",
     "output_type": "stream",
     "text": [
      "结果为: 5050\n"
     ]
    }
   ],
   "source": [
    "s = 0                   # 定义一个变量保存计算结果\n",
    "for i in range(1,101):  # 从1开始，到100结束，不包含101这个数字\n",
    "    # print(i)\n",
    "    s += i              # 等效于s=s+i,每次循环出来的计算结果与i进行相加\n",
    "    #print(\"结果为:\",s)  # 写在循环里面就会循环输出计算结果\n",
    "print(\"结果为:\",s)"
   ]
  },
  {
   "cell_type": "markdown",
   "id": "2fa82a20",
   "metadata": {},
   "source": [
    "# continue、break\n",
    "\n",
    "作用：用于循环中，用于结束循环。continue结束本次循环，break结束当前循环。\n",
    "\n",
    "区别：假设目前在循环A中，需要循环100次，目前是第50次。如果执行continue，第50次循环结束，继续执行第51次循环；如果执行break，本次循环直接结束，跳出循环体。"
   ]
  },
  {
   "cell_type": "markdown",
   "id": "e2f660ff",
   "metadata": {},
   "source": [
    "## continue\n",
    "\n",
    "作用：退出本次循环，下一次循环继续执行"
   ]
  },
  {
   "cell_type": "markdown",
   "id": "c967cbb1",
   "metadata": {},
   "source": [
    "### 需求1\n",
    "\n",
    "1. 吃5个苹果，第3个苹果坏了，吃到了一条虫子，扔掉，继续吃第四个、第五个"
   ]
  },
  {
   "cell_type": "code",
   "execution_count": 46,
   "id": "ee207f50",
   "metadata": {},
   "outputs": [
    {
     "name": "stdout",
     "output_type": "stream",
     "text": [
      "我在吃第1个苹果\n",
      "我在吃第2个苹果\n",
      "我在吃第3个苹果\n",
      "吃到了大虫子，不吃第3个苹果了\n",
      "我在吃第4个苹果\n",
      "我在吃第5个苹果\n"
     ]
    }
   ],
   "source": [
    "i = 1\n",
    "while i <= 5:\n",
    "    print(f\"我在吃第{i}个苹果\")\n",
    "    if i == 3:\n",
    "        print(f\"吃到了大虫子，不吃第{i}个苹果了\")\n",
    "        # 在continue之前一定要修改计数器，否则会陷入死循环\n",
    "        i += 1\n",
    "        continue\n",
    "    i += 1"
   ]
  },
  {
   "cell_type": "markdown",
   "id": "3863e6ce",
   "metadata": {},
   "source": [
    "### 需求2\n",
    "跑步，原计划跑十圈，跑到第2圈中途，发现wyx也要跑步，于是跑回起点等待，制造一次完美邂逅，继续跑第3圈"
   ]
  },
  {
   "cell_type": "code",
   "execution_count": 48,
   "id": "7c5bc9f8",
   "metadata": {},
   "outputs": [
    {
     "name": "stdout",
     "output_type": "stream",
     "text": [
      "跑第1次\n"
     ]
    }
   ],
   "source": [
    "i = 1\n",
    "while i <= 10:\n",
    "    print(f\"跑第{i}次\")\n",
    "    if i == 2:\n",
    "        print(\"女神也要跑，第{i}圈不跑了，回原点和女神邂逅\")\n",
    "        i += 1\n",
    "        continue\n",
    "    i += 10"
   ]
  },
  {
   "cell_type": "markdown",
   "id": "6f10ccc7",
   "metadata": {},
   "source": [
    "注意：break和continue只针对当前所在的循环（最近的一层循环）有效"
   ]
  },
  {
   "cell_type": "code",
   "execution_count": 49,
   "id": "a05a6618",
   "metadata": {
    "scrolled": true
   },
   "outputs": [
    {
     "name": "stdout",
     "output_type": "stream",
     "text": [
      "这是1\n",
      "这是第1次循环\n",
      "这是第2次循环\n",
      "这是1\n",
      "这是第1次循环\n",
      "这是2\n",
      "这是第1次循环\n",
      "这是3\n",
      "这是第1次循环\n",
      "这是4\n",
      "这是第1次循环\n"
     ]
    }
   ],
   "source": [
    "# 情况一:在外循环添加break关键字\n",
    "i = 1\n",
    "while i < 5:        # 外循环\n",
    "    if i == 2:\n",
    "        break       # i的值为2时结束外循环，不再执行后面的代码，内循环包含在外循环之中\n",
    "    print(f'这是{i}')\n",
    "    j = 1\n",
    "    while j < 3:    # 内循环\n",
    "        print(f\"这是第{j}次循环\")\n",
    "        j += 1\n",
    "    i += 1\n",
    "    \n",
    "    \n",
    "    \n",
    "    \n",
    "# 情况二:在内循环添加break关键字\n",
    "i = 1\n",
    "while i < 5:        # 外循环\n",
    "    #if i == 2:\n",
    "    #    break      # i的值为2时结束外循环，不再执行后面的代码，内循环包含在外循环之中\n",
    "    print(f'这是{i}')\n",
    "    j = 1\n",
    "    while j < 3:    # 内循环\n",
    "        if j == 2:\n",
    "            break   # j的值为2时结束内循环，继续执行外循环\n",
    "        print(f\"这是第{j}次循环\")\n",
    "        j += 1\n",
    "    i += 1"
   ]
  },
  {
   "cell_type": "markdown",
   "id": "084ee6ee",
   "metadata": {},
   "source": [
    "## break\n",
    "\n",
    "作用：某一条件满足时，退出循环\n",
    "\n",
    "### 需求1\n",
    "吃5个苹果，吃完第3个吃饱了，不再继续吃"
   ]
  },
  {
   "cell_type": "code",
   "execution_count": 44,
   "id": "970bd4e9",
   "metadata": {},
   "outputs": [
    {
     "name": "stdout",
     "output_type": "stream",
     "text": [
      "我在吃第1个苹果\n",
      "我在吃第2个苹果\n",
      "我在吃第3个苹果\n",
      "吃撑了不吃了\n"
     ]
    }
   ],
   "source": [
    "i = 1\n",
    "while i <= 5:\n",
    "    print(f\"我在吃第{i}个苹果\")\n",
    "    if i == 3:\n",
    "        print(\"吃撑了不吃了\")   # 如果i的值为3就跳出当前循环，不再执行了，i=3之后的都不执行\n",
    "        break\n",
    "    i += 1"
   ]
  },
  {
   "cell_type": "markdown",
   "id": "59916c36",
   "metadata": {},
   "source": [
    "### 需求2\n",
    "跑步，原计划跑十圈，跑到第2圈看到wyx，终止跑步"
   ]
  },
  {
   "cell_type": "code",
   "execution_count": 45,
   "id": "35645b8f",
   "metadata": {},
   "outputs": [
    {
     "name": "stdout",
     "output_type": "stream",
     "text": [
      "跑第1圈\n"
     ]
    }
   ],
   "source": [
    "i = 1\n",
    "while i <= 10:\n",
    "    print(f\"跑第{i}圈\")\n",
    "    if i == 2:\n",
    "        print(\"遇到女神了，不跑了\")\n",
    "        break\n",
    "    i += 10"
   ]
  },
  {
   "cell_type": "code",
   "execution_count": null,
   "id": "0925b9f6",
   "metadata": {},
   "outputs": [],
   "source": []
  },
  {
   "cell_type": "code",
   "execution_count": null,
   "id": "38a1627d",
   "metadata": {},
   "outputs": [],
   "source": []
  },
  {
   "cell_type": "markdown",
   "id": "3e39d895",
   "metadata": {},
   "source": [
    "# 练习题"
   ]
  },
  {
   "cell_type": "markdown",
   "id": "23b17794",
   "metadata": {},
   "source": [
    "## 完成用户登录系统  \n",
    "用户登录验证(判断用户名和密码是否匹配成功，登录成功则可以聊天，否则登录失败。)"
   ]
  },
  {
   "cell_type": "code",
   "execution_count": 50,
   "id": "6849988f",
   "metadata": {},
   "outputs": [
    {
     "name": "stdout",
     "output_type": "stream",
     "text": [
      "请输入您的用户名:1\n",
      "请输入您的密码:1\n",
      "登录失败，用户名或密码有误！\n"
     ]
    }
   ],
   "source": [
    "# 正确的用户名和密码\n",
    "user_name = 'ljc'\n",
    "password = \"2001\"\n",
    "# 用户输入用户名和密码\n",
    "uname = input(\"请输入您的用户名:\")\n",
    "upwd = input(\"请输入您的密码:\")\n",
    "# 判断用户名和密码是否匹配\n",
    "if uname == user_name and upwd == password:\n",
    "    print(\"可以聊天了...\")\n",
    "else:\n",
    "    print(\"登录失败，用户名或密码有误！\")"
   ]
  },
  {
   "cell_type": "markdown",
   "id": "44d82d7a",
   "metadata": {},
   "source": [
    "## 火车站安检"
   ]
  },
  {
   "cell_type": "code",
   "execution_count": 51,
   "id": "341fd29f",
   "metadata": {},
   "outputs": [
    {
     "name": "stdout",
     "output_type": "stream",
     "text": [
      "可以进站了-->体温异常，需要隔离\n"
     ]
    }
   ],
   "source": [
    "# 定义布尔型变量ticket 表示是否有车票\n",
    "ticket = True     # True代表有车票，False代表无车票\n",
    "# 定义浮点型变量保存体温\n",
    "temp = 38.5\n",
    "if ticket: # (== True):           # 外层if判断\n",
    "    print(\"可以进站了-->\",end=\"\")\n",
    "    # 安检时，需要检查体温，判断体温是否正常\n",
    "    # 正常人体的腋下体温是36.3°到37.2°\n",
    "    if  36.3 <= temp <= 37.2:     # 内层if判断\n",
    "        print(\"通过安检，终于可以回家了\")\n",
    "    else:\n",
    "        print(\"体温异常，需要隔离\")\n",
    "# 如果没有车票，不能进站\n",
    "else:\n",
    "    print(\"没票不能进站\")"
   ]
  },
  {
   "cell_type": "markdown",
   "id": "39893597",
   "metadata": {},
   "source": [
    "思考题：如果这里temp改成输入的体温怎么做？"
   ]
  }
 ],
 "metadata": {
  "kernelspec": {
   "display_name": "Python 3",
   "language": "python",
   "name": "python3"
  },
  "language_info": {
   "codemirror_mode": {
    "name": "ipython",
    "version": 3
   },
   "file_extension": ".py",
   "mimetype": "text/x-python",
   "name": "python",
   "nbconvert_exporter": "python",
   "pygments_lexer": "ipython3",
   "version": "3.8.8"
  },
  "toc": {
   "base_numbering": 1,
   "nav_menu": {},
   "number_sections": true,
   "sideBar": true,
   "skip_h1_title": false,
   "title_cell": "Table of Contents",
   "title_sidebar": "Contents",
   "toc_cell": false,
   "toc_position": {
    "height": "calc(100% - 180px)",
    "left": "10px",
    "top": "150px",
    "width": "253px"
   },
   "toc_section_display": true,
   "toc_window_display": true
  }
 },
 "nbformat": 4,
 "nbformat_minor": 5
}
