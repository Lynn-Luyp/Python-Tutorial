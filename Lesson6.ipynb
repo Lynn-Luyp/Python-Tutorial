{
 "cells": [
  {
   "cell_type": "markdown",
   "id": "931c03ab",
   "metadata": {},
   "source": [
    "# 面向对象基础（OOP）\n",
    "\n",
    "## 含义\n",
    "\n",
    "是一种抽象化的编程思想，是当前软件开发领域的主流技术\n",
    "\n",
    "## 区别\n",
    "\n",
    "1. 面向过程：需要实现一个功能的时候，看重的是过程，分析出一个个步骤，并把一个个步骤用一个个函数实现，再依次去调用一个个函数即可\n",
    "2. 面向对象：需要实现一个功能的时候，看重的是谁去帮我做这件事情\n",
    "\n",
    "## 作用\n",
    "\n",
    "面向对象编程(OOP)就是主要针对大型软件设计而提出的，可以使软件设计更加灵活，并且更好的进行代码复用\n",
    "\n",
    "## 三大特性\n",
    "\n",
    "封装、继承和多态\n",
    "\n",
    "# 类和对象\n",
    "\n",
    "## 类\n",
    "\n",
    "类就是对一系列具有相同属性和行为的事物的统称。类拥有两个特征：属性 & 行为\n",
    "1. 属性（静态，不变），用来描述是什么样子的。\n",
    "\n",
    "2. 行为（动态，改变）就是所具备的功能，用来说明它能做什么。\n",
    "\n",
    "## 对象\n",
    "\n",
    "对象就是类的具体表现，是类创建出来的真实存在的事物，也是面向对象编程思想的核心\n",
    "\n",
    "## 两者关系\n",
    "\n",
    "先有类，再有对象\n",
    "\n",
    "## 举例\n",
    "\n",
    "类：长方形是一个类，表示一类东西。属性：长、宽，行为：计算面积\n",
    "\n",
    "对象：长方形A（长2宽2，面积4）；长方形B（长10宽10，面积100）...\n",
    "\n",
    "## 定义类\n",
    "\n",
    "语法格式："
   ]
  },
  {
   "cell_type": "code",
   "execution_count": 1,
   "id": "44efbcef",
   "metadata": {},
   "outputs": [],
   "source": [
    "# 语法格式：\n",
    "# class Name:     \n",
    "#     \"\"\"描述信息\"\"\"     # 类文档字符串(相当于帮助文档)\n",
    "#     类体                     \n",
    "# 注意: 类名要符合标识符规定，同时遵循大驼峰命名法，见名知意。"
   ]
  },
  {
   "cell_type": "markdown",
   "id": "c5b94000",
   "metadata": {},
   "source": [
    "补：大驼峰命名法：TheNameOfClass\n",
    "\n",
    "补充：公有变量、保护变量、私有变量（较难，无需掌握）\n",
    "\n",
    "### 示例1"
   ]
  },
  {
   "cell_type": "code",
   "execution_count": 5,
   "id": "be19ac7a",
   "metadata": {},
   "outputs": [],
   "source": [
    "class Rectangle:\n",
    "    \"\"\"长方形类\"\"\"\n",
    "    def __init__(self, width, height): # 定义类\n",
    "        self.width = width\n",
    "        self.height = height\n",
    "    area = 1"
   ]
  },
  {
   "cell_type": "markdown",
   "id": "4e5da455",
   "metadata": {},
   "source": [
    "self指的是对象本身，可以认为python中，类的方法，第一个参数都要为self\n",
    "\n",
    "self是大家约定俗称的规定，实际可以叫别的名字"
   ]
  },
  {
   "cell_type": "markdown",
   "id": "bc163815",
   "metadata": {},
   "source": [
    "## 创建类对象 / 实例化对象"
   ]
  },
  {
   "cell_type": "code",
   "execution_count": 6,
   "id": "07d4cd6d",
   "metadata": {},
   "outputs": [
    {
     "name": "stdout",
     "output_type": "stream",
     "text": [
      "<__main__.Rectangle object at 0x000001785B582BE0>\n",
      "<__main__.Rectangle object at 0x000001785B582E80>\n"
     ]
    }
   ],
   "source": [
    "rec1 = Rectangle(2, 2)\n",
    "print(rec1) # 打印内存地址\n",
    "\n",
    "rec2 = Rectangle(10, 10)\n",
    "print(rec2) # 打印内存地址"
   ]
  },
  {
   "cell_type": "markdown",
   "id": "e3eb6722",
   "metadata": {},
   "source": [
    "## 类中定义方法"
   ]
  },
  {
   "cell_type": "code",
   "execution_count": 9,
   "id": "4cde3e6c",
   "metadata": {},
   "outputs": [
    {
     "name": "stdout",
     "output_type": "stream",
     "text": [
      "<__main__.Rectangle object at 0x000001785B4CC3D0>\n",
      "<__main__.Rectangle object at 0x000001785B4CC880>\n",
      "4\n",
      "100\n"
     ]
    }
   ],
   "source": [
    "class Rectangle:\n",
    "    \"\"\"长方形类\"\"\"\n",
    "    def __init__(self, width, height): # 定义类\n",
    "        self.width = width\n",
    "        self.height = height\n",
    "    \n",
    "    def get_area(self): # 定义方法\n",
    "        return self.width * self.height\n",
    "\n",
    "rec1 = Rectangle(2, 2)\n",
    "print(rec1) # 打印内存地址\n",
    "\n",
    "rec2 = Rectangle(10, 10)\n",
    "print(rec2) # 打印内存地址\n",
    "\n",
    "print(rec1.get_area())\n",
    "print(rec2.get_area())"
   ]
  },
  {
   "cell_type": "markdown",
   "id": "2718dc0e",
   "metadata": {},
   "source": [
    "## 类属性\n",
    "\n",
    "1. 写在 **init** 方法之前\n",
    "2. 所有变量共用一份，修改此变量时会影响所有变量！\n",
    "3. 一般此属性表示和对象无关，或者用来计算对象数量的时候，可以使用"
   ]
  },
  {
   "cell_type": "code",
   "execution_count": 11,
   "id": "e18c91aa",
   "metadata": {},
   "outputs": [
    {
     "name": "stdout",
     "output_type": "stream",
     "text": [
      "<__main__.Rectangle object at 0x000001785B4B6FD0>\n",
      "1\n",
      "<__main__.Rectangle object at 0x000001785B4B6A00>\n",
      "2\n",
      "2\n"
     ]
    }
   ],
   "source": [
    "class Rectangle:\n",
    "    \"\"\"长方形类\"\"\"\n",
    "    count = 0 # 类属性\n",
    "    def __init__(self, width, height): # 定义类\n",
    "        self.width = width\n",
    "        self.height = height\n",
    "        Rectangle.count += 1 # 对象中访问类属性，需要加类名\n",
    "    \n",
    "    def get_area(self): # 定义方法\n",
    "        return self.width * self.height\n",
    "\n",
    "rec1 = Rectangle(2, 2)\n",
    "print(rec1) # 打印内存地址\n",
    "print(rec1.count)\n",
    "\n",
    "rec2 = Rectangle(10, 10)\n",
    "print(rec2) # 打印内存地址\n",
    "print(rec2.count)\n",
    "\n",
    "print(rec1.count) # 已修改"
   ]
  },
  {
   "cell_type": "markdown",
   "id": "75fac630",
   "metadata": {},
   "source": [
    "格式：\n",
    "\n",
    "1. 对象名.属性名，比如 `rec1.count` \n",
    "2. 类名.属性名  `Rectangle.count` \n",
    "\n",
    "## 实例属性\n",
    "\n",
    "格式：\n",
    "\n",
    "1. 对象名.属性名，比如 `rec1.width` \n",
    "2. 不能通过类名.属性名访问！ `Rectangle.width`  不行！"
   ]
  },
  {
   "cell_type": "markdown",
   "id": "6a598114",
   "metadata": {},
   "source": [
    "# 构造函数\n",
    "\n",
    "`__init__` 函数，在实例化对象的时候会直接调用"
   ]
  },
  {
   "cell_type": "code",
   "execution_count": 14,
   "id": "a0dbe3e9",
   "metadata": {},
   "outputs": [
    {
     "name": "stdout",
     "output_type": "stream",
     "text": [
      "我是人类!\n",
      "我是人类!\n",
      "你好呀，我叫ljc，今年24岁了，性别为male。\n",
      "你好呀，我叫lyp，今年27岁了，性别为male。\n"
     ]
    }
   ],
   "source": [
    "class Person:\n",
    "    def __init__(self, name, age, sex):\n",
    "        print(\"我是人类!\")\n",
    "        self.name = name\n",
    "        self.age = age\n",
    "        self.sex = sex\n",
    "\n",
    "    def say_hello(self):\n",
    "        print(f\"你好呀，我叫{self.name}，今年{self.age}岁了，性别为{self.sex}。\")\n",
    "        \n",
    "# 实例化对象\n",
    "ljc = Person(\"ljc\", 24, \"male\")\n",
    "lyp = Person(\"lyp\", 27, \"male\")\n",
    "\n",
    "ljc.say_hello()\n",
    "lyp.say_hello()"
   ]
  },
  {
   "cell_type": "markdown",
   "id": "e9d641cd",
   "metadata": {},
   "source": [
    "# 析构函数\n",
    "\n",
    "`__del__` 对象生命周期结束前（程序执行结束，或者删除对象），自动执行 `__del__` 方法"
   ]
  },
  {
   "cell_type": "code",
   "execution_count": 15,
   "id": "0e5b938c",
   "metadata": {},
   "outputs": [
    {
     "name": "stdout",
     "output_type": "stream",
     "text": [
      "in\n",
      "我是实例化对象时会自动执行的__init__方法。\n",
      "out\n",
      "我是实例化对象时会自动执行的__init__方法。\n",
      "我是程序执行结束后会自动执行的__del__方法。\n",
      "我是程序执行结束后会自动执行的__del__方法。\n"
     ]
    }
   ],
   "source": [
    "class Person:\n",
    "    def __init__(self):\n",
    "        print(\"我是实例化对象时会自动执行的__init__方法。\")\n",
    "    def __del__(self):\n",
    "        print(\"我是程序执行结束后会自动执行的__del__方法。\")\n",
    "\n",
    "print(\"in\")\n",
    "for i in range(1):\n",
    "    p = Person() # 这里是p生效的作用域，离开for循环后p就不会被使用\n",
    "print(\"out\")\n",
    "\n",
    "p = Person()\n",
    "del p # 手动删除对象"
   ]
  },
  {
   "cell_type": "markdown",
   "id": "73299e8c",
   "metadata": {},
   "source": [
    "# 打印函数\n",
    "\n",
    "`__str__` 函数，必须有返回值，且是字符串类型"
   ]
  },
  {
   "cell_type": "code",
   "execution_count": 17,
   "id": "241e29fb",
   "metadata": {},
   "outputs": [
    {
     "name": "stdout",
     "output_type": "stream",
     "text": [
      "<__main__.Rectangle1 object at 0x000001785B66D190>\n",
      "这是打印的内容:宽为2, 高为2\n"
     ]
    }
   ],
   "source": [
    "class Rectangle1:\n",
    "    \"\"\"长方形类\"\"\"\n",
    "    def __init__(self, width, height): # 定义类\n",
    "        self.width = width\n",
    "        self.height = height\n",
    "\n",
    "rec1 = Rectangle1(2, 2)\n",
    "\n",
    "print(rec1) # 正常打印，修改前打印对象地址\n",
    "\n",
    "\n",
    "class Rectangle2:\n",
    "    \"\"\"长方形类\"\"\"\n",
    "    def __init__(self, width, height): # 定义类\n",
    "        self.width = width\n",
    "        self.height = height\n",
    "        \n",
    "    def __str__(self):\n",
    "        return f\"这是打印的内容:宽为{self.width}, 高为{self.height}\"\n",
    " \n",
    "rec2 = Rectangle2(2, 2)\n",
    "\n",
    "print(rec2) # 修改后打印想要的内容"
   ]
  }
 ],
 "metadata": {
  "kernelspec": {
   "display_name": "Python 3",
   "language": "python",
   "name": "python3"
  },
  "language_info": {
   "codemirror_mode": {
    "name": "ipython",
    "version": 3
   },
   "file_extension": ".py",
   "mimetype": "text/x-python",
   "name": "python",
   "nbconvert_exporter": "python",
   "pygments_lexer": "ipython3",
   "version": "3.8.8"
  },
  "toc": {
   "base_numbering": 1,
   "nav_menu": {},
   "number_sections": true,
   "sideBar": true,
   "skip_h1_title": false,
   "title_cell": "Table of Contents",
   "title_sidebar": "Contents",
   "toc_cell": false,
   "toc_position": {
    "height": "calc(100% - 180px)",
    "left": "10px",
    "top": "150px",
    "width": "253px"
   },
   "toc_section_display": true,
   "toc_window_display": true
  }
 },
 "nbformat": 4,
 "nbformat_minor": 5
}
