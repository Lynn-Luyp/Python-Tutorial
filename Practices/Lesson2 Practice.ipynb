{
 "cells": [
  {
   "cell_type": "markdown",
   "id": "a22515fc",
   "metadata": {},
   "source": [
    "# Python 入门讲义\n",
    "\n",
    "适用时长：约 90 分钟\n",
    "\n",
    "包含：\n",
    "- 运算符、输入函数、转义字符\n",
    "- 字符串及基本方法\n",
    "- 列表及基本方法\n",
    "- 元组及基本方法\n",
    "\n",
    "每部分配有练习题和答案"
   ]
  },
  {
   "cell_type": "markdown",
   "id": "842bd3ce",
   "metadata": {},
   "source": [
    "## 一、运算符、输入函数、转义字符（10分钟）"
   ]
  },
  {
   "cell_type": "markdown",
   "id": "5e40d708",
   "metadata": {},
   "source": [
    "### 1. 运算符\n",
    "- 算术运算符：`+ - * / // % **`\n",
    "- 赋值运算符：`= += -= *= /=`\n",
    "\n",
    "```python\n",
    "# 示例\n",
    "x = 10\n",
    "y = 3\n",
    "print(x + y)   # 13\n",
    "print(x // y)  # 3\n",
    "print(x % y)   # 1\n",
    "```\n",
    "\n",
    "### 2. 输入函数\n",
    "```python\n",
    "name = input(\"请输入你的名字: \")\n",
    "print(\"你好\", name)\n",
    "```\n",
    "\n",
    "### 3. 转义字符\n",
    "- `\\n` 换行\n",
    "- `\\t` 制表符\n",
    "- `\\\\` 输出反斜杠\n",
    "\n",
    "```python\n",
    "print(\"Hello\\nWorld\")\n",
    "```"
   ]
  },
  {
   "cell_type": "markdown",
   "id": "c7e31db8",
   "metadata": {},
   "source": [
    "#### 【练习题】\n",
    "1. 计算 17 除以 4 的商和余数。\n",
    "2. 输入一个名字，打印出 `你好, <名字>`。\n",
    "3. 使用转义字符打印：\n",
    "```\n",
    "Python\n",
    "\tis fun!\n",
    "```"
   ]
  },
  {
   "cell_type": "code",
   "execution_count": null,
   "id": "bf172b98",
   "metadata": {},
   "outputs": [],
   "source": [
    "# 答案\n",
    "# 1\n",
    "print(17 // 4)  # 商 4\n",
    "print(17 % 4)   # 余数 1\n",
    "\n",
    "# 2\n",
    "name = \"小明\"  # 模拟输入\n",
    "print(\"你好,\", name)\n",
    "\n",
    "# 3\n",
    "print(\"Python\\n\\tis fun!\")"
   ]
  },
  {
   "cell_type": "markdown",
   "id": "4ce0aa06",
   "metadata": {},
   "source": [
    "## 二、字符串及基本方法（35分钟）"
   ]
  },
  {
   "cell_type": "markdown",
   "id": "64c21512",
   "metadata": {},
   "source": [
    "### 1. 字符串拼接\n",
    "```python\n",
    "s1 = \"Hello\"\n",
    "s2 = \"World\"\n",
    "print(s1 + \" \" + s2)\n",
    "```\n",
    "\n",
    "### 2. 字符串切片\n",
    "```python\n",
    "text = \"Python\"\n",
    "print(text[0:3])  # Pyt\n",
    "print(text[-3:])  # hon\n",
    "```\n",
    "\n",
    "### 3. 常用方法\n",
    "- `len(s)` 获取长度\n",
    "- `s.find(sub)` 查找\n",
    "- `s.upper()` 大写\n",
    "- `s.lower()` 小写\n",
    "- `s.replace(old, new)` 替换\n",
    "- `s.split(sep)` 分割\n",
    "\n",
    "```python\n",
    "msg = \"hello python\"\n",
    "print(msg.upper())      # HELLO PYTHON\n",
    "print(msg.replace(\"python\", \"world\"))\n",
    "```"
   ]
  },
  {
   "cell_type": "markdown",
   "id": "51503284",
   "metadata": {},
   "source": [
    "#### 【练习题】\n",
    "1. 拼接字符串 `Python` 和 `3.10`，输出 `Python 3.10`。\n",
    "2. 对字符串 `abcdefg`，切片输出：`bcd`。\n",
    "3. 把 `Hello World` 转成小写。\n",
    "4. 在 `I like Java` 中，将 `Java` 替换成 `Python`。\n",
    "5. 将字符串 `a,b,c,d` 按逗号分割成列表。"
   ]
  },
  {
   "cell_type": "code",
   "execution_count": null,
   "id": "6e50e6e7",
   "metadata": {},
   "outputs": [],
   "source": [
    "# 答案\n",
    "# 1\n",
    "print(\"Python\" + \" \" + \"3.10\")\n",
    "\n",
    "# 2\n",
    "print(\"abcdefg\"[1:4])\n",
    "\n",
    "# 3\n",
    "print(\"Hello World\".lower())\n",
    "\n",
    "# 4\n",
    "print(\"I like Java\".replace(\"Java\", \"Python\"))\n",
    "\n",
    "# 5\n",
    "print(\"a,b,c,d\".split(\",\"))"
   ]
  },
  {
   "cell_type": "markdown",
   "id": "c4cde856",
   "metadata": {},
   "source": [
    "## 三、列表及基本方法（35分钟）"
   ]
  },
  {
   "cell_type": "markdown",
   "id": "377bea48",
   "metadata": {},
   "source": [
    "### 1. 创建与索引\n",
    "```python\n",
    "nums = [10, 20, 30]\n",
    "print(nums[0])  # 10\n",
    "```\n",
    "\n",
    "### 2. 常用方法\n",
    "- `append(x)` 增加元素\n",
    "- `insert(i, x)` 指定位置插入\n",
    "- `remove(x)` 删除元素\n",
    "- `pop(i)` 弹出元素\n",
    "- `sort()` 排序\n",
    "- `len(lst)` 长度\n",
    "- 切片：`lst[start:end]`\n",
    "\n",
    "```python\n",
    "lst = [3,1,2]\n",
    "lst.sort()\n",
    "print(lst)  # [1,2,3]\n",
    "```"
   ]
  },
  {
   "cell_type": "markdown",
   "id": "e9437b7f",
   "metadata": {},
   "source": [
    "#### 【练习题】\n",
    "1. 创建一个列表 `[1, 2, 3]`，在末尾加上 `4`。\n",
    "2. 在列表 `[10, 20, 30]` 的索引 1 处插入 `15`。\n",
    "3. 删除 `[5, 6, 7]` 中的元素 `6`。\n",
    "4. 对 `[3, 1, 4, 2]` 进行排序。\n",
    "5. 获取 `[10, 20, 30, 40, 50]` 的长度，并切片输出 `[20, 30, 40]`。"
   ]
  },
  {
   "cell_type": "code",
   "execution_count": null,
   "id": "86461286",
   "metadata": {},
   "outputs": [],
   "source": [
    "# 答案\n",
    "# 1\n",
    "lst = [1, 2, 3]\n",
    "lst.append(4)\n",
    "print(lst)\n",
    "\n",
    "# 2\n",
    "lst = [10, 20, 30]\n",
    "lst.insert(1, 15)\n",
    "print(lst)\n",
    "\n",
    "# 3\n",
    "lst = [5, 6, 7]\n",
    "lst.remove(6)\n",
    "print(lst)\n",
    "\n",
    "# 4\n",
    "lst = [3, 1, 4, 2]\n",
    "lst.sort()\n",
    "print(lst)\n",
    "\n",
    "# 5\n",
    "lst = [10, 20, 30, 40, 50]\n",
    "print(len(lst))\n",
    "print(lst[1:4])"
   ]
  },
  {
   "cell_type": "markdown",
   "id": "35c002ae",
   "metadata": {},
   "source": [
    "## 四、元组及基本方法（10分钟）"
   ]
  },
  {
   "cell_type": "markdown",
   "id": "b2272783",
   "metadata": {},
   "source": [
    "### 1. 定义元组\n",
    "```python\n",
    "t = (1, 2, 3)\n",
    "print(t[0])\n",
    "```\n",
    "\n",
    "### 2. 特点\n",
    "- **不可变**：不能修改元素\n",
    "- 可以索引、切片、遍历\n",
    "\n",
    "### 3. 常用方法\n",
    "- `len(t)` 长度\n",
    "- `t.index(x)` 查找下标\n",
    "- `t.count(x)` 计数\n",
    "\n",
    "```python\n",
    "t = (1,2,2,3)\n",
    "print(t.count(2))  # 2\n",
    "```"
   ]
  },
  {
   "cell_type": "markdown",
   "id": "f93df3ed",
   "metadata": {},
   "source": [
    "#### 【练习题】\n",
    "1. 定义一个元组 `(10, 20, 30)`，取出第 2 个元素。\n",
    "2. 对 `(1, 2, 2, 3)` 统计 `2` 出现的次数。\n",
    "3. 将元组 `(100, 200, 300, 400)` 切片输出 `(200, 300)`。"
   ]
  },
  {
   "cell_type": "code",
   "execution_count": null,
   "id": "6aca2e35",
   "metadata": {},
   "outputs": [],
   "source": [
    "# 答案\n",
    "# 1\n",
    "t = (10, 20, 30)\n",
    "print(t[1])\n",
    "\n",
    "# 2\n",
    "t = (1, 2, 2, 3)\n",
    "print(t.count(2))\n",
    "\n",
    "# 3\n",
    "t = (100, 200, 300, 400)\n",
    "print(t[1:3])"
   ]
  }
 ],
 "metadata": {
  "kernelspec": {
   "display_name": "Python 3",
   "language": "python",
   "name": "python3"
  },
  "language_info": {
   "codemirror_mode": {
    "name": "ipython",
    "version": 3
   },
   "file_extension": ".py",
   "mimetype": "text/x-python",
   "name": "python",
   "nbconvert_exporter": "python",
   "pygments_lexer": "ipython3",
   "version": "3.8.8"
  },
  "toc": {
   "base_numbering": 1,
   "nav_menu": {},
   "number_sections": true,
   "sideBar": true,
   "skip_h1_title": false,
   "title_cell": "Table of Contents",
   "title_sidebar": "Contents",
   "toc_cell": false,
   "toc_position": {},
   "toc_section_display": true,
   "toc_window_display": false
  }
 },
 "nbformat": 4,
 "nbformat_minor": 5
}
