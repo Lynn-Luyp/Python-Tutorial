{
 "cells": [
  {
   "cell_type": "markdown",
   "id": "a22515fc",
   "metadata": {},
   "source": [
    "# Lesson2 Practice\n",
    "\n",
    "适用时长：约 90 分钟\n",
    "\n",
    "包含：\n",
    "- 运算符、输入函数、转义字符\n",
    "- 字符串及基本方法\n",
    "- 列表及基本方法\n",
    "- 元组及基本方法\n",
    "\n",
    "每部分配有练习题和答案"
   ]
  },
  {
   "cell_type": "markdown",
   "id": "842bd3ce",
   "metadata": {},
   "source": [
    "## 运算符、输入函数、转义字符"
   ]
  },
  {
   "cell_type": "markdown",
   "id": "c7e31db8",
   "metadata": {},
   "source": [
    "1. 计算 17 除以 4 的商和余数。\n",
    "2. 输入一个名字，打印出 `你好, <名字>`。\n",
    "3. 使用转义字符打印：\n",
    "```\n",
    "Python\n",
    "\tis fun!\n",
    "```"
   ]
  },
  {
   "cell_type": "code",
   "execution_count": 12,
   "id": "c9ebe355",
   "metadata": {
    "code_folding": [
     0
    ]
   },
   "outputs": [
    {
     "name": "stdout",
     "output_type": "stream",
     "text": [
      "4\n",
      "1\n",
      "你好, 小明\n",
      "Python\n",
      "\tis fun!\n"
     ]
    }
   ],
   "source": [
    "# 答案\n",
    "# 1\n",
    "print(17 // 4)  # 商 4\n",
    "print(17 % 4)   # 余数 1\n",
    "\n",
    "# 2\n",
    "name = \"小明\"  # 模拟输入\n",
    "print(\"你好,\", name)\n",
    "\n",
    "# 3\n",
    "print(\"Python\\n\\tis fun!\")"
   ]
  },
  {
   "cell_type": "markdown",
   "id": "4ce0aa06",
   "metadata": {},
   "source": [
    "## 字符串及基本方法（35分钟）"
   ]
  },
  {
   "cell_type": "markdown",
   "id": "51503284",
   "metadata": {},
   "source": [
    "1. 拼接字符串 `Python` 和 `3.10`，输出 `Python 3.10`。\n",
    "2. 对字符串 `abcdefg`，切片输出：`bcd`。\n",
    "3. 把 `Hello World` 转成小写。\n",
    "4. 在 `I like Java` 中，将 `Java` 替换成 `Python`。\n",
    "5. 将字符串 `a,b,c,d` 按逗号分割成列表。"
   ]
  },
  {
   "cell_type": "code",
   "execution_count": 13,
   "id": "53e9585f",
   "metadata": {
    "code_folding": [
     0
    ],
    "scrolled": true
   },
   "outputs": [
    {
     "name": "stdout",
     "output_type": "stream",
     "text": [
      "Python 3.10\n",
      "bcd\n",
      "hello world\n",
      "I like Python\n",
      "['a', 'b', 'c', 'd']\n"
     ]
    }
   ],
   "source": [
    "# 答案\n",
    "# 1\n",
    "print(\"Python\" + \" \" + \"3.10\")\n",
    "\n",
    "# 2\n",
    "print(\"abcdefg\"[1:4])\n",
    "\n",
    "# 3\n",
    "print(\"Hello World\".lower())\n",
    "\n",
    "# 4\n",
    "print(\"I like Java\".replace(\"Java\", \"Python\"))\n",
    "\n",
    "# 5\n",
    "print(\"a,b,c,d\".split(\",\"))"
   ]
  },
  {
   "cell_type": "markdown",
   "id": "c4cde856",
   "metadata": {},
   "source": [
    "## 列表及基本方法（35分钟）"
   ]
  },
  {
   "cell_type": "markdown",
   "id": "e9437b7f",
   "metadata": {},
   "source": [
    "1. 创建一个列表 `[1, 2, 3]`，在末尾加上 `4`。\n",
    "2. 在列表 `[10, 20, 30]` 的索引 1 处插入 `15`。\n",
    "3. 删除 `[5, 6, 7]` 中的元素 `6`。\n",
    "4. 对 `[3, 1, 4, 2]` 进行排序。\n",
    "5. 获取 `[10, 20, 30, 40, 50]` 的长度，并切片输出 `[20, 30, 40]`。"
   ]
  },
  {
   "cell_type": "code",
   "execution_count": 14,
   "id": "0c419f7c",
   "metadata": {
    "code_folding": [
     0
    ],
    "scrolled": true
   },
   "outputs": [
    {
     "name": "stdout",
     "output_type": "stream",
     "text": [
      "[1, 2, 3, 4]\n",
      "[10, 15, 20, 30]\n",
      "[5, 7]\n",
      "[1, 2, 3, 4]\n",
      "5\n",
      "[20, 30, 40]\n"
     ]
    }
   ],
   "source": [
    "# 答案\n",
    "# 1\n",
    "lst = [1, 2, 3]\n",
    "lst.append(4)\n",
    "print(lst)\n",
    "\n",
    "# 2\n",
    "lst = [10, 20, 30]\n",
    "lst.insert(1, 15)\n",
    "print(lst)\n",
    "\n",
    "# 3\n",
    "lst = [5, 6, 7]\n",
    "lst.remove(6)\n",
    "print(lst)\n",
    "\n",
    "# 4\n",
    "lst = [3, 1, 4, 2]\n",
    "lst.sort()\n",
    "print(lst)\n",
    "\n",
    "# 5\n",
    "lst = [10, 20, 30, 40, 50]\n",
    "print(len(lst))\n",
    "print(lst[1:4])"
   ]
  },
  {
   "cell_type": "markdown",
   "id": "35c002ae",
   "metadata": {},
   "source": [
    "## 元组及基本方法（10分钟）"
   ]
  },
  {
   "cell_type": "markdown",
   "id": "f93df3ed",
   "metadata": {},
   "source": [
    "1. 定义一个元组 `(10, 20, 30)`，取出第 2 个元素。\n",
    "2. 对 `(1, 2, 2, 3)` 统计 `2` 出现的次数。\n",
    "3. 将元组 `(100, 200, 300, 400)` 切片输出 `(200, 300)`。"
   ]
  },
  {
   "cell_type": "code",
   "execution_count": 15,
   "id": "9a642379",
   "metadata": {
    "code_folding": [
     0
    ],
    "scrolled": false
   },
   "outputs": [
    {
     "name": "stdout",
     "output_type": "stream",
     "text": [
      "20\n",
      "2\n",
      "(200, 300)\n"
     ]
    }
   ],
   "source": [
    "# 答案\n",
    "# 1\n",
    "t = (10, 20, 30)\n",
    "print(t[1])\n",
    "\n",
    "# 2\n",
    "t = (1, 2, 2, 3)\n",
    "print(t.count(2))\n",
    "\n",
    "# 3\n",
    "t = (100, 200, 300, 400)\n",
    "print(t[1:3])"
   ]
  }
 ],
 "metadata": {
  "kernelspec": {
   "display_name": "Python 3",
   "language": "python",
   "name": "python3"
  },
  "language_info": {
   "codemirror_mode": {
    "name": "ipython",
    "version": 3
   },
   "file_extension": ".py",
   "mimetype": "text/x-python",
   "name": "python",
   "nbconvert_exporter": "python",
   "pygments_lexer": "ipython3",
   "version": "3.8.8"
  },
  "toc": {
   "base_numbering": 1,
   "nav_menu": {},
   "number_sections": true,
   "sideBar": true,
   "skip_h1_title": false,
   "title_cell": "Table of Contents",
   "title_sidebar": "Contents",
   "toc_cell": false,
   "toc_position": {
    "height": "calc(100% - 180px)",
    "left": "10px",
    "top": "150px",
    "width": "288px"
   },
   "toc_section_display": true,
   "toc_window_display": true
  }
 },
 "nbformat": 4,
 "nbformat_minor": 5
}
