{
 "cells": [
  {
   "cell_type": "markdown",
   "id": "adb14ac9",
   "metadata": {},
   "source": [
    "# 试听课Lesson1\n",
    "\n",
    "**目标**：能在 Jupyter 里运行代码，理解print函数，变量"
   ]
  },
  {
   "cell_type": "markdown",
   "id": "8b97b7d6",
   "metadata": {},
   "source": [
    "左侧的Contents需要手动安装，安装方法：\n",
    "1. 打开Anaconda Prompt\n",
    "2. 输入命令pip install jupyter_contrib_nbextensions\n",
    "3. 输入命令jupyter contrib nbextension install --user\n",
    "4. 在Jupyter菜单栏勾选Table of Contents(2)"
   ]
  },
  {
   "cell_type": "markdown",
   "id": "6b94d002",
   "metadata": {},
   "source": [
    "## python介绍\n",
    "\n",
    "### 名词介绍\n",
    "\n",
    "编程语言：用于定义计算机程序的语言，用来向计算机发出指令（计算机不能直接理解编程语言，只能理解机器语言）\n",
    "\n",
    "计算机理解编程语言的方式：\n",
    "\n",
    "1. 编译：使用编译器将代码一次性编译成机器码执行，有可执行文件的编译产物。典型语言：C、C++\n",
    "2. 解释：使用解释器将代码一行一行转换成机器码并一行一行执行。典型语言：Python\n",
    "\n",
    "Python定义：Python是一种面向对象的解释型计算机程序设计语言"
   ]
  },
  {
   "cell_type": "markdown",
   "id": "72437369",
   "metadata": {},
   "source": [
    "## python打印字符串 Hello World!\n",
    "\n",
    "- 方式：\n",
    "- spyder：桌面 IDE，适合开发，调试；整个文件一起执行\n",
    "- Jupyter Notebook：基于网页的交互式环境，适合教学 / 实验 / 可视化；每个Cell单独执行"
   ]
  },
  {
   "cell_type": "code",
   "execution_count": 11,
   "id": "9d7730d0",
   "metadata": {},
   "outputs": [
    {
     "name": "stdout",
     "output_type": "stream",
     "text": [
      "Hello, World!\n"
     ]
    }
   ],
   "source": [
    "print('Hello, World!')"
   ]
  },
  {
   "cell_type": "markdown",
   "id": "dbd6f4f2",
   "metadata": {},
   "source": [
    "## 介绍注释\n",
    "\n",
    "- 定义：在程序中对某些代码进行标注说明，不会被程序执行，能够大大增强程序的可读性\n",
    "- 注释方式："
   ]
  },
  {
   "cell_type": "markdown",
   "id": "6ea1b2be",
   "metadata": {},
   "source": [
    "    1. 单行注释（使用 # + [注释内容]）"
   ]
  },
  {
   "cell_type": "code",
   "execution_count": 13,
   "id": "9e0ba08f",
   "metadata": {
    "code_folding": []
   },
   "outputs": [
    {
     "name": "stdout",
     "output_type": "stream",
     "text": [
      "Hello World!\n"
     ]
    }
   ],
   "source": [
    "# 这是单行注释\n",
    "print(\"Hello World!\") # 这也是注释"
   ]
  },
  {
   "cell_type": "markdown",
   "id": "bb9ee499",
   "metadata": {},
   "source": [
    "    2. 多行注释（使用多行#，或者“”“，或者’’’）"
   ]
  },
  {
   "cell_type": "code",
   "execution_count": 9,
   "id": "eee10274",
   "metadata": {},
   "outputs": [
    {
     "name": "stdout",
     "output_type": "stream",
     "text": [
      "Hello World!\n"
     ]
    }
   ],
   "source": [
    "# aaaaaa\n",
    "# bbbbbb\n",
    "\n",
    "\"\"\"\n",
    "第一行注释\n",
    "第二行注释\n",
    "第三行注释\n",
    "sss\n",
    "ssss\n",
    "ssss\n",
    "\"\"\"\n",
    "'''\n",
    "注释1\n",
    "注释2\n",
    "注释3\n",
    "'''\n",
    "print(\"Hello World!\")"
   ]
  },
  {
   "cell_type": "markdown",
   "id": "d1c28c51",
   "metadata": {},
   "source": [
    "- 注释快捷键：Ctrl+/ （Spyder是Ctrl+1）"
   ]
  },
  {
   "cell_type": "markdown",
   "id": "f31a7703",
   "metadata": {},
   "source": [
    "## 输出函数"
   ]
  },
  {
   "cell_type": "markdown",
   "id": "f0e6f292",
   "metadata": {},
   "source": [
    "- 关键字：print\n",
    "- 函数定义  \n",
    "```print(*objects, sep=' ', end='\\n', file=sys.stdout, flush=False)```"
   ]
  },
  {
   "cell_type": "markdown",
   "id": "32c51bb9",
   "metadata": {},
   "source": [
    "- 参数解释\n",
    "    - *objects: 需要输出的参数，可以指一个，也可以指多个，多个之间用’,’隔开\n",
    "    - sep: 分隔符，每个输出的参数之间的分隔符。默认为’ ‘空格\n",
    "    - end: 输出末尾添加的内容，默认为’\\n’换行符"
   ]
  },
  {
   "cell_type": "code",
   "execution_count": 14,
   "id": "ecfae551",
   "metadata": {},
   "outputs": [
    {
     "name": "stdout",
     "output_type": "stream",
     "text": [
      "1 2 3\n"
     ]
    }
   ],
   "source": [
    "print(1, 2, 3)"
   ]
  },
  {
   "cell_type": "code",
   "execution_count": 20,
   "id": "58a340c4",
   "metadata": {},
   "outputs": [
    {
     "name": "stdout",
     "output_type": "stream",
     "text": [
      "1|||||||2|||||||3|||||||4\n",
      "222222\n"
     ]
    }
   ],
   "source": [
    "print(1, 2, 3, 4, sep='|||||||')\n",
    "print(222222)"
   ]
  },
  {
   "cell_type": "markdown",
   "id": "4e94961f",
   "metadata": {},
   "source": [
    "## 变量\n",
    "\n",
    "### 含义\n",
    "\n",
    "一个容器，计算机当中的存储空间\n",
    "\n",
    "### 作用\n",
    "\n",
    "在计算机内存中存储数据，我们可以通过变量名提取数据\n",
    "\n",
    "### 规则\n",
    "\n",
    "1. 变量名只能包含字母、数字、下划线（python3支持中文字符，不推荐）\n",
    "2. 变量名不能以数字开头，不能是关键字，因为关键字已经有具体的含义了，不能作为变量名。Python关键字列表：\n",
    "    \n",
    "    ```python\n",
    "    False     None     True     and     as        assert\n",
    "    async     await    break    class   continue  def     \n",
    "    del       elif     else     except  finally   for     \n",
    "    from      global   if       import  in        is      \n",
    "    lambda    nonlocal not      or      pass      raise   \n",
    "    return    try      while    with    yield\n",
    "    ```\n",
    "    \n",
    "3. 变量名严格区分大小写"
   ]
  },
  {
   "cell_type": "code",
   "execution_count": 10,
   "id": "69f2f4f1",
   "metadata": {},
   "outputs": [
    {
     "ename": "NameError",
     "evalue": "name 'Num' is not defined",
     "output_type": "error",
     "traceback": [
      "\u001b[1;31m---------------------------------------------------------------------------\u001b[0m",
      "\u001b[1;31mNameError\u001b[0m                                 Traceback (most recent call last)",
      "\u001b[1;32m<ipython-input-10-64d33fe20359>\u001b[0m in \u001b[0;36m<module>\u001b[1;34m\u001b[0m\n\u001b[0;32m      1\u001b[0m \u001b[0mnum\u001b[0m \u001b[1;33m=\u001b[0m \u001b[1;36m1\u001b[0m\u001b[1;33m\u001b[0m\u001b[1;33m\u001b[0m\u001b[0m\n\u001b[1;32m----> 2\u001b[1;33m \u001b[0mprint\u001b[0m\u001b[1;33m(\u001b[0m\u001b[0mNum\u001b[0m\u001b[1;33m)\u001b[0m \u001b[1;31m# name 'Num' is not defined\u001b[0m\u001b[1;33m\u001b[0m\u001b[1;33m\u001b[0m\u001b[0m\n\u001b[0m",
      "\u001b[1;31mNameError\u001b[0m: name 'Num' is not defined"
     ]
    }
   ],
   "source": [
    "num = 1\n",
    "print(Num) # name 'Num' is not defined"
   ]
  },
  {
   "cell_type": "markdown",
   "id": "8075953b",
   "metadata": {},
   "source": [
    "4. 推荐的变量命名法：小写+下划线。比如：`max_value` \n",
    "    \n",
    "    不同的变量有不同的命名标准，包括常量、类名、私有变量等，规范都不一致，目的是方便理解，具体规范可以参考 https://google.github.io/styleguide/pyguide.html"
   ]
  },
  {
   "cell_type": "markdown",
   "id": "d4bf3769",
   "metadata": {},
   "source": [
    "### 赋值语法\n",
    "\n",
    "- 单个变量赋值：变量名 = 值\n",
    "注意：=是赋值运算符，左右两边打上空格是为了代码的规范性。\n",
    "- 多个变量赋值：变量名1, 变量名2, 变量名3 = 值1, 值2, 值3"
   ]
  },
  {
   "cell_type": "code",
   "execution_count": 30,
   "id": "1b751bce",
   "metadata": {},
   "outputs": [
    {
     "name": "stdout",
     "output_type": "stream",
     "text": [
      "100000000\n",
      "110000000\n"
     ]
    }
   ],
   "source": [
    "# money是变量名 100000000是值\n",
    "money = 100000000   # 将100000000这个数据存储在money变量中\n",
    "print(money)        # 100000000\n",
    "\n",
    "# 需求：定义变量存储10000000这个数据\n",
    "money2 = 10000000    \n",
    "\n",
    "# 需求：将money和money2保存的数据相加，并把结果定义到另一个变量中\n",
    "total = money + money2    # total也是变量\n",
    "print(total)\n",
    "\n",
    "a, b, c = 1, 2, 3"
   ]
  },
  {
   "cell_type": "code",
   "execution_count": 34,
   "id": "0b47be11",
   "metadata": {},
   "outputs": [],
   "source": [
    "a = 1"
   ]
  },
  {
   "cell_type": "markdown",
   "id": "a94621c5",
   "metadata": {},
   "source": [
    "### 具象化\n",
    "\n",
    "内存：可以把计算机的内存想象成无限长的盒子，每个盒子都有唯一的编号 / 地址（1, 2, 3, 4….）\n",
    "\n",
    "数据：盒子里面存放的数据\n",
    "\n",
    "变量：一个标签，标签上有两个字段：名称，盒子编号。\n",
    "\n",
    "赋值流程举例：\n",
    "\n",
    "```python\n",
    "# 给变量a赋值为1\n",
    "a = 1\n",
    "```\n",
    "\n",
    "1. 用户申请要给变量a赋值为1\n",
    "2. 计算机去内存中找到空盒子，将其内部数据改为1，并把盒子编号（100）返回给用户\n",
    "3. 后续用户拿着标签{ a } 去使用数据，计算机使用编号 100 去操作数据"
   ]
  },
  {
   "attachments": {
    "image.png": {
     "image/png": "[encoded data removed]"
    }
   },
   "cell_type": "markdown",
   "id": "38e45ad1",
   "metadata": {},
   "source": [
    "![image.png](attachment:image.png)"
   ]
  },
  {
   "cell_type": "markdown",
   "id": "2ded7ac5",
   "metadata": {},
   "source": [
    "### 变量地址\n",
    "\n",
    "```python\n",
    "id(a)\n",
    "```\n",
    "\n",
    "返回变量的地址"
   ]
  },
  {
   "cell_type": "markdown",
   "id": "77d01bc5",
   "metadata": {},
   "source": [
    "### 代码解释"
   ]
  },
  {
   "cell_type": "code",
   "execution_count": 39,
   "id": "0ad1af7f",
   "metadata": {},
   "outputs": [
    {
     "name": "stdout",
     "output_type": "stream",
     "text": [
      "num\n",
      "123\n",
      "1\n",
      "10\n",
      "3.6\n"
     ]
    }
   ],
   "source": [
    "# print(numm)       # NameError: name 'num' is not defined(命名异常，num还没有定义/赋值)\n",
    "print(\"num\")     # \"num\"是用户没法改变的值\n",
    "\n",
    "num = 123\n",
    "print(num)       # 123\n",
    "\n",
    "# 注意：加上引号，打印引号内的内容，不加引号，会被识别成变量名，而变量使用之前都必须赋值，因为只有在赋值之后才会被创建。\n",
    "\n",
    "num = 1\n",
    "print(num)   # 1\n",
    "num = 10\n",
    "print(num)   # 10,代码是从上至下运行的\n",
    "num = 3.6\n",
    "print(num)   # 3.6\n",
    "# 同一个变量可以被反复赋值，并且可以是不同类型的变量"
   ]
  },
  {
   "cell_type": "markdown",
   "id": "24a75c9b",
   "metadata": {},
   "source": [
    "## 数据类型\n",
    "\n",
    "### 数值"
   ]
  },
  {
   "cell_type": "markdown",
   "id": "e9055a62",
   "metadata": {},
   "source": [
    "int（整型）"
   ]
  },
  {
   "cell_type": "code",
   "execution_count": 40,
   "id": "f7a0d22c",
   "metadata": {},
   "outputs": [
    {
     "name": "stdout",
     "output_type": "stream",
     "text": [
      "<class 'int'>\n"
     ]
    }
   ],
   "source": [
    "num = 1\n",
    "# 检测数据类型：type()\n",
    "print(type(num))          # <class 'int'>"
   ]
  },
  {
   "cell_type": "markdown",
   "id": "9ee16cee",
   "metadata": {},
   "source": [
    "float（浮点型，小数）"
   ]
  },
  {
   "cell_type": "code",
   "execution_count": 41,
   "id": "96a65df3",
   "metadata": {},
   "outputs": [
    {
     "name": "stdout",
     "output_type": "stream",
     "text": [
      "<class 'float'>\n"
     ]
    }
   ],
   "source": [
    "num2 = 1.8\n",
    "print(type(num2))         # <class 'float'>"
   ]
  },
  {
   "cell_type": "markdown",
   "id": "1ff238e4",
   "metadata": {},
   "source": [
    "bool（布尔型）只有True和False，用于判断真假"
   ]
  },
  {
   "cell_type": "code",
   "execution_count": 42,
   "id": "a37b311e",
   "metadata": {},
   "outputs": [
    {
     "name": "stdout",
     "output_type": "stream",
     "text": [
      "<class 'bool'>\n",
      "<class 'bool'>\n"
     ]
    },
    {
     "ename": "NameError",
     "evalue": "name 'false' is not defined",
     "output_type": "error",
     "traceback": [
      "\u001b[1;31m---------------------------------------------------------------------------\u001b[0m",
      "\u001b[1;31mNameError\u001b[0m                                 Traceback (most recent call last)",
      "\u001b[1;32m<ipython-input-42-07fa65951e7f>\u001b[0m in \u001b[0;36m<module>\u001b[1;34m\u001b[0m\n\u001b[0;32m      5\u001b[0m \u001b[1;31m# 严格区分大小写\u001b[0m\u001b[1;33m\u001b[0m\u001b[1;33m\u001b[0m\u001b[1;33m\u001b[0m\u001b[0m\n\u001b[0;32m      6\u001b[0m \u001b[0mprint\u001b[0m\u001b[1;33m(\u001b[0m\u001b[0mtype\u001b[0m\u001b[1;33m(\u001b[0m\u001b[1;32mFalse\u001b[0m\u001b[1;33m)\u001b[0m\u001b[1;33m)\u001b[0m        \u001b[1;31m# <class 'bool'>\u001b[0m\u001b[1;33m\u001b[0m\u001b[1;33m\u001b[0m\u001b[0m\n\u001b[1;32m----> 7\u001b[1;33m \u001b[0mprint\u001b[0m\u001b[1;33m(\u001b[0m\u001b[0mtype\u001b[0m\u001b[1;33m(\u001b[0m\u001b[0mfalse\u001b[0m\u001b[1;33m)\u001b[0m\u001b[1;33m)\u001b[0m        \u001b[1;31m# NameError: name 'false' is not defined(命名错误：\"false\"变量名未被定义)\u001b[0m\u001b[1;33m\u001b[0m\u001b[1;33m\u001b[0m\u001b[0m\n\u001b[0m\u001b[0;32m      8\u001b[0m \u001b[1;33m\u001b[0m\u001b[0m\n\u001b[0;32m      9\u001b[0m \u001b[1;31m# (不推荐使用)运算时，布尔值也可以当作整型来对待:True相当于整数1，False相当于整数\u001b[0m\u001b[1;33m\u001b[0m\u001b[1;33m\u001b[0m\u001b[1;33m\u001b[0m\u001b[0m\n",
      "\u001b[1;31mNameError\u001b[0m: name 'false' is not defined"
     ]
    }
   ],
   "source": [
    "value = True\n",
    "print(type(value))        # <class 'bool'>\n",
    "\n",
    "\n",
    "# 严格区分大小写\n",
    "print(type(False))        # <class 'bool'>\n",
    "print(type(false))        # NameError: name 'false' is not defined(命名错误：\"false\"变量名未被定义)\n",
    "\n",
    "# (不推荐使用)运算时，布尔值也可以当作整型来对待:True相当于整数1，False相当于整数\n",
    "print(True+False)         # 1\n",
    "print(1+True)             # 2"
   ]
  },
  {
   "cell_type": "code",
   "execution_count": 49,
   "id": "f01587fd",
   "metadata": {},
   "outputs": [
    {
     "name": "stdout",
     "output_type": "stream",
     "text": [
      "less than 100\n"
     ]
    }
   ],
   "source": [
    "a = 10\n",
    "if (a < 100):\n",
    "    print(\"less than 100\")\n",
    "else:\n",
    "    print(\"more than 100\")"
   ]
  },
  {
   "cell_type": "markdown",
   "id": "8c04de9d",
   "metadata": {},
   "source": [
    "complex（复数型），固定写法：z = a + bj"
   ]
  },
  {
   "cell_type": "code",
   "execution_count": 51,
   "id": "6aa8193e",
   "metadata": {},
   "outputs": [
    {
     "name": "stdout",
     "output_type": "stream",
     "text": [
      "<class 'complex'>\n"
     ]
    }
   ],
   "source": [
    "n1 = 1+2j\n",
    "print(type(n1))           # <class 'complex'>"
   ]
  },
  {
   "cell_type": "markdown",
   "id": "91085de3",
   "metadata": {},
   "source": [
    "### 字符串\n",
    "\n",
    "含义：需要加上引号，可以是单引号，也可以是双引号，包含了多行内容时可以使用三引号"
   ]
  },
  {
   "cell_type": "code",
   "execution_count": 54,
   "id": "a65e874e",
   "metadata": {},
   "outputs": [
    {
     "data": {
      "text/plain": [
       "'She said \"I want to learn something new\"'"
      ]
     },
     "execution_count": 54,
     "metadata": {},
     "output_type": "execute_result"
    }
   ],
   "source": [
    "name = 'lyp'\n",
    "name = \"lyp\"\n",
    "name = 'She said \"I want to learn something new\"'\n",
    "name1 = 'She said \"I want to learn something new\"'\n",
    "name"
   ]
  },
  {
   "cell_type": "markdown",
   "id": "87cf2378",
   "metadata": {},
   "source": [
    "### 格式化输出\n",
    "\n",
    "含义：按照一定的格式输出内容\n",
    "\n",
    "表达式：`f'{expr}'`"
   ]
  },
  {
   "cell_type": "code",
   "execution_count": 56,
   "id": "410d1eb0",
   "metadata": {},
   "outputs": [],
   "source": [
    "a = 1\n",
    "b = 10\n",
    "c = 100"
   ]
  },
  {
   "cell_type": "code",
   "execution_count": 57,
   "id": "27ef0c7a",
   "metadata": {},
   "outputs": [
    {
     "name": "stdout",
     "output_type": "stream",
     "text": [
      "a\n"
     ]
    }
   ],
   "source": [
    "print(\"a\")"
   ]
  },
  {
   "cell_type": "code",
   "execution_count": 62,
   "id": "8624b3eb",
   "metadata": {},
   "outputs": [
    {
     "name": "stdout",
     "output_type": "stream",
     "text": [
      "a =  1 , b =  10 , c =  100\n"
     ]
    }
   ],
   "source": [
    "print(\"a = \", a, \", b = \", b, \", c = \",c)"
   ]
  },
  {
   "cell_type": "code",
   "execution_count": 64,
   "id": "954f9d6f",
   "metadata": {},
   "outputs": [
    {
     "name": "stdout",
     "output_type": "stream",
     "text": [
      "a = 1,b = 10,c = 100\n"
     ]
    }
   ],
   "source": [
    "print(f\"a = {a},b = {b},c = {c}\")"
   ]
  },
  {
   "cell_type": "code",
   "execution_count": 68,
   "id": "8b099af3",
   "metadata": {},
   "outputs": [
    {
     "name": "stdout",
     "output_type": "stream",
     "text": [
      "3.1415922131231233\n"
     ]
    }
   ],
   "source": [
    "pi = 3.141592213123123123123123123\n",
    "print(pi)"
   ]
  },
  {
   "cell_type": "markdown",
   "id": "55926998",
   "metadata": {},
   "source": [
    "小数精度格式  \n",
    "%.xf(x是指保留多少位小数，四舍五入)"
   ]
  },
  {
   "cell_type": "code",
   "execution_count": 76,
   "id": "eeaf4f3e",
   "metadata": {},
   "outputs": [
    {
     "name": "stdout",
     "output_type": "stream",
     "text": [
      "3.1416\n"
     ]
    }
   ],
   "source": [
    "print(\"%.4f\" %pi)"
   ]
  },
  {
   "cell_type": "code",
   "execution_count": 87,
   "id": "99b02d55",
   "metadata": {},
   "outputs": [
    {
     "name": "stdout",
     "output_type": "stream",
     "text": [
      "我的学号: 1, 我的姓名: lyp, 我的年龄: 27\n",
      "我的学号: 1 我的姓名: lyp 我的年龄: 27\n",
      "n1 * n2 = 12\n",
      "n1保留两位小数:  1.23\n",
      "1.1\n",
      "1.1\n",
      "1.2\n",
      "1.4\n",
      "1.4\n",
      "1.6\n",
      "1.6\n",
      "1.8\n",
      "1.9\n",
      "1.9\n",
      "0.30000000000000004\n"
     ]
    }
   ],
   "source": [
    "# 5.2.1 基本用法\n",
    "sid = 1\n",
    "name = \"lyp\"\n",
    "age = 27\n",
    "print(f\"我的学号: {sid}, 我的姓名: {name}, 我的年龄: {age}\")\n",
    "\n",
    "# 对比普通写法\n",
    "print(\"我的学号:\", sid, \"我的姓名:\", name, \"我的年龄:\", age)\n",
    "\n",
    "# 5.2.2 支持表达式操作\n",
    "# 数学运算\n",
    "n1 = 3\n",
    "n2 = 4\n",
    "print(f\"n1 * n2 = {n1 * n2}\")          # n1 * n2 = 12\n",
    "\n",
    "# 5.2.3 小数精度\n",
    "n1 = 1.23456\n",
    "print(f\"n1保留两位小数: {n1 : .2f}\")    # n1保留两位小数:  1.23\n",
    "\n",
    "# %.1f 打印时保留一位小数点\n",
    "# %.1f：数字1表示设置保留1位小数，遵循四舍五入规则\n",
    "print(\"%.1f\" % 1.05)     # 1.1\n",
    "print(\"%.1f\" % 1.15)     # 1.1     \n",
    "print(\"%.1f\" % 1.25)     # 1.2 \n",
    "print(\"%.1f\" % 1.35)     # 1.4 \n",
    "print(\"%.1f\" % 1.45)     # 1.4   \n",
    "print(\"%.1f\" % 1.55)     # 1.6\n",
    "print(\"%.1f\" % 1.65)     # 1.6\n",
    "print(\"%.1f\" % 1.75)     # 1.8\n",
    "print(\"%.1f\" % 1.85)     # 1.9\n",
    "print(\"%.1f\" % 1.95)     # 1.9\n",
    "print(0.1+0.2)           # 0.30000000000000004"
   ]
  },
  {
   "cell_type": "code",
   "execution_count": 78,
   "id": "b0deb57d",
   "metadata": {},
   "outputs": [
    {
     "name": "stdout",
     "output_type": "stream",
     "text": [
      "你好，LJC，明年你将 26 岁。\n"
     ]
    }
   ],
   "source": [
    "# 输入 / 类型转换 / f-string\n",
    "name = \"LJC\"    # 演示时可用 input()\n",
    "age_text = 25  # 演示时可用 input()\n",
    "print(f\"你好，{name}，明年你将 {age + 1} 岁。\")\n"
   ]
  },
  {
   "cell_type": "code",
   "execution_count": 80,
   "id": "01b50573",
   "metadata": {},
   "outputs": [
    {
     "name": "stdout",
     "output_type": "stream",
     "text": [
      "等级： B\n",
      "等级为：B\n"
     ]
    }
   ],
   "source": [
    "# 条件判断\n",
    "score = 86\n",
    "if score >= 90:\n",
    "    grade = \"A\"\n",
    "elif score >= 80:\n",
    "    grade = \"B\"\n",
    "elif score >= 70:\n",
    "    grade = \"C\"\n",
    "else:\n",
    "    grade = \"D\"\n",
    "print(\"等级：\", grade)\n",
    "print(f\"等级为：{grade}\")\n"
   ]
  },
  {
   "cell_type": "code",
   "execution_count": 84,
   "id": "617feeee",
   "metadata": {},
   "outputs": [
    {
     "data": {
      "text/plain": [
       "20"
      ]
     },
     "execution_count": 84,
     "metadata": {},
     "output_type": "execute_result"
    }
   ],
   "source": [
    "a = 1+19\n",
    "a"
   ]
  }
 ],
 "metadata": {
  "kernelspec": {
   "display_name": "Python 3",
   "language": "python",
   "name": "python3"
  },
  "language_info": {
   "codemirror_mode": {
    "name": "ipython",
    "version": 3
   },
   "file_extension": ".py",
   "mimetype": "text/x-python",
   "name": "python",
   "nbconvert_exporter": "python",
   "pygments_lexer": "ipython3",
   "version": "3.8.8"
  },
  "toc": {
   "base_numbering": 1,
   "nav_menu": {},
   "number_sections": true,
   "sideBar": true,
   "skip_h1_title": false,
   "title_cell": "Table of Contents",
   "title_sidebar": "Contents",
   "toc_cell": false,
   "toc_position": {
    "height": "calc(100% - 180px)",
    "left": "10px",
    "top": "150px",
    "width": "264px"
   },
   "toc_section_display": true,
   "toc_window_display": true
  }
 },
 "nbformat": 4,
 "nbformat_minor": 5
}
