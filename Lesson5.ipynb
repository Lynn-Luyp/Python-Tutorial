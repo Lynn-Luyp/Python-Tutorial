{
 "cells": [
  {
   "cell_type": "markdown",
   "id": "b288bbc9",
   "metadata": {},
   "source": [
    "# 函数基础\n",
    "\n",
    "## 函数前言\n",
    "\n",
    "### 需求1：给不同年龄段的孩子讲故事"
   ]
  },
  {
   "cell_type": "code",
   "execution_count": 2,
   "id": "f68b7fe9",
   "metadata": {},
   "outputs": [
    {
     "name": "stdout",
     "output_type": "stream",
     "text": [
      "请输入孩子的年龄:2\n",
      "从前有座山\n",
      "山上有座庙\n",
      "庙里有个老和尚\n",
      "还有一个小和尚\n",
      "老和尚在给小和尚讲故事\n",
      "故事的内容是:\n",
      "从前有座山\n",
      "山上有座庙\n",
      "庙里有个老和尚\n",
      "还有一个小和尚\n",
      "老和尚在给小和尚讲故事\n",
      "故事的内容是:\n",
      "从前有座山\n",
      "山上有座庙\n",
      "庙里有个老和尚\n",
      "还有一个小和尚\n",
      "老和尚在给小和尚讲故事\n",
      "故事的内容是:\n"
     ]
    }
   ],
   "source": [
    "# 需求：0-3岁可以重复讲3遍，3-5岁只能讲一遍\n",
    "age = int(input(\"请输入孩子的年龄:\"))\n",
    "if 0 <= age < 3:\n",
    "    for i in range(3):\n",
    "        print(\"从前有座山\")\n",
    "        print(\"山上有座庙\")\n",
    "        print(\"庙里有个老和尚\")\n",
    "        print(\"还有一个小和尚\")\n",
    "        print(\"老和尚在给小和尚讲故事\")\n",
    "        print(\"故事的内容是:\")\n",
    "elif 3 < age < 5:\n",
    "    print(\"从前有座山\")\n",
    "    print(\"山上有座庙\")\n",
    "    print(\"庙里有个老和尚\")\n",
    "    print(\"还有一个小和尚\")\n",
    "    print(\"老和尚在给小和尚讲故事\")\n",
    "    print(\"故事的内容是:\")"
   ]
  },
  {
   "cell_type": "markdown",
   "id": "cb9f4f69",
   "metadata": {},
   "source": [
    "缺点：\n",
    "\n",
    "1. 代码重复率低，没法复用代码\n",
    "2. 如果没法复用代码，代码非常冗长\n",
    "3. 改起来很麻烦，如果一个地方改动，所有地方都需要改\n",
    "\n",
    "## 函数含义\n",
    "\n",
    "函数就是一堆可以完成某项工作的代码，在需要的时候再去调用这一堆代码，可以反复使用\n",
    "\n",
    "e.g. LOL中每个英雄都可以放技能，假设放技能产生三个影响：技能进入cd、蓝量下降、造成伤害。\n",
    "\n",
    "因为每个英雄都可以放技能，每个英雄也可以放不同的技能，可以把”放技能”这样的行为认为是一个函数，后面只要有英雄释放任意技能，就可以调用这个函数，达到增加代码重复使用率的目的\n",
    "\n",
    "## 函数作用\n",
    "\n",
    "1. 增加代码的重复使用率\n",
    "2. 减少了代码量\n",
    "\n",
    "## 函数格式\n",
    "\n",
    "### 定义函数"
   ]
  },
  {
   "cell_type": "code",
   "execution_count": 5,
   "id": "895ea03d",
   "metadata": {},
   "outputs": [],
   "source": [
    "# def 函数名():\n",
    "#     函数体\n",
    "\n",
    "def plus_one(x):\n",
    "    x += 1"
   ]
  },
  {
   "cell_type": "markdown",
   "id": "2eea2212",
   "metadata": {},
   "source": [
    "### 调用函数"
   ]
  },
  {
   "cell_type": "code",
   "execution_count": 6,
   "id": "c6509ead",
   "metadata": {},
   "outputs": [],
   "source": [
    "x = 10\n",
    "plus_one(x)"
   ]
  },
  {
   "cell_type": "markdown",
   "id": "d9c6e0cf",
   "metadata": {},
   "source": [
    "## 函数使用"
   ]
  },
  {
   "cell_type": "code",
   "execution_count": 7,
   "id": "b805bd85",
   "metadata": {},
   "outputs": [
    {
     "name": "stdout",
     "output_type": "stream",
     "text": [
      "请输入孩子的年龄:1\n",
      "从前有座山\n",
      "山上有座庙\n",
      "庙里有个老和尚\n",
      "还有一个小和尚\n",
      "老和尚在给小和尚讲故事\n",
      "故事的内容是:\n",
      "从前有座山\n",
      "山上有座庙\n",
      "庙里有个老和尚\n",
      "还有一个小和尚\n",
      "老和尚在给小和尚讲故事\n",
      "故事的内容是:\n",
      "从前有座山\n",
      "山上有座庙\n",
      "庙里有个老和尚\n",
      "还有一个小和尚\n",
      "老和尚在给小和尚讲故事\n",
      "故事的内容是:\n"
     ]
    }
   ],
   "source": [
    "age = int(input(\"请输入孩子的年龄:\"))\n",
    "def tell_story():\n",
    "    print(\"从前有座山\")\n",
    "    print(\"山上有座庙\")\n",
    "    print(\"庙里有个老和尚\")\n",
    "    print(\"还有一个小和尚\")\n",
    "    print(\"老和尚在给小和尚讲故事\")\n",
    "    print(\"故事的内容是:\")\n",
    "if 0 <= age <= 3:\n",
    "    for i in range(3):\n",
    "        tell_story()        # 调用函数\n",
    "elif 3 < age <= 5:\n",
    "    tell_story()"
   ]
  },
  {
   "cell_type": "markdown",
   "id": "a0e84e12",
   "metadata": {},
   "source": [
    "相比之前的代码，代码更简洁，且更明确"
   ]
  },
  {
   "cell_type": "markdown",
   "id": "904967a0",
   "metadata": {},
   "source": [
    "### 需求2：定义一个欢迎新学员的函数，并调用它"
   ]
  },
  {
   "cell_type": "code",
   "execution_count": 9,
   "id": "27832dce",
   "metadata": {},
   "outputs": [
    {
     "name": "stdout",
     "output_type": "stream",
     "text": [
      "你好呀\n",
      "我是lyp\n",
      "以后有什么问题可以咨询我\n"
     ]
    }
   ],
   "source": [
    "def say_hello():\n",
    "    print(\"你好呀\")\n",
    "    print(\"我是lyp\")\n",
    "    print(\"以后有什么问题可以咨询我\")\n",
    "\n",
    "# 调用函数\n",
    "say_hello()"
   ]
  },
  {
   "cell_type": "markdown",
   "id": "8ef8592b",
   "metadata": {},
   "source": [
    "# 函数返回值（可以没有）\n",
    "\n",
    "## 含义\n",
    "\n",
    "函数执行后，返回给调用者一个结果\n",
    "\n",
    "## 语法\n",
    "\n",
    "`return 返回值`\n",
    "\n",
    "## 作用"
   ]
  },
  {
   "cell_type": "markdown",
   "id": "4a4b6dcf",
   "metadata": {},
   "source": [
    "### 给函数的调用者返回结果"
   ]
  },
  {
   "cell_type": "code",
   "execution_count": 14,
   "id": "a77e91a8",
   "metadata": {},
   "outputs": [
    {
     "name": "stdout",
     "output_type": "stream",
     "text": [
      "123\n"
     ]
    }
   ],
   "source": [
    "def func():\n",
    "    return 123\n",
    "\n",
    "func()\n",
    "print(func())"
   ]
  },
  {
   "cell_type": "markdown",
   "id": "723432a3",
   "metadata": {},
   "source": [
    "### 函数中遇到return，函数立刻结束，不继续执行"
   ]
  },
  {
   "cell_type": "code",
   "execution_count": 15,
   "id": "8a1bcbe8",
   "metadata": {},
   "outputs": [
    {
     "name": "stdout",
     "output_type": "stream",
     "text": [
      "123\n"
     ]
    }
   ],
   "source": [
    "def func():\n",
    "    return 123\n",
    "    print(123) # 这里及之后的代码不执行！\n",
    "\n",
    "print(func())"
   ]
  },
  {
   "cell_type": "markdown",
   "id": "ba53dea3",
   "metadata": {},
   "source": [
    "### 函数可以返回多个返回值，返回值的类型是元组"
   ]
  },
  {
   "cell_type": "code",
   "execution_count": 16,
   "id": "30776c12",
   "metadata": {},
   "outputs": [
    {
     "name": "stdout",
     "output_type": "stream",
     "text": [
      "(123, 456)\n",
      "<class 'tuple'>\n"
     ]
    }
   ],
   "source": [
    "def func():\n",
    "    return 123, 456 # 多个值，以元组的形式返回给调用者\n",
    "\n",
    "print(func())\n",
    "print(type(func()))"
   ]
  },
  {
   "cell_type": "markdown",
   "id": "46bd19d2",
   "metadata": {},
   "source": [
    "### 不是每个函数都需要返回值"
   ]
  },
  {
   "cell_type": "markdown",
   "id": "acd8af3a",
   "metadata": {},
   "source": [
    "- 有返回值情况（需要有变量接收返回值）"
   ]
  },
  {
   "cell_type": "code",
   "execution_count": 17,
   "id": "a4d9b4f6",
   "metadata": {},
   "outputs": [
    {
     "name": "stdout",
     "output_type": "stream",
     "text": [
      "2\n"
     ]
    }
   ],
   "source": [
    "def get_bigger_number(x):\n",
    "    return x + 1\n",
    "\n",
    "x1 = 1\n",
    "x2 = get_bigger_number(x1)\n",
    "print(x2)"
   ]
  },
  {
   "cell_type": "markdown",
   "id": "4a33e7a1",
   "metadata": {},
   "source": [
    "- 没有返回值情况（不需要变量接收返回值）"
   ]
  },
  {
   "cell_type": "code",
   "execution_count": 19,
   "id": "d5440c62",
   "metadata": {},
   "outputs": [],
   "source": [
    "def get_bigger_number(x):\n",
    "    x += 1\n",
    "\n",
    "x1 = 1\n",
    "get_bigger_number(x1)\n",
    "# x2 = get_bigger_number(x1) # 报错！函数没有返回值，却有变量接收函数的返回值\n",
    "# print(x2)"
   ]
  },
  {
   "cell_type": "markdown",
   "id": "b800e932",
   "metadata": {},
   "source": [
    "### 总结\n",
    "\n",
    "1. 如果一个返回值也没有，返回的结果是None\n",
    "2. 如果有一个值，把值返回给调用者\n",
    "3. 如果有多个值，以元组的形式返回给调用者"
   ]
  },
  {
   "cell_type": "markdown",
   "id": "d048cf3a",
   "metadata": {},
   "source": [
    "# 函数参数\n",
    "\n",
    "## 需求1\n",
    "\n",
    "定义一个函数，返回1和2相加的结果"
   ]
  },
  {
   "cell_type": "code",
   "execution_count": 22,
   "id": "a53906a0",
   "metadata": {},
   "outputs": [
    {
     "name": "stdout",
     "output_type": "stream",
     "text": [
      "3\n"
     ]
    }
   ],
   "source": [
    "def add():\n",
    "    a = 1\n",
    "    b = 2\n",
    "    return a + b\n",
    "\n",
    "x = add()\n",
    "print(x)"
   ]
  },
  {
   "cell_type": "markdown",
   "id": "dabf7aee",
   "metadata": {},
   "source": [
    "## 需求2\n",
    "\n",
    "定义一个函数，返回任意一个数和1相加的结果\n",
    "\n",
    "## 需求3\n",
    "\n",
    "定义一个函数，返回任意两个数相加的结果"
   ]
  },
  {
   "cell_type": "markdown",
   "id": "83dc1d59",
   "metadata": {},
   "source": [
    "弊端：需求1和需求2中，计算的值固定化了，没有办法实现功能复用  \n",
    "解决方案：修改函数的参数"
   ]
  },
  {
   "cell_type": "markdown",
   "id": "e8c2d2ce",
   "metadata": {},
   "source": [
    "## 形参 & 实参\n",
    "\n",
    "形参(形式上的参数)：函数定义时，小括号里面变量\n",
    "\n",
    "实参(实际上的参数)：函数调用时，小括号里面具体的值\n",
    "\n",
    "```python\n",
    "def add(a,b):          # a和b是形参\n",
    "    return a+b\n",
    "print(add(5, 6))       # 11，5和6是实参\n",
    "# 函数的传参就是将实参交给形参的过程，如a = 5, b = 6\n",
    "```"
   ]
  },
  {
   "cell_type": "markdown",
   "id": "a13080c1",
   "metadata": {},
   "source": [
    "## 参数数量\n",
    "\n",
    "### 位置实参\n",
    "\n",
    "参数的形参和实参数量一致"
   ]
  },
  {
   "cell_type": "code",
   "execution_count": 23,
   "id": "a1c64e8e",
   "metadata": {},
   "outputs": [
    {
     "name": "stdout",
     "output_type": "stream",
     "text": [
      "a: 1\n",
      "b: 2\n",
      "a: 2\n",
      "b: 1\n"
     ]
    }
   ],
   "source": [
    "def print_value(a, b):\n",
    "    print(\"a:\", a)\n",
    "    print(\"b:\", b)\n",
    "print_value(1, 2)\n",
    "print_value(2, 1)\n",
    "# print_value(1, 2, 3)    # 报错\n",
    "# print_value(1)          # 报错"
   ]
  },
  {
   "cell_type": "markdown",
   "id": "7eeb1302",
   "metadata": {},
   "source": [
    "### 缺省参数（默认参数）\n",
    "\n",
    "为参数提供默认值，调用函数时可不传该默认参数的值"
   ]
  },
  {
   "cell_type": "code",
   "execution_count": 24,
   "id": "8d173555",
   "metadata": {},
   "outputs": [
    {
     "name": "stdout",
     "output_type": "stream",
     "text": [
      "你好呀,我是ljc,今年24岁了\n",
      "你好呀,我是ljc,今年18岁了\n"
     ]
    }
   ],
   "source": [
    "def introduce(name, age=24):   # name是必备参数，age是默认参数，默认为24，除非明确输入\n",
    "    print(f'你好呀,我是{name},今年{age}岁了')\n",
    "introduce(\"ljc\")          # 你好呀,我是ljc,今年24岁了\n",
    "introduce(\"ljc\", 18)      # 你好呀,我是ljc,今年18岁了"
   ]
  },
  {
   "cell_type": "markdown",
   "id": "758cd124",
   "metadata": {},
   "source": [
    "注意：非默认参数要放到默认参数的前面，不然会报错语法错误。可以有多个默认参数\n",
    "\n",
    "原因：如果出现默认参数在非默认参数前，计算机不知道具体意图\n",
    "\n",
    "e.g."
   ]
  },
  {
   "cell_type": "code",
   "execution_count": 27,
   "id": "f752427e",
   "metadata": {},
   "outputs": [],
   "source": [
    "# def introduce(gender = \"male\", name, age=\"24\"):   # name是必备参数，age是默认参数，默认为24，除非明确输入\n",
    "#     print(f'你好呀,我是{name},今年{age}岁了')\n",
    "# introduce(\"ljc\", \"20\")          # 你好呀,我是ljc,今年20岁了\n",
    "# # 是想调用函数 introduce(gender = \"male\", name = \"ljc\", age=\"20\") \n",
    "# # 还是调用函数 introduce(gender = \"ljc\", name = \"20\", age=\"24\") \n",
    "# # 有歧义，对计算机来说无法执行"
   ]
  },
  {
   "cell_type": "markdown",
   "id": "4180d5d5",
   "metadata": {},
   "source": [
    "### 可变参数\n",
    "\n",
    "- 含义：传入的值的数量是可以改变的，可以传入多个，也可以不传  \n",
    "- 格式"
   ]
  },
  {
   "cell_type": "code",
   "execution_count": 28,
   "id": "9880a422",
   "metadata": {},
   "outputs": [],
   "source": [
    "# def funa(*args): # *args表示可变参数\n",
    "#     代码\n",
    "# funa()\n",
    "# funa(值1, 值2...)"
   ]
  },
  {
   "cell_type": "code",
   "execution_count": 30,
   "id": "73d067b9",
   "metadata": {},
   "outputs": [
    {
     "name": "stdout",
     "output_type": "stream",
     "text": [
      "('1',)\n",
      "('1', '2', '3')\n"
     ]
    }
   ],
   "source": [
    "def make_pizza(*toppings):\n",
    "    print(toppings)\n",
    "\n",
    "make_pizza('1')\n",
    "make_pizza('1', '2', '3')"
   ]
  },
  {
   "cell_type": "markdown",
   "id": "a0cc5397",
   "metadata": {},
   "source": [
    "*toppings创建名为`toppings`的元组"
   ]
  },
  {
   "cell_type": "markdown",
   "id": "955c054c",
   "metadata": {},
   "source": [
    "- 语法：如果需要位置实参和可变参数，将位置实参写在可变参数前面，比如："
   ]
  },
  {
   "cell_type": "code",
   "execution_count": 32,
   "id": "c6ce3185",
   "metadata": {},
   "outputs": [
    {
     "name": "stdout",
     "output_type": "stream",
     "text": [
      "6\n",
      "('1',)\n",
      "8\n",
      "('1', '2', '3')\n"
     ]
    }
   ],
   "source": [
    "def make_pizza(size, *toppings):\n",
    "    print(size)\n",
    "    print(toppings)\n",
    "\n",
    "make_pizza(6, '1')\n",
    "make_pizza(8, '1', '2', '3')"
   ]
  },
  {
   "cell_type": "markdown",
   "id": "fa0bef98",
   "metadata": {},
   "source": [
    "第一个值匹配`size`，后续值打包为`toppings`"
   ]
  },
  {
   "cell_type": "markdown",
   "id": "ae3aad8b",
   "metadata": {},
   "source": [
    "### 任意数量的关键字实参\n",
    "\n",
    "- 含义：将任意数量的实参转换成键值对（key-value）的形式\n",
    "- 语法：**kwargs（**开头即可，kwargs是通用规范）"
   ]
  },
  {
   "cell_type": "code",
   "execution_count": 34,
   "id": "b35aa5b8",
   "metadata": {},
   "outputs": [
    {
     "name": "stdout",
     "output_type": "stream",
     "text": [
      "{}\n",
      "<class 'dict'>\n",
      "{'name': 'bingbing', 'age': '18', 'sex': '女'}\n",
      "<class 'dict'>\n"
     ]
    }
   ],
   "source": [
    "def say_hello(**kwargs):\n",
    "    print(kwargs)\n",
    "    print(type(kwargs))      # <class 'dict'>，关键字参数以字典形式接收\n",
    "say_hello()                  # {}\n",
    "say_hello(name='bingbing',age='18',sex='女')       # {'name': 'bingbing', 'age': '18', 'sex': '女'}"
   ]
  },
  {
   "cell_type": "markdown",
   "id": "827702db",
   "metadata": {},
   "source": [
    "# 变量作用域\n",
    "\n",
    "## 含义\n",
    "\n",
    "变量生效的范围，也指内存有效的范围\n",
    "\n",
    "## 分类\n",
    "\n",
    "### 局部变量\n",
    "\n",
    "含义：函数内部定义的变量，仅在函数内部有效"
   ]
  },
  {
   "cell_type": "code",
   "execution_count": 35,
   "id": "513c6a68",
   "metadata": {},
   "outputs": [
    {
     "name": "stdout",
     "output_type": "stream",
     "text": [
      "a: 100\n"
     ]
    }
   ],
   "source": [
    "def testA():\n",
    "    a = 100                    # 局部变量\n",
    "    print(\"a:\", a)\n",
    "testA()\n",
    "# print(\"testA中a的值:\", a)    # 报错(命名异常，a没有被定义)"
   ]
  },
  {
   "cell_type": "markdown",
   "id": "9a023aad",
   "metadata": {},
   "source": [
    "作用：在函数体内部，临时保存数据，当函数调用完成后，则在内存中释放局部变量"
   ]
  },
  {
   "cell_type": "code",
   "execution_count": 36,
   "id": "fd268743",
   "metadata": {},
   "outputs": [
    {
     "name": "stdout",
     "output_type": "stream",
     "text": [
      "a: 100\n"
     ]
    }
   ],
   "source": [
    "def testB(): \n",
    "    a = 100                    # 局部变量 \n",
    "    # a = 120\n",
    "    print(\"a:\", a)             # 100\n",
    "testB()       "
   ]
  },
  {
   "cell_type": "markdown",
   "id": "aea032a7",
   "metadata": {},
   "source": [
    "### 全局变量\n",
    "\n",
    "含义：函数外部定义的变量，在函数体内、外都能生效"
   ]
  },
  {
   "cell_type": "code",
   "execution_count": 38,
   "id": "efccf372",
   "metadata": {},
   "outputs": [
    {
     "name": "stdout",
     "output_type": "stream",
     "text": [
      "testA中a的值: 100\n",
      "testB中a的值: 100\n"
     ]
    }
   ],
   "source": [
    "a = 100                         # 全局变量\n",
    "def testA():\n",
    "    print(\"testA中a的值:\", a)    # 访问全局变量a，并打印变量a存储的数据\n",
    "def testB():\n",
    "    print(\"testB中a的值:\", a)    # 访问全局变量a，并打印变量a存储的数据\n",
    "testA()                         # 100\n",
    "testB()                         # 100"
   ]
  },
  {
   "cell_type": "markdown",
   "id": "3963fc49",
   "metadata": {},
   "source": [
    "### 全局变量和局部变量命名相同\n",
    "局部变量隐藏全局变量"
   ]
  },
  {
   "cell_type": "code",
   "execution_count": 54,
   "id": "6d35dda8",
   "metadata": {},
   "outputs": [
    {
     "name": "stdout",
     "output_type": "stream",
     "text": [
      "a的值:100, \t地址:140729815151504\n",
      "testA中a的值:100, 地址:140729815151504\n",
      "testB中a的值:120, 地址:140729815152144\n",
      "a的值:100, \t地址:140729815151504\n"
     ]
    }
   ],
   "source": [
    "a = 100                                # 全局变量\n",
    "def testA():\n",
    "    print(f\"testA中a的值:{a}, 地址:{id(a)}\")\n",
    "def testB():\n",
    "    a = 120\n",
    "    print(f\"testB中a的值:{a}, 地址:{id(a)}\")    # 局部变量隐藏全局变量\n",
    "print(f\"a的值:{a}, \\t地址:{id(a)}\")   # 100\n",
    "testA()                            # 100\n",
    "testB()                            # 120\n",
    "print(f\"a的值:{a}, \\t地址:{id(a)}\")   # 100"
   ]
  },
  {
   "cell_type": "markdown",
   "id": "4801f533",
   "metadata": {},
   "source": [
    "## global关键字\n",
    "\n",
    "### 作用\n",
    "\n",
    "1. 修改全局变量的值\n",
    "2. 将局部变量声明为全局变量\n",
    "\n",
    "### 语法"
   ]
  },
  {
   "cell_type": "code",
   "execution_count": 55,
   "id": "07c4edb3",
   "metadata": {},
   "outputs": [
    {
     "name": "stdout",
     "output_type": "stream",
     "text": [
      "testA中a的值: 100\n",
      "testB中a的值: 120\n",
      "函数外的a: 120\n",
      "sixstar\n",
      "sixstar\n",
      "sixstar\n"
     ]
    }
   ],
   "source": [
    "# global 变量名\n",
    "a = 100                     # 全局变量\n",
    "def testA():\n",
    "    print(\"testA中a的值:\", a)\n",
    "def testB():\n",
    "    # global a = 120        # 错误写法  无效语法\n",
    "    global a                # 声明全局变量 \n",
    "    a = 120      \n",
    "    print('testB中a的值:', a)\n",
    "testA()\n",
    "testB()\n",
    "print(\"函数外的a:\", a)\n",
    "\n",
    "# 示例2：\n",
    "def study():\n",
    "    global name     \n",
    "    name = \"sixstar\"\n",
    "    print(name)\n",
    "study()\n",
    "print(name)                 # 函数外打印的name，是全局变量名\n",
    "# 成为全局变量，可以在另一个函数中被调用了。\n",
    "def work():\n",
    "    print(name)\n",
    "work()"
   ]
  },
  {
   "cell_type": "markdown",
   "id": "aab1dd99",
   "metadata": {},
   "source": [
    "## 声明多个全局变量"
   ]
  },
  {
   "cell_type": "code",
   "execution_count": 56,
   "id": "b2a1a74d",
   "metadata": {},
   "outputs": [
    {
     "name": "stdout",
     "output_type": "stream",
     "text": [
      "sixstar python基础\n",
      "python基础\n"
     ]
    }
   ],
   "source": [
    "def study():\n",
    "    global name, course    # 可以使用global一次性对多个全局变量进行声明\n",
    "    name = \"sixstar\"\n",
    "    course = \"python基础\"\n",
    "    print(name,course)\n",
    "study()\n",
    "# print(name)              # 函数外打印的name，是全局变量名\n",
    "def work():\n",
    "    print(course)\n",
    "work()"
   ]
  }
 ],
 "metadata": {
  "kernelspec": {
   "display_name": "Python 3",
   "language": "python",
   "name": "python3"
  },
  "language_info": {
   "codemirror_mode": {
    "name": "ipython",
    "version": 3
   },
   "file_extension": ".py",
   "mimetype": "text/x-python",
   "name": "python",
   "nbconvert_exporter": "python",
   "pygments_lexer": "ipython3",
   "version": "3.8.8"
  },
  "toc": {
   "base_numbering": 1,
   "nav_menu": {},
   "number_sections": true,
   "sideBar": true,
   "skip_h1_title": false,
   "title_cell": "Table of Contents",
   "title_sidebar": "Contents",
   "toc_cell": false,
   "toc_position": {
    "height": "593px",
    "left": "23px",
    "top": "111.141px",
    "width": "253px"
   },
   "toc_section_display": true,
   "toc_window_display": true
  }
 },
 "nbformat": 4,
 "nbformat_minor": 5
}
