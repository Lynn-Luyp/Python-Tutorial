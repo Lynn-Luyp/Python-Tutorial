{
 "cells": [
  {
   "cell_type": "markdown",
   "id": "842bd3ce",
   "metadata": {},
   "source": [
    "## 运算符、输入函数、转义字符"
   ]
  },
  {
   "cell_type": "markdown",
   "id": "c7e31db8",
   "metadata": {},
   "source": [
    "1. 计算 17 除以 4 的商和余数。\n",
    "2. 输入一个名字，打印出 `你好, <名字>`。\n",
    "3. 使用转义字符打印：\n",
    "```\n",
    "Python\n",
    "\tis fun!\n",
    "```"
   ]
  },
  {
   "cell_type": "code",
   "execution_count": 56,
   "id": "c9ebe355",
   "metadata": {
    "code_folding": [
     0
    ]
   },
   "outputs": [
    {
     "name": "stdout",
     "output_type": "stream",
     "text": [
      "4\n",
      "1\n",
      "你好, 小明\n",
      "Python\n",
      "\tis fun!\n"
     ]
    }
   ],
   "source": [
    "# 答案\n",
    "# 1\n",
    "print(17 // 4)  # 商 4\n",
    "print(17 % 4)   # 余数 1\n",
    "\n",
    "# 2\n",
    "name = \"小明\"  # 模拟输入\n",
    "print(\"你好,\", name)\n",
    "\n",
    "# 3\n",
    "print(\"Python\\n\\tis fun!\")"
   ]
  },
  {
   "cell_type": "markdown",
   "id": "4ce0aa06",
   "metadata": {},
   "source": [
    "## 字符串及基本方法（35分钟）"
   ]
  },
  {
   "cell_type": "markdown",
   "id": "51503284",
   "metadata": {},
   "source": [
    "1. 拼接字符串 `Python` 和 `3.10`，输出 `Python 3.10`。\n",
    "2. 对字符串 `abcdefg`，切片输出：`bcd`。\n",
    "3. 把 `Hello World` 转成小写。\n",
    "4. 在 `I like Java` 中，将 `Java` 替换成 `Python`。\n",
    "5. 将字符串 `a,b,c,d` 按逗号分割成列表。"
   ]
  },
  {
   "cell_type": "code",
   "execution_count": 57,
   "id": "53e9585f",
   "metadata": {
    "code_folding": [
     0
    ],
    "scrolled": true
   },
   "outputs": [
    {
     "name": "stdout",
     "output_type": "stream",
     "text": [
      "Python 3.10\n",
      "bcd\n",
      "hello world\n",
      "I like Python\n",
      "['a', 'b', 'c', 'd']\n"
     ]
    }
   ],
   "source": [
    "# 答案\n",
    "# 1\n",
    "print(\"Python\" + \" \" + \"3.10\")\n",
    "\n",
    "# 2\n",
    "print(\"abcdefg\"[1:4])\n",
    "\n",
    "# 3\n",
    "print(\"Hello World\".lower())\n",
    "\n",
    "# 4\n",
    "print(\"I like Java\".replace(\"Java\", \"Python\"))\n",
    "\n",
    "# 5\n",
    "print(\"a,b,c,d\".split(\",\"))"
   ]
  },
  {
   "cell_type": "markdown",
   "id": "c4cde856",
   "metadata": {},
   "source": [
    "## 列表及基本方法（35分钟）"
   ]
  },
  {
   "cell_type": "markdown",
   "id": "e9437b7f",
   "metadata": {},
   "source": [
    "1. 创建一个列表 `[1, 2, 3]`，在末尾加上 `4`。\n",
    "2. 在列表 `[10, 20, 30]` 的索引 1 处插入 `15`。\n",
    "3. 删除 `[5, 6, 7]` 中的元素 `6`。\n",
    "4. 对 `[3, 1, 4, 2]` 进行排序。\n",
    "5. 获取 `[10, 20, 30, 40, 50]` 的长度，并切片输出 `[20, 30, 40]`。"
   ]
  },
  {
   "cell_type": "code",
   "execution_count": 58,
   "id": "0c419f7c",
   "metadata": {
    "code_folding": [
     0
    ],
    "scrolled": true
   },
   "outputs": [
    {
     "name": "stdout",
     "output_type": "stream",
     "text": [
      "[1, 2, 3, 4]\n",
      "[10, 15, 20, 30]\n",
      "[5, 7]\n",
      "[1, 2, 3, 4]\n",
      "5\n",
      "[20, 30, 40]\n"
     ]
    }
   ],
   "source": [
    "# 答案\n",
    "# 1\n",
    "lst = [1, 2, 3]\n",
    "lst.append(4)\n",
    "print(lst)\n",
    "\n",
    "# 2\n",
    "lst = [10, 20, 30]\n",
    "lst.insert(1, 15)\n",
    "print(lst)\n",
    "\n",
    "# 3\n",
    "lst = [5, 6, 7]\n",
    "lst.remove(6)\n",
    "print(lst)\n",
    "\n",
    "# 4\n",
    "lst = [3, 1, 4, 2]\n",
    "lst.sort()\n",
    "print(lst)\n",
    "\n",
    "# 5\n",
    "lst = [10, 20, 30, 40, 50]\n",
    "print(len(lst))\n",
    "print(lst[1:4])"
   ]
  },
  {
   "cell_type": "markdown",
   "id": "35c002ae",
   "metadata": {},
   "source": [
    "## 元组及基本方法（10分钟）"
   ]
  },
  {
   "cell_type": "markdown",
   "id": "f93df3ed",
   "metadata": {},
   "source": [
    "1. 定义一个元组 `(10, 20, 30)`，取出第 2 个元素。\n",
    "2. 对 `(1, 2, 2, 3)` 统计 `2` 出现的次数。\n",
    "3. 将元组 `(100, 200, 300, 400)` 切片输出 `(200, 300)`。"
   ]
  },
  {
   "cell_type": "code",
   "execution_count": 59,
   "id": "9a642379",
   "metadata": {
    "code_folding": [
     0
    ],
    "scrolled": true
   },
   "outputs": [
    {
     "name": "stdout",
     "output_type": "stream",
     "text": [
      "20\n",
      "2\n",
      "(200, 300)\n"
     ]
    }
   ],
   "source": [
    "# 答案\n",
    "# 1\n",
    "t = (10, 20, 30)\n",
    "print(t[1])\n",
    "\n",
    "# 2\n",
    "t = (1, 2, 2, 3)\n",
    "print(t.count(2))\n",
    "\n",
    "# 3\n",
    "t = (100, 200, 300, 400)\n",
    "print(t[1:3])"
   ]
  },
  {
   "cell_type": "markdown",
   "id": "eb830391",
   "metadata": {},
   "source": [
    "## 切片题"
   ]
  },
  {
   "cell_type": "markdown",
   "id": "0d08a226",
   "metadata": {},
   "source": [
    "**切片题 1**\n",
    "\n",
    "请写出以下代码的输出结果，并简要说明原因。\n",
    "\n",
    "```python\n",
    "text = 'PythonProgramming'\n",
    "result = text[1:6]\n",
    "print(result)\n",
    "```"
   ]
  },
  {
   "cell_type": "code",
   "execution_count": 6,
   "id": "60957520",
   "metadata": {},
   "outputs": [
    {
     "name": "stdout",
     "output_type": "stream",
     "text": [
      "ython\n"
     ]
    }
   ],
   "source": [
    "text = 'PythonProgramming'\n",
    "result = text[1:6]\n",
    "print(result)"
   ]
  },
  {
   "cell_type": "markdown",
   "id": "e766ee8c",
   "metadata": {},
   "source": [
    "✅ 答案：这里取的是字符串从索引 1 到 6（不含末尾）的子串。例如，`text[1:6] = {text[1:6]}`。"
   ]
  },
  {
   "cell_type": "markdown",
   "id": "cecd3961",
   "metadata": {},
   "source": [
    "**切片题 2**\n",
    "\n",
    "请写出以下代码的输出结果，并简要说明原因。\n",
    "\n",
    "```python\n",
    "text = 'PythonProgramming'\n",
    "result = text[2:7]\n",
    "print(result)\n",
    "```"
   ]
  },
  {
   "cell_type": "code",
   "execution_count": 7,
   "id": "7c3452c2",
   "metadata": {},
   "outputs": [
    {
     "name": "stdout",
     "output_type": "stream",
     "text": [
      "thonP\n"
     ]
    }
   ],
   "source": [
    "text = 'PythonProgramming'\n",
    "result = text[2:7]\n",
    "print(result)"
   ]
  },
  {
   "cell_type": "markdown",
   "id": "888cde4a",
   "metadata": {},
   "source": [
    "✅ 答案：这里取的是字符串从索引 2 到 7（不含末尾）的子串。例如，`text[2:7] = {text[2:7]}`。"
   ]
  },
  {
   "cell_type": "markdown",
   "id": "e91328fb",
   "metadata": {},
   "source": [
    "**切片题 3**\n",
    "\n",
    "请写出以下代码的输出结果，并简要说明原因。\n",
    "\n",
    "```python\n",
    "text = 'PythonProgramming'\n",
    "result = text[3:8]\n",
    "print(result)\n",
    "```"
   ]
  },
  {
   "cell_type": "code",
   "execution_count": 8,
   "id": "388f263f",
   "metadata": {},
   "outputs": [
    {
     "name": "stdout",
     "output_type": "stream",
     "text": [
      "honPr\n"
     ]
    }
   ],
   "source": [
    "text = 'PythonProgramming'\n",
    "result = text[3:8]\n",
    "print(result)"
   ]
  },
  {
   "cell_type": "markdown",
   "id": "94a4c564",
   "metadata": {},
   "source": [
    "✅ 答案：这里取的是字符串从索引 3 到 8（不含末尾）的子串。例如，`text[3:8] = {text[3:8]}`。"
   ]
  },
  {
   "cell_type": "markdown",
   "id": "65f2e259",
   "metadata": {},
   "source": [
    "**切片题 4**\n",
    "\n",
    "请写出以下代码的输出结果，并简要说明原因。\n",
    "\n",
    "```python\n",
    "text = 'PythonProgramming'\n",
    "result = text[4:9]\n",
    "print(result)\n",
    "```"
   ]
  },
  {
   "cell_type": "code",
   "execution_count": 9,
   "id": "e83166fa",
   "metadata": {},
   "outputs": [
    {
     "name": "stdout",
     "output_type": "stream",
     "text": [
      "onPro\n"
     ]
    }
   ],
   "source": [
    "text = 'PythonProgramming'\n",
    "result = text[4:9]\n",
    "print(result)"
   ]
  },
  {
   "cell_type": "markdown",
   "id": "349d1255",
   "metadata": {},
   "source": [
    "✅ 答案：这里取的是字符串从索引 4 到 9（不含末尾）的子串。例如，`text[4:9] = {text[4:9]}`。"
   ]
  },
  {
   "cell_type": "markdown",
   "id": "eb3c46a4",
   "metadata": {},
   "source": [
    "**切片题 5**\n",
    "\n",
    "请写出以下代码的输出结果，并简要说明原因。\n",
    "\n",
    "```python\n",
    "text = 'PythonProgramming'\n",
    "result = text[0:10]\n",
    "print(result)\n",
    "```"
   ]
  },
  {
   "cell_type": "code",
   "execution_count": 10,
   "id": "5d7ef3e0",
   "metadata": {},
   "outputs": [
    {
     "name": "stdout",
     "output_type": "stream",
     "text": [
      "PythonProg\n"
     ]
    }
   ],
   "source": [
    "text = 'PythonProgramming'\n",
    "result = text[0:10]\n",
    "print(result)"
   ]
  },
  {
   "cell_type": "markdown",
   "id": "f6a36cdf",
   "metadata": {},
   "source": [
    "✅ 答案：这里取的是字符串从索引 0 到 10（不含末尾）的子串。例如，`text[0:10] = {text[0:10]}`。"
   ]
  },
  {
   "cell_type": "markdown",
   "id": "189527b5",
   "metadata": {},
   "source": [
    "**切片题 6**\n",
    "\n",
    "请写出以下代码的输出结果，并简要说明原因。\n",
    "\n",
    "```python\n",
    "text = 'PythonProgramming'\n",
    "result = text[1:11]\n",
    "print(result)\n",
    "```"
   ]
  },
  {
   "cell_type": "code",
   "execution_count": 11,
   "id": "3fe79feb",
   "metadata": {},
   "outputs": [
    {
     "name": "stdout",
     "output_type": "stream",
     "text": [
      "ythonProgr\n"
     ]
    }
   ],
   "source": [
    "text = 'PythonProgramming'\n",
    "result = text[1:11]\n",
    "print(result)"
   ]
  },
  {
   "cell_type": "markdown",
   "id": "3c5b57d7",
   "metadata": {},
   "source": [
    "✅ 答案：这里取的是字符串从索引 1 到 11（不含末尾）的子串。例如，`text[1:11] = {text[1:11]}`。"
   ]
  },
  {
   "cell_type": "markdown",
   "id": "6c0ce01c",
   "metadata": {},
   "source": [
    "**切片题 7**\n",
    "\n",
    "请写出以下代码的输出结果，并简要说明原因。\n",
    "\n",
    "```python\n",
    "text = 'PythonProgramming'\n",
    "result = text[2:5]\n",
    "print(result)\n",
    "```"
   ]
  },
  {
   "cell_type": "code",
   "execution_count": 12,
   "id": "adba108d",
   "metadata": {},
   "outputs": [
    {
     "name": "stdout",
     "output_type": "stream",
     "text": [
      "tho\n"
     ]
    }
   ],
   "source": [
    "text = 'PythonProgramming'\n",
    "result = text[2:5]\n",
    "print(result)"
   ]
  },
  {
   "cell_type": "markdown",
   "id": "f41db599",
   "metadata": {},
   "source": [
    "✅ 答案：这里取的是字符串从索引 2 到 5（不含末尾）的子串。例如，`text[2:5] = {text[2:5]}`。"
   ]
  },
  {
   "cell_type": "markdown",
   "id": "70f0394d",
   "metadata": {},
   "source": [
    "**切片题 8**\n",
    "\n",
    "请写出以下代码的输出结果，并简要说明原因。\n",
    "\n",
    "```python\n",
    "text = 'PythonProgramming'\n",
    "result = text[3:6]\n",
    "print(result)\n",
    "```"
   ]
  },
  {
   "cell_type": "code",
   "execution_count": 13,
   "id": "f89b03bf",
   "metadata": {},
   "outputs": [
    {
     "name": "stdout",
     "output_type": "stream",
     "text": [
      "hon\n"
     ]
    }
   ],
   "source": [
    "text = 'PythonProgramming'\n",
    "result = text[3:6]\n",
    "print(result)"
   ]
  },
  {
   "cell_type": "markdown",
   "id": "70c4916a",
   "metadata": {},
   "source": [
    "✅ 答案：这里取的是字符串从索引 3 到 6（不含末尾）的子串。例如，`text[3:6] = {text[3:6]}`。"
   ]
  },
  {
   "cell_type": "markdown",
   "id": "eef41e13",
   "metadata": {},
   "source": [
    "**切片题 9**\n",
    "\n",
    "请写出以下代码的输出结果，并简要说明原因。\n",
    "\n",
    "```python\n",
    "text = 'PythonProgramming'\n",
    "result = text[4:7]\n",
    "print(result)\n",
    "```"
   ]
  },
  {
   "cell_type": "code",
   "execution_count": 14,
   "id": "0d278390",
   "metadata": {},
   "outputs": [
    {
     "name": "stdout",
     "output_type": "stream",
     "text": [
      "onP\n"
     ]
    }
   ],
   "source": [
    "text = 'PythonProgramming'\n",
    "result = text[4:7]\n",
    "print(result)"
   ]
  },
  {
   "cell_type": "markdown",
   "id": "7c4229f7",
   "metadata": {},
   "source": [
    "✅ 答案：这里取的是字符串从索引 4 到 7（不含末尾）的子串。例如，`text[4:7] = {text[4:7]}`。"
   ]
  },
  {
   "cell_type": "markdown",
   "id": "ab26e45c",
   "metadata": {},
   "source": [
    "**切片题 10**\n",
    "\n",
    "请写出以下代码的输出结果，并简要说明原因。\n",
    "\n",
    "```python\n",
    "text = 'PythonProgramming'\n",
    "result = text[0:8]\n",
    "print(result)\n",
    "```"
   ]
  },
  {
   "cell_type": "code",
   "execution_count": 15,
   "id": "c62d11e4",
   "metadata": {},
   "outputs": [
    {
     "name": "stdout",
     "output_type": "stream",
     "text": [
      "PythonPr\n"
     ]
    }
   ],
   "source": [
    "text = 'PythonProgramming'\n",
    "result = text[0:8]\n",
    "print(result)"
   ]
  },
  {
   "cell_type": "markdown",
   "id": "47371113",
   "metadata": {},
   "source": [
    "✅ 答案：这里取的是字符串从索引 0 到 8（不含末尾）的子串。例如，`text[0:8] = {text[0:8]}`。"
   ]
  },
  {
   "cell_type": "markdown",
   "id": "35d3730e",
   "metadata": {},
   "source": [
    "**切片题 11**\n",
    "\n",
    "请写出以下代码的输出结果，并简要说明原因。\n",
    "\n",
    "```python\n",
    "text = 'PythonProgramming'\n",
    "result = text[1:9]\n",
    "print(result)\n",
    "```"
   ]
  },
  {
   "cell_type": "code",
   "execution_count": 16,
   "id": "08ded3c8",
   "metadata": {},
   "outputs": [
    {
     "name": "stdout",
     "output_type": "stream",
     "text": [
      "ythonPro\n"
     ]
    }
   ],
   "source": [
    "text = 'PythonProgramming'\n",
    "result = text[1:9]\n",
    "print(result)"
   ]
  },
  {
   "cell_type": "markdown",
   "id": "c2e6d7ad",
   "metadata": {},
   "source": [
    "✅ 答案：这里取的是字符串从索引 1 到 9（不含末尾）的子串。例如，`text[1:9] = {text[1:9]}`。"
   ]
  },
  {
   "cell_type": "markdown",
   "id": "73bb98f3",
   "metadata": {},
   "source": [
    "**切片题 12**\n",
    "\n",
    "请写出以下代码的输出结果，并简要说明原因。\n",
    "\n",
    "```python\n",
    "text = 'PythonProgramming'\n",
    "result = text[2:10]\n",
    "print(result)\n",
    "```"
   ]
  },
  {
   "cell_type": "code",
   "execution_count": 17,
   "id": "723e96dc",
   "metadata": {},
   "outputs": [
    {
     "name": "stdout",
     "output_type": "stream",
     "text": [
      "thonProg\n"
     ]
    }
   ],
   "source": [
    "text = 'PythonProgramming'\n",
    "result = text[2:10]\n",
    "print(result)"
   ]
  },
  {
   "cell_type": "markdown",
   "id": "28d7745b",
   "metadata": {},
   "source": [
    "✅ 答案：这里取的是字符串从索引 2 到 10（不含末尾）的子串。例如，`text[2:10] = {text[2:10]}`。"
   ]
  },
  {
   "cell_type": "markdown",
   "id": "77bf0729",
   "metadata": {},
   "source": [
    "**切片题 13**\n",
    "\n",
    "请写出以下代码的输出结果，并简要说明原因。\n",
    "\n",
    "```python\n",
    "text = 'PythonProgramming'\n",
    "result = text[3:11]\n",
    "print(result)\n",
    "```"
   ]
  },
  {
   "cell_type": "code",
   "execution_count": 18,
   "id": "68461886",
   "metadata": {},
   "outputs": [
    {
     "name": "stdout",
     "output_type": "stream",
     "text": [
      "honProgr\n"
     ]
    }
   ],
   "source": [
    "text = 'PythonProgramming'\n",
    "result = text[3:11]\n",
    "print(result)"
   ]
  },
  {
   "cell_type": "markdown",
   "id": "4f669af2",
   "metadata": {},
   "source": [
    "✅ 答案：这里取的是字符串从索引 3 到 11（不含末尾）的子串。例如，`text[3:11] = {text[3:11]}`。"
   ]
  },
  {
   "cell_type": "markdown",
   "id": "900b59c7",
   "metadata": {},
   "source": [
    "**切片题 14**\n",
    "\n",
    "请写出以下代码的输出结果，并简要说明原因。\n",
    "\n",
    "```python\n",
    "text = 'PythonProgramming'\n",
    "result = text[4:5]\n",
    "print(result)\n",
    "```"
   ]
  },
  {
   "cell_type": "code",
   "execution_count": 19,
   "id": "ed8bd9f2",
   "metadata": {},
   "outputs": [
    {
     "name": "stdout",
     "output_type": "stream",
     "text": [
      "o\n"
     ]
    }
   ],
   "source": [
    "text = 'PythonProgramming'\n",
    "result = text[4:5]\n",
    "print(result)"
   ]
  },
  {
   "cell_type": "markdown",
   "id": "5ec2a169",
   "metadata": {},
   "source": [
    "✅ 答案：这里取的是字符串从索引 4 到 5（不含末尾）的子串。例如，`text[4:5] = {text[4:5]}`。"
   ]
  },
  {
   "cell_type": "markdown",
   "id": "fa861d98",
   "metadata": {},
   "source": [
    "**切片题 15**\n",
    "\n",
    "请写出以下代码的输出结果，并简要说明原因。\n",
    "\n",
    "```python\n",
    "text = 'PythonProgramming'\n",
    "result = text[0:6]\n",
    "print(result)\n",
    "```"
   ]
  },
  {
   "cell_type": "code",
   "execution_count": 20,
   "id": "0eaece15",
   "metadata": {},
   "outputs": [
    {
     "name": "stdout",
     "output_type": "stream",
     "text": [
      "Python\n"
     ]
    }
   ],
   "source": [
    "text = 'PythonProgramming'\n",
    "result = text[0:6]\n",
    "print(result)"
   ]
  },
  {
   "cell_type": "markdown",
   "id": "ef716fe1",
   "metadata": {},
   "source": [
    "✅ 答案：这里取的是字符串从索引 0 到 6（不含末尾）的子串。例如，`text[0:6] = {text[0:6]}`。"
   ]
  },
  {
   "cell_type": "markdown",
   "id": "22c57e4d",
   "metadata": {},
   "source": [
    "**切片题 16**\n",
    "\n",
    "请写出以下代码的输出结果，并简要说明原因。\n",
    "\n",
    "```python\n",
    "text = 'PythonProgramming'\n",
    "result = text[1:7]\n",
    "print(result)\n",
    "```"
   ]
  },
  {
   "cell_type": "code",
   "execution_count": 21,
   "id": "efb93bf5",
   "metadata": {},
   "outputs": [
    {
     "name": "stdout",
     "output_type": "stream",
     "text": [
      "ythonP\n"
     ]
    }
   ],
   "source": [
    "text = 'PythonProgramming'\n",
    "result = text[1:7]\n",
    "print(result)"
   ]
  },
  {
   "cell_type": "markdown",
   "id": "bd2d326a",
   "metadata": {},
   "source": [
    "✅ 答案：这里取的是字符串从索引 1 到 7（不含末尾）的子串。例如，`text[1:7] = {text[1:7]}`。"
   ]
  },
  {
   "cell_type": "markdown",
   "id": "ffae922d",
   "metadata": {},
   "source": [
    "**切片题 17**\n",
    "\n",
    "请写出以下代码的输出结果，并简要说明原因。\n",
    "\n",
    "```python\n",
    "text = 'PythonProgramming'\n",
    "result = text[2:8]\n",
    "print(result)\n",
    "```"
   ]
  },
  {
   "cell_type": "code",
   "execution_count": 22,
   "id": "f59524f1",
   "metadata": {},
   "outputs": [
    {
     "name": "stdout",
     "output_type": "stream",
     "text": [
      "thonPr\n"
     ]
    }
   ],
   "source": [
    "text = 'PythonProgramming'\n",
    "result = text[2:8]\n",
    "print(result)"
   ]
  },
  {
   "cell_type": "markdown",
   "id": "316ae937",
   "metadata": {},
   "source": [
    "✅ 答案：这里取的是字符串从索引 2 到 8（不含末尾）的子串。例如，`text[2:8] = {text[2:8]}`。"
   ]
  },
  {
   "cell_type": "markdown",
   "id": "3d28672d",
   "metadata": {},
   "source": [
    "**切片题 18**\n",
    "\n",
    "请写出以下代码的输出结果，并简要说明原因。\n",
    "\n",
    "```python\n",
    "text = 'PythonProgramming'\n",
    "result = text[3:9]\n",
    "print(result)\n",
    "```"
   ]
  },
  {
   "cell_type": "code",
   "execution_count": 23,
   "id": "aa2982d3",
   "metadata": {},
   "outputs": [
    {
     "name": "stdout",
     "output_type": "stream",
     "text": [
      "honPro\n"
     ]
    }
   ],
   "source": [
    "text = 'PythonProgramming'\n",
    "result = text[3:9]\n",
    "print(result)"
   ]
  },
  {
   "cell_type": "markdown",
   "id": "0833c320",
   "metadata": {},
   "source": [
    "✅ 答案：这里取的是字符串从索引 3 到 9（不含末尾）的子串。例如，`text[3:9] = {text[3:9]}`。"
   ]
  },
  {
   "cell_type": "markdown",
   "id": "79821cad",
   "metadata": {},
   "source": [
    "**切片题 19**\n",
    "\n",
    "请写出以下代码的输出结果，并简要说明原因。\n",
    "\n",
    "```python\n",
    "text = 'PythonProgramming'\n",
    "result = text[4:10]\n",
    "print(result)\n",
    "```"
   ]
  },
  {
   "cell_type": "code",
   "execution_count": 24,
   "id": "eb13a019",
   "metadata": {},
   "outputs": [
    {
     "name": "stdout",
     "output_type": "stream",
     "text": [
      "onProg\n"
     ]
    }
   ],
   "source": [
    "text = 'PythonProgramming'\n",
    "result = text[4:10]\n",
    "print(result)"
   ]
  },
  {
   "cell_type": "markdown",
   "id": "6e2ac1ef",
   "metadata": {},
   "source": [
    "✅ 答案：这里取的是字符串从索引 4 到 10（不含末尾）的子串。例如，`text[4:10] = {text[4:10]}`。"
   ]
  },
  {
   "cell_type": "markdown",
   "id": "7a9143ef",
   "metadata": {},
   "source": [
    "**切片题 20**  \n",
    "\n",
    "已知：  \n",
    "```python\n",
    "s = \"abcdefghi\"\n",
    "```  \n",
    "想要索引出 **\"bcd\"**，请写出两种方式：  \n",
    "\n",
    "1. 正向索引  \n",
    "2. 反向索引  \n"
   ]
  },
  {
   "cell_type": "code",
   "execution_count": 25,
   "id": "304b1683",
   "metadata": {},
   "outputs": [
    {
     "name": "stdout",
     "output_type": "stream",
     "text": [
      "bcd\n",
      "bcd\n"
     ]
    }
   ],
   "source": [
    "s = \"abcdefghi\"\n",
    "print(s[1:4])\n",
    "print(s[-8:-5])"
   ]
  },
  {
   "cell_type": "markdown",
   "id": "29e59ac2",
   "metadata": {},
   "source": [
    "✅ 答案：\n",
    "```python\n",
    "s[1:4]  # bcd\n",
    "s[-8:-5]  # bcd\n",
    "```"
   ]
  },
  {
   "cell_type": "markdown",
   "id": "2c1df547",
   "metadata": {},
   "source": [
    "**切片题 21**  \n",
    "\n",
    "已知：  \n",
    "```python\n",
    "s = \"abcdefghi\"\n",
    "```  \n",
    "想要索引出 **\"ghi\"**，请写出两种方式：  \n",
    "\n",
    "1. 正向索引  \n",
    "2. 反向索引  \n"
   ]
  },
  {
   "cell_type": "code",
   "execution_count": 26,
   "id": "ab33c5ba",
   "metadata": {},
   "outputs": [
    {
     "name": "stdout",
     "output_type": "stream",
     "text": [
      "ghi\n",
      "ghi\n"
     ]
    }
   ],
   "source": [
    "s = \"abcdefghi\"\n",
    "print(s[6:])\n",
    "print(s[-3:])"
   ]
  },
  {
   "cell_type": "markdown",
   "id": "ba99f1c3",
   "metadata": {},
   "source": [
    "✅ 答案：\n",
    "```python\n",
    "s[6:]  # ghi\n",
    "s[-3:]  # ghi\n",
    "```"
   ]
  },
  {
   "cell_type": "markdown",
   "id": "fe426d32",
   "metadata": {},
   "source": [
    "**切片题 22**  \n",
    "\n",
    "已知：  \n",
    "```python\n",
    "s = \"abcdefghi\"\n",
    "```  \n",
    "想要索引出 **\"abc\"**，请写出两种方式：  \n",
    "\n",
    "1. 正向索引  \n",
    "2. 反向索引  \n"
   ]
  },
  {
   "cell_type": "code",
   "execution_count": 27,
   "id": "97607c3a",
   "metadata": {},
   "outputs": [
    {
     "name": "stdout",
     "output_type": "stream",
     "text": [
      "abc\n",
      "abc\n"
     ]
    }
   ],
   "source": [
    "s = \"abcdefghi\"\n",
    "print(s[:3])\n",
    "print(s[:-6])"
   ]
  },
  {
   "cell_type": "markdown",
   "id": "87054fb3",
   "metadata": {},
   "source": [
    "✅ 答案：\n",
    "```python\n",
    "s[:3]  # abc\n",
    "s[:-6]  # abc\n",
    "```"
   ]
  },
  {
   "cell_type": "markdown",
   "id": "b6f0eb38",
   "metadata": {},
   "source": [
    "**切片题 23**  \n",
    "\n",
    "已知：  \n",
    "```python\n",
    "s = \"abcdefghi\"\n",
    "```  \n",
    "想要索引出 **\"ace\"**，请写出两种方式：  \n",
    "\n",
    "1. 正向索引  \n",
    "2. 反向索引  \n"
   ]
  },
  {
   "cell_type": "code",
   "execution_count": 28,
   "id": "c16c2872",
   "metadata": {},
   "outputs": [
    {
     "name": "stdout",
     "output_type": "stream",
     "text": [
      "ace\n",
      "ace\n"
     ]
    }
   ],
   "source": [
    "s = \"abcdefghi\"\n",
    "print(s[0:5:2])\n",
    "print(s[::2][:3])"
   ]
  },
  {
   "cell_type": "markdown",
   "id": "11acea13",
   "metadata": {},
   "source": [
    "✅ 答案：\n",
    "```python\n",
    "s[0:5:2]  # ace\n",
    "s[::2][:3]  # ace\n",
    "```"
   ]
  },
  {
   "cell_type": "markdown",
   "id": "4e6d76bf",
   "metadata": {},
   "source": [
    "**切片题 24**  \n",
    "\n",
    "已知：  \n",
    "```python\n",
    "s = \"abcdefghi\"\n",
    "```  \n",
    "想要索引出 **\"hgf\"**，请写出两种方式：  \n",
    "\n",
    "1. 正向索引  \n",
    "2. 反向索引  \n"
   ]
  },
  {
   "cell_type": "code",
   "execution_count": 29,
   "id": "901ee480",
   "metadata": {},
   "outputs": [
    {
     "name": "stdout",
     "output_type": "stream",
     "text": [
      "hgf\n",
      "hgf\n"
     ]
    }
   ],
   "source": [
    "s = \"abcdefghi\"\n",
    "print(s[7:4:-1])\n",
    "print(s[-2:-5:-1])"
   ]
  },
  {
   "cell_type": "markdown",
   "id": "4b9146c8",
   "metadata": {},
   "source": [
    "✅ 答案：\n",
    "```python\n",
    "s[7:4:-1]  # hgf\n",
    "s[-2:-5:-1]  # hgf\n",
    "```"
   ]
  },
  {
   "cell_type": "markdown",
   "id": "f21c7dbd",
   "metadata": {},
   "source": [
    "**切片题 25**  \n",
    "\n",
    "已知：  \n",
    "```python\n",
    "s = \"abcdefghi\"\n",
    "```  \n",
    "想要索引出 **\"abcdefghi\"**，请写出两种方式：  \n",
    "\n",
    "1. 正向索引  \n",
    "2. 反向索引  \n"
   ]
  },
  {
   "cell_type": "code",
   "execution_count": 30,
   "id": "e7c8f00f",
   "metadata": {},
   "outputs": [
    {
     "name": "stdout",
     "output_type": "stream",
     "text": [
      "abcdefghi\n",
      "abcdefghi\n"
     ]
    }
   ],
   "source": [
    "s = \"abcdefghi\"\n",
    "print(s[:])\n",
    "print(s[::])"
   ]
  },
  {
   "cell_type": "markdown",
   "id": "9bbfb5cf",
   "metadata": {},
   "source": [
    "✅ 答案：\n",
    "```python\n",
    "s[:]  # abcdefghi\n",
    "s[::]  # abcdefghi\n",
    "```"
   ]
  },
  {
   "cell_type": "markdown",
   "id": "600480d9",
   "metadata": {},
   "source": [
    "**切片题 26**  \n",
    "\n",
    "已知：  \n",
    "```python\n",
    "s = \"abcdefghi\"\n",
    "```  \n",
    "想要索引出 **\"ihg\"**，请写出两种方式：  \n",
    "\n",
    "1. 正向索引  \n",
    "2. 反向索引  \n"
   ]
  },
  {
   "cell_type": "code",
   "execution_count": 31,
   "id": "6a07507d",
   "metadata": {},
   "outputs": [
    {
     "name": "stdout",
     "output_type": "stream",
     "text": [
      "ihg\n",
      "ihg\n"
     ]
    }
   ],
   "source": [
    "s = \"abcdefghi\"\n",
    "print(s[-1:-4:-1])\n",
    "print(s[8:5:-1])"
   ]
  },
  {
   "cell_type": "markdown",
   "id": "b214ebab",
   "metadata": {},
   "source": [
    "✅ 答案：\n",
    "```python\n",
    "s[-1:-4:-1]  # ihg\n",
    "s[8:5:-1]  # ihg\n",
    "```"
   ]
  },
  {
   "cell_type": "markdown",
   "id": "6703e9ff",
   "metadata": {},
   "source": [
    "**切片题 27**  \n",
    "\n",
    "已知：  \n",
    "```python\n",
    "s = \"abcdefghi\"\n",
    "```  \n",
    "想要索引出 **\"de\"**，请写出两种方式：  \n",
    "\n",
    "1. 正向索引  \n",
    "2. 反向索引  \n"
   ]
  },
  {
   "cell_type": "code",
   "execution_count": 32,
   "id": "33b2f1ab",
   "metadata": {},
   "outputs": [
    {
     "name": "stdout",
     "output_type": "stream",
     "text": [
      "de\n",
      "de\n"
     ]
    }
   ],
   "source": [
    "s = \"abcdefghi\"\n",
    "print(s[3:5])\n",
    "print(s[-6:-4])"
   ]
  },
  {
   "cell_type": "markdown",
   "id": "1bc24303",
   "metadata": {},
   "source": [
    "✅ 答案：\n",
    "```python\n",
    "s[3:5]  # de\n",
    "s[-6:-4]  # de\n",
    "```"
   ]
  },
  {
   "cell_type": "markdown",
   "id": "08a74e18",
   "metadata": {},
   "source": [
    "**切片题 28**  \n",
    "\n",
    "已知：  \n",
    "```python\n",
    "s = \"abcdefghi\"\n",
    "```  \n",
    "想要索引出 **\"f\"**，请写出两种方式：  \n",
    "\n",
    "1. 正向索引  \n",
    "2. 反向索引  \n"
   ]
  },
  {
   "cell_type": "code",
   "execution_count": 33,
   "id": "5eab2292",
   "metadata": {},
   "outputs": [
    {
     "name": "stdout",
     "output_type": "stream",
     "text": [
      "f\n",
      "f\n"
     ]
    }
   ],
   "source": [
    "s = \"abcdefghi\"\n",
    "print(s[5])\n",
    "print(s[-4])"
   ]
  },
  {
   "cell_type": "markdown",
   "id": "39d0e25b",
   "metadata": {},
   "source": [
    "✅ 答案：\n",
    "```python\n",
    "s[5]  # f\n",
    "s[-4]  # f\n",
    "```"
   ]
  },
  {
   "cell_type": "markdown",
   "id": "5e43a2a5",
   "metadata": {},
   "source": [
    "**切片题 29**  \n",
    "\n",
    "已知：  \n",
    "```python\n",
    "s = \"abcdefghi\"\n",
    "```  \n",
    "想要索引出 **\"adg\"**，请写出两种方式：  \n",
    "\n",
    "1. 正向索引  \n",
    "2. 反向索引  \n"
   ]
  },
  {
   "cell_type": "code",
   "execution_count": 34,
   "id": "703c596a",
   "metadata": {},
   "outputs": [
    {
     "name": "stdout",
     "output_type": "stream",
     "text": [
      "adg\n",
      "adg\n"
     ]
    }
   ],
   "source": [
    "s = \"abcdefghi\"\n",
    "print(s[0:7:3])\n",
    "print(s[::3])"
   ]
  },
  {
   "cell_type": "markdown",
   "id": "4f23a94f",
   "metadata": {},
   "source": [
    "✅ 答案：\n",
    "```python\n",
    "s[0:7:3]  # adg\n",
    "s[::3]  # adg\n",
    "```"
   ]
  },
  {
   "cell_type": "markdown",
   "id": "6e255b8d",
   "metadata": {},
   "source": [
    "**切片题 30**  \n",
    "\n",
    "已知：  \n",
    "```python\n",
    "s = \"abcdefghi\"\n",
    "```  \n",
    "想要索引出 **\"\"**，请写出两种方式：  \n",
    "\n",
    "1. 正向索引  \n",
    "2. 反向索引  \n"
   ]
  },
  {
   "cell_type": "code",
   "execution_count": 35,
   "id": "3787bcde",
   "metadata": {},
   "outputs": [
    {
     "name": "stdout",
     "output_type": "stream",
     "text": [
      "\n",
      "\n"
     ]
    }
   ],
   "source": [
    "s = \"abcdefghi\"\n",
    "print(s[2:2])\n",
    "print(s[-7:-7])"
   ]
  },
  {
   "cell_type": "markdown",
   "id": "2d892ed0",
   "metadata": {},
   "source": [
    "✅ 答案：\n",
    "```python\n",
    "s[2:2]  # \n",
    "s[-7:-7]  # \n",
    "```"
   ]
  },
  {
   "cell_type": "markdown",
   "id": "ba4152b7",
   "metadata": {},
   "source": [
    "## 操作题"
   ]
  },
  {
   "cell_type": "markdown",
   "id": "ea96ed10",
   "metadata": {},
   "source": [
    "**操作题 31**\n",
    "\n",
    "请完成以下任务：\n",
    "\n",
    "- 对列表 / 元组 / 字符串进行指定操作。\n",
    "\n",
    "```python\n",
    "nums = [1, 2, 3, 4, 5]\n",
    "# 要求：将列表反转，并在末尾添加数字 31\n",
    "```"
   ]
  },
  {
   "cell_type": "code",
   "execution_count": 36,
   "id": "ccd1caf3",
   "metadata": {},
   "outputs": [
    {
     "name": "stdout",
     "output_type": "stream",
     "text": [
      "[5, 4, 3, 2, 1, 31]\n"
     ]
    }
   ],
   "source": [
    "nums = [1, 2, 3, 4, 5]\n",
    "nums.reverse()\n",
    "nums.append(31)\n",
    "print(nums)"
   ]
  },
  {
   "cell_type": "markdown",
   "id": "5579f027",
   "metadata": {},
   "source": [
    "✅ 答案：列表反转后为 `[5, 4, 3, 2, 1]`，再添加 31，结果为 `[5, 4, 3, 2, 1, 31]`。"
   ]
  },
  {
   "cell_type": "markdown",
   "id": "2ca35abe",
   "metadata": {},
   "source": [
    "**操作题 32**\n",
    "\n",
    "请完成以下任务：\n",
    "\n",
    "- 对列表 / 元组 / 字符串进行指定操作。\n",
    "\n",
    "```python\n",
    "nums = [1, 2, 3, 4, 5]\n",
    "# 要求：将列表反转，并在末尾添加数字 32\n",
    "```"
   ]
  },
  {
   "cell_type": "code",
   "execution_count": 37,
   "id": "de91e8e5",
   "metadata": {},
   "outputs": [
    {
     "name": "stdout",
     "output_type": "stream",
     "text": [
      "[5, 4, 3, 2, 1, 32]\n"
     ]
    }
   ],
   "source": [
    "nums = [1, 2, 3, 4, 5]\n",
    "nums.reverse()\n",
    "nums.append(32)\n",
    "print(nums)"
   ]
  },
  {
   "cell_type": "markdown",
   "id": "fcd01a13",
   "metadata": {},
   "source": [
    "✅ 答案：列表反转后为 `[5, 4, 3, 2, 1]`，再添加 32，结果为 `[5, 4, 3, 2, 1, 32]`。"
   ]
  },
  {
   "cell_type": "markdown",
   "id": "ea3b2d81",
   "metadata": {},
   "source": [
    "**操作题 33**\n",
    "\n",
    "请完成以下任务：\n",
    "\n",
    "- 对列表 / 元组 / 字符串进行指定操作。\n",
    "\n",
    "```python\n",
    "nums = [1, 2, 3, 4, 5]\n",
    "# 要求：将列表反转，并在末尾添加数字 33\n",
    "```"
   ]
  },
  {
   "cell_type": "code",
   "execution_count": 38,
   "id": "da81a461",
   "metadata": {},
   "outputs": [
    {
     "name": "stdout",
     "output_type": "stream",
     "text": [
      "[5, 4, 3, 2, 1, 33]\n"
     ]
    }
   ],
   "source": [
    "nums = [1, 2, 3, 4, 5]\n",
    "nums.reverse()\n",
    "nums.append(33)\n",
    "print(nums)"
   ]
  },
  {
   "cell_type": "markdown",
   "id": "3b5d6f69",
   "metadata": {},
   "source": [
    "✅ 答案：列表反转后为 `[5, 4, 3, 2, 1]`，再添加 33，结果为 `[5, 4, 3, 2, 1, 33]`。"
   ]
  },
  {
   "cell_type": "markdown",
   "id": "47cc2794",
   "metadata": {},
   "source": [
    "**操作题 34**\n",
    "\n",
    "请完成以下任务：\n",
    "\n",
    "- 对列表 / 元组 / 字符串进行指定操作。\n",
    "\n",
    "```python\n",
    "nums = [1, 2, 3, 4, 5]\n",
    "# 要求：将列表反转，并在末尾添加数字 34\n",
    "```"
   ]
  },
  {
   "cell_type": "code",
   "execution_count": 39,
   "id": "ebb6d8a6",
   "metadata": {},
   "outputs": [
    {
     "name": "stdout",
     "output_type": "stream",
     "text": [
      "[5, 4, 3, 2, 1, 34]\n"
     ]
    }
   ],
   "source": [
    "nums = [1, 2, 3, 4, 5]\n",
    "nums.reverse()\n",
    "nums.append(34)\n",
    "print(nums)"
   ]
  },
  {
   "cell_type": "markdown",
   "id": "fff13312",
   "metadata": {},
   "source": [
    "✅ 答案：列表反转后为 `[5, 4, 3, 2, 1]`，再添加 34，结果为 `[5, 4, 3, 2, 1, 34]`。"
   ]
  },
  {
   "cell_type": "markdown",
   "id": "ce48de61",
   "metadata": {},
   "source": [
    "**操作题 35**\n",
    "\n",
    "请完成以下任务：\n",
    "\n",
    "- 对列表 / 元组 / 字符串进行指定操作。\n",
    "\n",
    "```python\n",
    "nums = [1, 2, 3, 4, 5]\n",
    "# 要求：将列表反转，并在末尾添加数字 35\n",
    "```"
   ]
  },
  {
   "cell_type": "code",
   "execution_count": 40,
   "id": "52414b9a",
   "metadata": {},
   "outputs": [
    {
     "name": "stdout",
     "output_type": "stream",
     "text": [
      "[5, 4, 3, 2, 1, 35]\n"
     ]
    }
   ],
   "source": [
    "nums = [1, 2, 3, 4, 5]\n",
    "nums.reverse()\n",
    "nums.append(35)\n",
    "print(nums)"
   ]
  },
  {
   "cell_type": "markdown",
   "id": "0d88c3bd",
   "metadata": {},
   "source": [
    "✅ 答案：列表反转后为 `[5, 4, 3, 2, 1]`，再添加 35，结果为 `[5, 4, 3, 2, 1, 35]`。"
   ]
  },
  {
   "cell_type": "markdown",
   "id": "5f4339f3",
   "metadata": {},
   "source": [
    "**操作题 36**\n",
    "\n",
    "请完成以下任务：\n",
    "\n",
    "- 对列表 / 元组 / 字符串进行指定操作。\n",
    "\n",
    "```python\n",
    "nums = [1, 2, 3, 4, 5]\n",
    "# 要求：将列表反转，并在末尾添加数字 36\n",
    "```"
   ]
  },
  {
   "cell_type": "code",
   "execution_count": 41,
   "id": "69b37ef7",
   "metadata": {},
   "outputs": [
    {
     "name": "stdout",
     "output_type": "stream",
     "text": [
      "[5, 4, 3, 2, 1, 36]\n"
     ]
    }
   ],
   "source": [
    "nums = [1, 2, 3, 4, 5]\n",
    "nums.reverse()\n",
    "nums.append(36)\n",
    "print(nums)"
   ]
  },
  {
   "cell_type": "markdown",
   "id": "1f9f1bc2",
   "metadata": {},
   "source": [
    "✅ 答案：列表反转后为 `[5, 4, 3, 2, 1]`，再添加 36，结果为 `[5, 4, 3, 2, 1, 36]`。"
   ]
  },
  {
   "cell_type": "markdown",
   "id": "63166522",
   "metadata": {},
   "source": [
    "**操作题 37**\n",
    "\n",
    "请完成以下任务：\n",
    "\n",
    "- 对列表 / 元组 / 字符串进行指定操作。\n",
    "\n",
    "```python\n",
    "nums = [1, 2, 3, 4, 5]\n",
    "# 要求：将列表反转，并在末尾添加数字 37\n",
    "```"
   ]
  },
  {
   "cell_type": "code",
   "execution_count": 42,
   "id": "0563f63d",
   "metadata": {},
   "outputs": [
    {
     "name": "stdout",
     "output_type": "stream",
     "text": [
      "[5, 4, 3, 2, 1, 37]\n"
     ]
    }
   ],
   "source": [
    "nums = [1, 2, 3, 4, 5]\n",
    "nums.reverse()\n",
    "nums.append(37)\n",
    "print(nums)"
   ]
  },
  {
   "cell_type": "markdown",
   "id": "703637d4",
   "metadata": {},
   "source": [
    "✅ 答案：列表反转后为 `[5, 4, 3, 2, 1]`，再添加 37，结果为 `[5, 4, 3, 2, 1, 37]`。"
   ]
  },
  {
   "cell_type": "markdown",
   "id": "c302ea38",
   "metadata": {},
   "source": [
    "**操作题 38**\n",
    "\n",
    "请完成以下任务：\n",
    "\n",
    "- 对列表 / 元组 / 字符串进行指定操作。\n",
    "\n",
    "```python\n",
    "nums = [1, 2, 3, 4, 5]\n",
    "# 要求：将列表反转，并在末尾添加数字 38\n",
    "```"
   ]
  },
  {
   "cell_type": "code",
   "execution_count": 43,
   "id": "4cbf8d29",
   "metadata": {},
   "outputs": [
    {
     "name": "stdout",
     "output_type": "stream",
     "text": [
      "[5, 4, 3, 2, 1, 38]\n"
     ]
    }
   ],
   "source": [
    "nums = [1, 2, 3, 4, 5]\n",
    "nums.reverse()\n",
    "nums.append(38)\n",
    "print(nums)"
   ]
  },
  {
   "cell_type": "markdown",
   "id": "f7cb74f5",
   "metadata": {},
   "source": [
    "✅ 答案：列表反转后为 `[5, 4, 3, 2, 1]`，再添加 38，结果为 `[5, 4, 3, 2, 1, 38]`。"
   ]
  },
  {
   "cell_type": "markdown",
   "id": "0f7e41c7",
   "metadata": {},
   "source": [
    "**操作题 39**\n",
    "\n",
    "请完成以下任务：\n",
    "\n",
    "- 对列表 / 元组 / 字符串进行指定操作。\n",
    "\n",
    "```python\n",
    "nums = [1, 2, 3, 4, 5]\n",
    "# 要求：将列表反转，并在末尾添加数字 39\n",
    "```"
   ]
  },
  {
   "cell_type": "code",
   "execution_count": 44,
   "id": "64e0960e",
   "metadata": {},
   "outputs": [
    {
     "name": "stdout",
     "output_type": "stream",
     "text": [
      "[5, 4, 3, 2, 1, 39]\n"
     ]
    }
   ],
   "source": [
    "nums = [1, 2, 3, 4, 5]\n",
    "nums.reverse()\n",
    "nums.append(39)\n",
    "print(nums)"
   ]
  },
  {
   "cell_type": "markdown",
   "id": "528507bc",
   "metadata": {},
   "source": [
    "✅ 答案：列表反转后为 `[5, 4, 3, 2, 1]`，再添加 39，结果为 `[5, 4, 3, 2, 1, 39]`。"
   ]
  },
  {
   "cell_type": "markdown",
   "id": "2d517b45",
   "metadata": {},
   "source": [
    "**操作题 40**\n",
    "\n",
    "请完成以下任务：\n",
    "\n",
    "- 对列表 / 元组 / 字符串进行指定操作。\n",
    "\n",
    "```python\n",
    "nums = [1, 2, 3, 4, 5]\n",
    "# 要求：将列表反转，并在末尾添加数字 40\n",
    "```"
   ]
  },
  {
   "cell_type": "code",
   "execution_count": 45,
   "id": "7c498b9a",
   "metadata": {},
   "outputs": [
    {
     "name": "stdout",
     "output_type": "stream",
     "text": [
      "[5, 4, 3, 2, 1, 40]\n"
     ]
    }
   ],
   "source": [
    "nums = [1, 2, 3, 4, 5]\n",
    "nums.reverse()\n",
    "nums.append(40)\n",
    "print(nums)"
   ]
  },
  {
   "cell_type": "markdown",
   "id": "3d12fb1c",
   "metadata": {},
   "source": [
    "✅ 答案：列表反转后为 `[5, 4, 3, 2, 1]`，再添加 40，结果为 `[5, 4, 3, 2, 1, 40]`。"
   ]
  },
  {
   "cell_type": "markdown",
   "id": "3e7f2005",
   "metadata": {},
   "source": [
    "**操作题 41**\n",
    "\n",
    "请完成以下任务：\n",
    "\n",
    "- 对列表 / 元组 / 字符串进行指定操作。\n",
    "\n",
    "```python\n",
    "nums = [1, 2, 3, 4, 5]\n",
    "# 要求：将列表反转，并在末尾添加数字 41\n",
    "```"
   ]
  },
  {
   "cell_type": "code",
   "execution_count": 46,
   "id": "bddd0bed",
   "metadata": {},
   "outputs": [
    {
     "name": "stdout",
     "output_type": "stream",
     "text": [
      "[5, 4, 3, 2, 1, 41]\n"
     ]
    }
   ],
   "source": [
    "nums = [1, 2, 3, 4, 5]\n",
    "nums.reverse()\n",
    "nums.append(41)\n",
    "print(nums)"
   ]
  },
  {
   "cell_type": "markdown",
   "id": "99597888",
   "metadata": {},
   "source": [
    "✅ 答案：列表反转后为 `[5, 4, 3, 2, 1]`，再添加 41，结果为 `[5, 4, 3, 2, 1, 41]`。"
   ]
  },
  {
   "cell_type": "markdown",
   "id": "06061626",
   "metadata": {},
   "source": [
    "**操作题 42**\n",
    "\n",
    "请完成以下任务：\n",
    "\n",
    "- 对列表 / 元组 / 字符串进行指定操作。\n",
    "\n",
    "```python\n",
    "nums = [1, 2, 3, 4, 5]\n",
    "# 要求：将列表反转，并在末尾添加数字 42\n",
    "```"
   ]
  },
  {
   "cell_type": "code",
   "execution_count": 47,
   "id": "20aebe15",
   "metadata": {},
   "outputs": [
    {
     "name": "stdout",
     "output_type": "stream",
     "text": [
      "[5, 4, 3, 2, 1, 42]\n"
     ]
    }
   ],
   "source": [
    "nums = [1, 2, 3, 4, 5]\n",
    "nums.reverse()\n",
    "nums.append(42)\n",
    "print(nums)"
   ]
  },
  {
   "cell_type": "markdown",
   "id": "56c2a0d7",
   "metadata": {},
   "source": [
    "✅ 答案：列表反转后为 `[5, 4, 3, 2, 1]`，再添加 42，结果为 `[5, 4, 3, 2, 1, 42]`。"
   ]
  },
  {
   "cell_type": "markdown",
   "id": "68fb9152",
   "metadata": {},
   "source": [
    "**操作题 43**\n",
    "\n",
    "请完成以下任务：\n",
    "\n",
    "- 对列表 / 元组 / 字符串进行指定操作。\n",
    "\n",
    "```python\n",
    "nums = [1, 2, 3, 4, 5]\n",
    "# 要求：将列表反转，并在末尾添加数字 43\n",
    "```"
   ]
  },
  {
   "cell_type": "code",
   "execution_count": 48,
   "id": "4cbfccdd",
   "metadata": {},
   "outputs": [
    {
     "name": "stdout",
     "output_type": "stream",
     "text": [
      "[5, 4, 3, 2, 1, 43]\n"
     ]
    }
   ],
   "source": [
    "nums = [1, 2, 3, 4, 5]\n",
    "nums.reverse()\n",
    "nums.append(43)\n",
    "print(nums)"
   ]
  },
  {
   "cell_type": "markdown",
   "id": "1e003b34",
   "metadata": {},
   "source": [
    "✅ 答案：列表反转后为 `[5, 4, 3, 2, 1]`，再添加 43，结果为 `[5, 4, 3, 2, 1, 43]`。"
   ]
  },
  {
   "cell_type": "markdown",
   "id": "1c1c6b63",
   "metadata": {},
   "source": [
    "**操作题 44**\n",
    "\n",
    "请完成以下任务：\n",
    "\n",
    "- 对列表 / 元组 / 字符串进行指定操作。\n",
    "\n",
    "```python\n",
    "nums = [1, 2, 3, 4, 5]\n",
    "# 要求：将列表反转，并在末尾添加数字 44\n",
    "```"
   ]
  },
  {
   "cell_type": "code",
   "execution_count": 49,
   "id": "f0349f0c",
   "metadata": {},
   "outputs": [
    {
     "name": "stdout",
     "output_type": "stream",
     "text": [
      "[5, 4, 3, 2, 1, 44]\n"
     ]
    }
   ],
   "source": [
    "nums = [1, 2, 3, 4, 5]\n",
    "nums.reverse()\n",
    "nums.append(44)\n",
    "print(nums)"
   ]
  },
  {
   "cell_type": "markdown",
   "id": "ad382907",
   "metadata": {},
   "source": [
    "✅ 答案：列表反转后为 `[5, 4, 3, 2, 1]`，再添加 44，结果为 `[5, 4, 3, 2, 1, 44]`。"
   ]
  },
  {
   "cell_type": "markdown",
   "id": "7a06cf21",
   "metadata": {},
   "source": [
    "**操作题 45**\n",
    "\n",
    "请完成以下任务：\n",
    "\n",
    "- 对列表 / 元组 / 字符串进行指定操作。\n",
    "\n",
    "```python\n",
    "nums = [1, 2, 3, 4, 5]\n",
    "# 要求：将列表反转，并在末尾添加数字 45\n",
    "```"
   ]
  },
  {
   "cell_type": "code",
   "execution_count": 50,
   "id": "10d92c14",
   "metadata": {},
   "outputs": [
    {
     "name": "stdout",
     "output_type": "stream",
     "text": [
      "[5, 4, 3, 2, 1, 45]\n"
     ]
    }
   ],
   "source": [
    "nums = [1, 2, 3, 4, 5]\n",
    "nums.reverse()\n",
    "nums.append(45)\n",
    "print(nums)"
   ]
  },
  {
   "cell_type": "markdown",
   "id": "17fb6c1f",
   "metadata": {},
   "source": [
    "✅ 答案：列表反转后为 `[5, 4, 3, 2, 1]`，再添加 45，结果为 `[5, 4, 3, 2, 1, 45]`。"
   ]
  },
  {
   "cell_type": "markdown",
   "id": "1e435e50",
   "metadata": {},
   "source": [
    "**操作题 46**\n",
    "\n",
    "请完成以下任务：\n",
    "\n",
    "- 对列表 / 元组 / 字符串进行指定操作。\n",
    "\n",
    "```python\n",
    "nums = [1, 2, 3, 4, 5]\n",
    "# 要求：将列表反转，并在末尾添加数字 46\n",
    "```"
   ]
  },
  {
   "cell_type": "code",
   "execution_count": 51,
   "id": "1c7ed960",
   "metadata": {},
   "outputs": [
    {
     "name": "stdout",
     "output_type": "stream",
     "text": [
      "[5, 4, 3, 2, 1, 46]\n"
     ]
    }
   ],
   "source": [
    "nums = [1, 2, 3, 4, 5]\n",
    "nums.reverse()\n",
    "nums.append(46)\n",
    "print(nums)"
   ]
  },
  {
   "cell_type": "markdown",
   "id": "5ec5c03c",
   "metadata": {},
   "source": [
    "✅ 答案：列表反转后为 `[5, 4, 3, 2, 1]`，再添加 46，结果为 `[5, 4, 3, 2, 1, 46]`。"
   ]
  },
  {
   "cell_type": "markdown",
   "id": "ec49c284",
   "metadata": {},
   "source": [
    "**操作题 47**\n",
    "\n",
    "请完成以下任务：\n",
    "\n",
    "- 对列表 / 元组 / 字符串进行指定操作。\n",
    "\n",
    "```python\n",
    "nums = [1, 2, 3, 4, 5]\n",
    "# 要求：将列表反转，并在末尾添加数字 47\n",
    "```"
   ]
  },
  {
   "cell_type": "code",
   "execution_count": 52,
   "id": "e6ab0115",
   "metadata": {},
   "outputs": [
    {
     "name": "stdout",
     "output_type": "stream",
     "text": [
      "[5, 4, 3, 2, 1, 47]\n"
     ]
    }
   ],
   "source": [
    "nums = [1, 2, 3, 4, 5]\n",
    "nums.reverse()\n",
    "nums.append(47)\n",
    "print(nums)"
   ]
  },
  {
   "cell_type": "markdown",
   "id": "79ea0b5a",
   "metadata": {},
   "source": [
    "✅ 答案：列表反转后为 `[5, 4, 3, 2, 1]`，再添加 47，结果为 `[5, 4, 3, 2, 1, 47]`。"
   ]
  },
  {
   "cell_type": "markdown",
   "id": "7a2f6700",
   "metadata": {},
   "source": [
    "**操作题 48**\n",
    "\n",
    "请完成以下任务：\n",
    "\n",
    "- 对列表 / 元组 / 字符串进行指定操作。\n",
    "\n",
    "```python\n",
    "nums = [1, 2, 3, 4, 5]\n",
    "# 要求：将列表反转，并在末尾添加数字 48\n",
    "```"
   ]
  },
  {
   "cell_type": "code",
   "execution_count": 53,
   "id": "ecd27a20",
   "metadata": {},
   "outputs": [
    {
     "name": "stdout",
     "output_type": "stream",
     "text": [
      "[5, 4, 3, 2, 1, 48]\n"
     ]
    }
   ],
   "source": [
    "nums = [1, 2, 3, 4, 5]\n",
    "nums.reverse()\n",
    "nums.append(48)\n",
    "print(nums)"
   ]
  },
  {
   "cell_type": "markdown",
   "id": "427ba230",
   "metadata": {},
   "source": [
    "✅ 答案：列表反转后为 `[5, 4, 3, 2, 1]`，再添加 48，结果为 `[5, 4, 3, 2, 1, 48]`。"
   ]
  },
  {
   "cell_type": "markdown",
   "id": "daae32b8",
   "metadata": {},
   "source": [
    "**操作题 49**\n",
    "\n",
    "请完成以下任务：\n",
    "\n",
    "- 对列表 / 元组 / 字符串进行指定操作。\n",
    "\n",
    "```python\n",
    "nums = [1, 2, 3, 4, 5]\n",
    "# 要求：将列表反转，并在末尾添加数字 49\n",
    "```"
   ]
  },
  {
   "cell_type": "code",
   "execution_count": 54,
   "id": "cafc565c",
   "metadata": {},
   "outputs": [
    {
     "name": "stdout",
     "output_type": "stream",
     "text": [
      "[5, 4, 3, 2, 1, 49]\n"
     ]
    }
   ],
   "source": [
    "nums = [1, 2, 3, 4, 5]\n",
    "nums.reverse()\n",
    "nums.append(49)\n",
    "print(nums)"
   ]
  },
  {
   "cell_type": "markdown",
   "id": "85741c3a",
   "metadata": {},
   "source": [
    "✅ 答案：列表反转后为 `[5, 4, 3, 2, 1]`，再添加 49，结果为 `[5, 4, 3, 2, 1, 49]`。"
   ]
  },
  {
   "cell_type": "markdown",
   "id": "b7d3b1ce",
   "metadata": {},
   "source": [
    "**操作题 50**\n",
    "\n",
    "请完成以下任务：\n",
    "\n",
    "- 对列表 / 元组 / 字符串进行指定操作。\n",
    "\n",
    "```python\n",
    "nums = [1, 2, 3, 4, 5]\n",
    "# 要求：将列表反转，并在末尾添加数字 50\n",
    "```"
   ]
  },
  {
   "cell_type": "code",
   "execution_count": 55,
   "id": "b3ef0320",
   "metadata": {},
   "outputs": [
    {
     "name": "stdout",
     "output_type": "stream",
     "text": [
      "[5, 4, 3, 2, 1, 50]\n"
     ]
    }
   ],
   "source": [
    "nums = [1, 2, 3, 4, 5]\n",
    "nums.reverse()\n",
    "nums.append(50)\n",
    "print(nums)"
   ]
  },
  {
   "cell_type": "markdown",
   "id": "457f39a9",
   "metadata": {},
   "source": [
    "✅ 答案：列表反转后为 `[5, 4, 3, 2, 1]`，再添加 50，结果为 `[5, 4, 3, 2, 1, 50]`。"
   ]
  }
 ],
 "metadata": {
  "kernelspec": {
   "display_name": "Python 3",
   "language": "python",
   "name": "python3"
  },
  "language_info": {
   "codemirror_mode": {
    "name": "ipython",
    "version": 3
   },
   "file_extension": ".py",
   "mimetype": "text/x-python",
   "name": "python",
   "nbconvert_exporter": "python",
   "pygments_lexer": "ipython3",
   "version": "3.8.8"
  },
  "toc": {
   "base_numbering": 1,
   "nav_menu": {},
   "number_sections": true,
   "sideBar": true,
   "skip_h1_title": false,
   "title_cell": "Table of Contents",
   "title_sidebar": "Contents",
   "toc_cell": false,
   "toc_position": {
    "height": "calc(100% - 180px)",
    "left": "10px",
    "top": "150px",
    "width": "288px"
   },
   "toc_section_display": true,
   "toc_window_display": true
  }
 },
 "nbformat": 4,
 "nbformat_minor": 5
}
