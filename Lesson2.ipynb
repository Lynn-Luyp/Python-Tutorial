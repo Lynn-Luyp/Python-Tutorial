{
 "cells": [
  {
   "cell_type": "markdown",
   "id": "88a00480",
   "metadata": {},
   "source": [
    "# 运算符\n",
    "\n",
    "## 加减乘除    +、-、*、/"
   ]
  },
  {
   "cell_type": "code",
   "execution_count": 309,
   "id": "30f04478",
   "metadata": {},
   "outputs": [
    {
     "name": "stdout",
     "output_type": "stream",
     "text": [
      "n1 + n2 = 9\n",
      "n1 - n2 = 3\n",
      "n1 * n2 = 18\n",
      "n1 / n2 = 2.0\n"
     ]
    }
   ],
   "source": [
    "n1 = 6\n",
    "n2 = 3\n",
    "print(\"n1 + n2 =\", n1+n2)     # 9\n",
    "print(\"n1 - n2 =\", n1-n2)     # 3\n",
    "print(\"n1 * n2 =\", n1*n2)     # 18\n",
    "print(\"n1 / n2 =\", n1/n2)     # 2.0\n",
    "# print(3/0) # ZeroDivisionError: division by zero"
   ]
  },
  {
   "cell_type": "markdown",
   "id": "da5bf2b6",
   "metadata": {},
   "source": [
    "注意：\n",
    "\n",
    "1. 商一定是浮点数(小数)，一定返回float\n",
    "2. 除数不能为0"
   ]
  },
  {
   "cell_type": "markdown",
   "id": "59fae364",
   "metadata": {},
   "source": [
    "## 整除 //\n",
    "\n",
    "向下取整（截断小数位）"
   ]
  },
  {
   "cell_type": "code",
   "execution_count": 310,
   "id": "1611a90e",
   "metadata": {},
   "outputs": [
    {
     "name": "stdout",
     "output_type": "stream",
     "text": [
      "n1 // n2 = 3\n",
      "n1 // n2 = -4\n"
     ]
    }
   ],
   "source": [
    "n1 = 10\n",
    "n2 = 3\n",
    "print(\"n1 // n2 =\", n1//n2)   # 3\n",
    "\n",
    "n1 = -10\n",
    "n2 = 3\n",
    "print(\"n1 // n2 =\", n1//n2)   # -4"
   ]
  },
  {
   "cell_type": "markdown",
   "id": "418910a5",
   "metadata": {},
   "source": [
    "## 取余数 %"
   ]
  },
  {
   "cell_type": "code",
   "execution_count": 311,
   "id": "581fc19b",
   "metadata": {},
   "outputs": [
    {
     "name": "stdout",
     "output_type": "stream",
     "text": [
      "n1 % n2 = 1\n"
     ]
    }
   ],
   "source": [
    "n1 = 10\n",
    "n2 = 3\n",
    "print(\"n1 % n2 =\", n1 % n2)   # 1"
   ]
  },
  {
   "cell_type": "markdown",
   "id": "0f7d2a76",
   "metadata": {},
   "source": [
    "## 幂   **"
   ]
  },
  {
   "cell_type": "code",
   "execution_count": 312,
   "id": "47f744c3",
   "metadata": {},
   "outputs": [
    {
     "name": "stdout",
     "output_type": "stream",
     "text": [
      "n1 ** n2 = 8\n"
     ]
    }
   ],
   "source": [
    "# m**n: m的n次方\n",
    "n1 = 2\n",
    "n2 = 3\n",
    "print(\"n1 ** n2 =\", n1**n2)   # 8"
   ]
  },
  {
   "cell_type": "markdown",
   "id": "0b2ae65a",
   "metadata": {},
   "source": [
    "### 注意事项\n",
    "\n",
    "参与运算的数中如果有浮点数，则结果必为浮点数"
   ]
  },
  {
   "cell_type": "code",
   "execution_count": 313,
   "id": "0e9559c3",
   "metadata": {},
   "outputs": [
    {
     "name": "stdout",
     "output_type": "stream",
     "text": [
      "2.0\n",
      "0.0\n",
      "1.0\n",
      "1.0\n",
      "1.0\n",
      "0.0\n",
      "1.0\n"
     ]
    }
   ],
   "source": [
    "print(1 + 1.0)     # 2.0\n",
    "print(1 - 1.0)     # 0.0\n",
    "print(1 * 1.0)     # 1.0\n",
    "print(1 / 1.0)     # 1.0\n",
    "print(1 // 1.0)    # 1.0\n",
    "print(1 % 1.0)     # 0.0\n",
    "print(1 ** 1.0)    # 1.0"
   ]
  },
  {
   "cell_type": "markdown",
   "id": "2b16ce79",
   "metadata": {},
   "source": [
    "## 运算符优先级\n",
    "\n",
    "- 先乘除后加减\n",
    "- 同级运算符从左往右计算\n",
    "- 可以用()调整计算的优先级\n",
    "\n",
    "幂 >乘、除、取余、取整除>加、减"
   ]
  },
  {
   "cell_type": "markdown",
   "id": "5e1cdca4",
   "metadata": {},
   "source": [
    "## 赋值运算符 ="
   ]
  },
  {
   "cell_type": "code",
   "execution_count": 314,
   "id": "c2f99eb7",
   "metadata": {},
   "outputs": [
    {
     "name": "stdout",
     "output_type": "stream",
     "text": [
      "30\n"
     ]
    }
   ],
   "source": [
    "# 变量n1, n2赋值\n",
    "n1 = 10\n",
    "n2 = 20\n",
    "\n",
    "# 变量n3, n4赋值\n",
    "n3, n4 = n1, n2\n",
    "\n",
    "total = n3 + n4\n",
    "print(total)  # 30"
   ]
  },
  {
   "cell_type": "markdown",
   "id": "b304de34",
   "metadata": {},
   "source": [
    "## 加法赋值运算符 +="
   ]
  },
  {
   "cell_type": "code",
   "execution_count": 315,
   "id": "8fde00af",
   "metadata": {},
   "outputs": [
    {
     "name": "stdout",
     "output_type": "stream",
     "text": [
      "10\n",
      "11\n"
     ]
    }
   ],
   "source": [
    "# b += a 等效于 b = b + a\n",
    "n1 = 10\n",
    "print(n1)     # 10\n",
    "n1 += 1       # n1 = n1 + 1(先运算后赋值) = 11\n",
    "print(n1)     # 11\n",
    "\n",
    "\n",
    "# += 中间不能有空格\n",
    "# n1 + = 1    # SyntaxError: invalid syntax\n",
    "# print(n1)"
   ]
  },
  {
   "cell_type": "markdown",
   "id": "4e495dd9",
   "metadata": {},
   "source": [
    "注意：赋值运算符只能针对已经存在的变量赋值"
   ]
  },
  {
   "cell_type": "code",
   "execution_count": 316,
   "id": "3dabe67d",
   "metadata": {},
   "outputs": [],
   "source": [
    "# n += 3        # 等效于n = n + 3，NameError: name 'n' is not defined(命名错误：名称\"n\"未被定义)\n",
    "\n",
    "# 纯数字也不能使用，赋值运算符是针对变量存在的\n",
    "# print(10+=3)  # 等效于10 = 10 + 3，SyntaxError: invalid syntax(语法错误：无效语法"
   ]
  },
  {
   "cell_type": "markdown",
   "id": "279c5c3b",
   "metadata": {},
   "source": [
    "## 减法赋值运算符 -="
   ]
  },
  {
   "cell_type": "code",
   "execution_count": 317,
   "id": "d2ddccc4",
   "metadata": {},
   "outputs": [
    {
     "name": "stdout",
     "output_type": "stream",
     "text": [
      "10\n",
      "9\n"
     ]
    }
   ],
   "source": [
    "# b -= a 等效于 b = b - a\n",
    "n1 = 10\n",
    "print(n1)     # 10\n",
    "n1 -= 1       # n1 = n1 - 1(先运算后赋值) = 9\n",
    "print(n1)     # 9"
   ]
  },
  {
   "cell_type": "markdown",
   "id": "966c5685",
   "metadata": {},
   "source": [
    "# 输入函数\n",
    "\n",
    "Python中，程序接收用户输入的数据的功能即是输入，通过input函数实现"
   ]
  },
  {
   "cell_type": "markdown",
   "id": "de2f0b77",
   "metadata": {},
   "source": [
    "## 函数定义\n",
    "input(prompt=None)  \n",
    "解释：提示信息，会在控制台中显示，默认值为None"
   ]
  },
  {
   "cell_type": "markdown",
   "id": "4bb93e48",
   "metadata": {},
   "source": [
    "## 使用举例"
   ]
  },
  {
   "cell_type": "code",
   "execution_count": 318,
   "id": "d8caafd9",
   "metadata": {},
   "outputs": [
    {
     "name": "stdout",
     "output_type": "stream",
     "text": [
      "请输入内容:\n",
      "请输入内容:\n",
      "\n"
     ]
    }
   ],
   "source": [
    "input(\"请输入内容:\")\n",
    "content = input(\"请输入内容:\")\n",
    "print(content)"
   ]
  },
  {
   "cell_type": "markdown",
   "id": "25ee35c5",
   "metadata": {},
   "source": [
    "注意：在python中，input()会把接收到的任意用户输入的数据都当做字符串处理。即，python中接受的用户类型为字符串类型"
   ]
  },
  {
   "cell_type": "code",
   "execution_count": 319,
   "id": "c20fd123",
   "metadata": {},
   "outputs": [
    {
     "name": "stdout",
     "output_type": "stream",
     "text": [
      "请输入信息:\n",
      " <class 'str'>\n"
     ]
    }
   ],
   "source": [
    "info = input(\"请输入信息:\")\n",
    "print(info, type(info))   "
   ]
  },
  {
   "cell_type": "markdown",
   "id": "a5ff9a9e",
   "metadata": {},
   "source": [
    "# 转义字符\n",
    "\n",
    "## 定义\n",
    "\n",
    "将特定的字符转换成键盘可操作的其它含义的功能，而不是进行正常打印"
   ]
  },
  {
   "cell_type": "markdown",
   "id": "6f991b42",
   "metadata": {},
   "source": [
    "## 举例\n",
    "\n",
    "换行符：\\n\n",
    "\n",
    "Lesson1的print函数定义中写到:  \n",
    "`print(*objects, sep=' ', end='\\n', file=sys.stdout, flush=False)`"
   ]
  },
  {
   "cell_type": "markdown",
   "id": "7a2388ff",
   "metadata": {},
   "source": [
    "这里的end = ‘\\n’ 就是换行符，表示默认print函数以换行符结尾"
   ]
  },
  {
   "cell_type": "markdown",
   "id": "a91ed55f",
   "metadata": {},
   "source": [
    "## 常见字符解释\n",
    "\n",
    "- \\t       制表符：空出4个空格的距离，相当于Tab按键，可以自动对齐，自动排版"
   ]
  },
  {
   "cell_type": "code",
   "execution_count": 320,
   "id": "e6a9ec8b",
   "metadata": {},
   "outputs": [
    {
     "name": "stdout",
     "output_type": "stream",
     "text": [
      "bingbing\n",
      "\tbingbing\n",
      "w\t*\n",
      "ww\t*\n",
      "www\t*\n",
      "wwww\t*\n",
      "wwwww\t*\n",
      "wwwwww\t*\n",
      "wwwwwww\t*\n"
     ]
    }
   ],
   "source": [
    "print(\"bingbing\")\n",
    "print(\"\\tbingbing\")  \n",
    "\n",
    "print('w\\t*')\n",
    "print('ww\\t*')\n",
    "print('www\\t*')\n",
    "print('wwww\\t*')\n",
    "print('wwwww\\t*')\n",
    "print('wwwwww\\t*')\n",
    "print('wwwwwww\\t*')  "
   ]
  },
  {
   "cell_type": "markdown",
   "id": "a8a3c999",
   "metadata": {},
   "source": [
    "- \\n      换行符：换行符，将当前光标移到下一行开头"
   ]
  },
  {
   "cell_type": "code",
   "execution_count": 321,
   "id": "f29b14dd",
   "metadata": {
    "scrolled": true
   },
   "outputs": [
    {
     "name": "stdout",
     "output_type": "stream",
     "text": [
      "Hello LJC\n",
      "Hello\n",
      " LJC\n"
     ]
    }
   ],
   "source": [
    "print(\"Hello LJC\")\n",
    "print(\"Hello\\n LJC\")"
   ]
  },
  {
   "cell_type": "markdown",
   "id": "8ccde95d",
   "metadata": {},
   "source": [
    "- \\\\       反斜杠符：表示转义，对使用后面的’\\’进行转义"
   ]
  },
  {
   "cell_type": "code",
   "execution_count": 322,
   "id": "3e10898b",
   "metadata": {},
   "outputs": [
    {
     "name": "stdout",
     "output_type": "stream",
     "text": [
      "\n",
      "ame\n",
      "\\name\n",
      "na\\me\n"
     ]
    }
   ],
   "source": [
    "print(\"\\name\")     \n",
    "print(\"\\\\name\")      # \\\\构成转义，表示打印\\\n",
    "print(\"na\\me\")   "
   ]
  },
  {
   "cell_type": "markdown",
   "id": "02e9be58",
   "metadata": {},
   "source": [
    "- \\’ 或者 \\”   转义引号，不让“正常打印"
   ]
  },
  {
   "cell_type": "code",
   "execution_count": 323,
   "id": "deeef4af",
   "metadata": {},
   "outputs": [
    {
     "name": "stdout",
     "output_type": "stream",
     "text": [
      "LJC说:\"永远十八岁\"\n",
      "LJC说:\"永远十八岁\"\n"
     ]
    }
   ],
   "source": [
    "# 需求：打印输出 LJC说：\"永远十八岁\"\n",
    "# 方式一:\n",
    "print('LJC说:\"永远十八岁\"')     # 如果字符串中有引号，采用内单外双、外单内双方式。\n",
    "# 方式二:\n",
    "print(\"LJC说:\\\"永远十八岁\\\"\")"
   ]
  },
  {
   "cell_type": "markdown",
   "id": "ab86500f",
   "metadata": {},
   "source": [
    "- r+字符串         取消转义：如果字符串里面有很多字符都会构成转义，在字符串开头加r，取消字符串转义"
   ]
  },
  {
   "cell_type": "code",
   "execution_count": 324,
   "id": "d16e8c09",
   "metadata": {},
   "outputs": [
    {
     "name": "stdout",
     "output_type": "stream",
     "text": [
      "D:\\tools\n",
      "D:\\tools\n"
     ]
    }
   ],
   "source": [
    "print(\"D:\\\\tools\")\n",
    "print(r\"D:\\tools\")"
   ]
  },
  {
   "cell_type": "markdown",
   "id": "c48684ac",
   "metadata": {},
   "source": [
    "## 课堂练习"
   ]
  },
  {
   "cell_type": "code",
   "execution_count": 1,
   "id": "d2476ada",
   "metadata": {
    "code_folding": [
     0
    ]
   },
   "outputs": [
    {
     "name": "stdout",
     "output_type": "stream",
     "text": [
      "亲爱的周游:\n",
      "\t祝你 我所希望的一切\n",
      "亲爱的周游：\n",
      "\t祝你 我所希望的一切\n"
     ]
    }
   ],
   "source": [
    "# 练习：\n",
    "# 亲爱的周游:\n",
    "#     祝你 我所希望的一切\n",
    "# 方式一：\n",
    "print(\"亲爱的周游:\",\"\\t祝你 我所希望的一切\",sep=\"\\n\")\n",
    "# 方式二：\n",
    "print(\"亲爱的周游：\\n\\t祝你 我所希望的一切\")"
   ]
  },
  {
   "cell_type": "markdown",
   "id": "1a65d800",
   "metadata": {},
   "source": [
    "# 字符串\n",
    "\n",
    "## 字符串编解码\n",
    "\n",
    "计算机内部用0或者1存储数据，怎么表示字符串 / 中文字符呢？\n",
    "\n",
    "字符串编码本质上就是二进制数据与语言文字的一一对应关系。"
   ]
  },
  {
   "cell_type": "markdown",
   "id": "1e11c306",
   "metadata": {},
   "source": [
    "## 编码方式\n",
    "\n",
    "- ASCII码（用了7个bit表示128个字符）\n",
    "- GBK：GBK和GB2312是我国制定的中文编码标准，使用一个字节表示英文字母，两个字节表示中文字符\n",
    "- **Unicode（python中内存储存方式）**：通常情况下用2个字节表示一个字符，如果是非常偏僻的字符就需要4个字节\n",
    "- **utf-8（常用，python默认编码方式，涉及到文件输入/输出时）：国际通用编码，采用一个字节表示英文字符，汉字通常是3个字节，只有很生僻的字符才会被编码成4-6个字节**"
   ]
  },
  {
   "cell_type": "markdown",
   "id": "4fdc5af0",
   "metadata": {},
   "source": [
    "## 字符串编码转换\n",
    "\n",
    "str（字符串）是人类理解的，bytes（字节序列）是计算机理解的，两种类型不能拼接在一起使用\n",
    "\n",
    "str和bytes之间可以通过encode()和decode()方法进行转换\n",
    "\n",
    "str → bytes：编码，encode() 方法\n",
    "\n",
    "bytes → str：解码，decode() 方法"
   ]
  },
  {
   "cell_type": "code",
   "execution_count": 325,
   "id": "d0bc282c",
   "metadata": {},
   "outputs": [
    {
     "name": "stdout",
     "output_type": "stream",
     "text": [
      "hello\n",
      "<class 'str'>\n",
      "编码后:  b'hello'\n",
      "<class 'bytes'>\n",
      "解码后:  hello\n",
      "<class 'str'>\n"
     ]
    }
   ],
   "source": [
    "# 示例1：\n",
    "a = 'hello'\n",
    "print(a)\n",
    "print(type(a))          # str     字符串是以字符为单位进行处理\n",
    "a1 = a.encode()         # 编码\n",
    "print('编码后: ',a1)\n",
    "print(type(a1))         # bytes   以字节为单位进行处理的\n",
    "a2 = a1.decode()        # 解码\n",
    "print('解码后: ', a2)\n",
    "print(type(a2))\n",
    "# 注意：对于bytes，目前只要知道它跟字符串类型之间的互相转换"
   ]
  },
  {
   "cell_type": "markdown",
   "id": "c91f14db",
   "metadata": {},
   "source": [
    "对于bytes类，计算机内部是存储的二进制数据。\n",
    "\n",
    "- `b’’`  开头表示是字节序列，用于和普通的str字符串作区分\n",
    "- 如果是有ASCII中的字符，就直接显示。所以打印出来是b’hello’的形式，以一种人类友好的方式来显示，否则0和1构成的字符串人类读不懂。\n",
    "- 如果是有ASCII之外的字符（比如中文字符），打印出来的是十六进制，比如\\x…"
   ]
  },
  {
   "cell_type": "code",
   "execution_count": 326,
   "id": "28aad4b6",
   "metadata": {},
   "outputs": [
    {
     "name": "stdout",
     "output_type": "stream",
     "text": [
      "b'\\xe4\\xbd\\xa0\\xe4\\xbb\\x8a\\xe5\\xa4\\xa9\\xe7\\x9c\\x9f\\xe5\\xa5\\xbd\\xe7\\x9c\\x8b'\n",
      "你今天真好看\n"
     ]
    }
   ],
   "source": [
    "# 示例2：\n",
    "st = \"你今天真好看\"\n",
    "st1 = st.encode('utf-8')\n",
    "print(st1)\n",
    "st2 = b'\\xe4\\xbd\\xa0\\xe4\\xbb\\x8a\\xe5\\xa4\\xa9\\xe7\\x9c\\x9f\\xe5\\xa5\\xbd\\xe7\\x9c\\x8b'\n",
    "st3 = st2.decode('utf-8')\n",
    "print(st3)"
   ]
  },
  {
   "attachments": {
    "image.png": {
     "image/png": "[encoded data removed]"
    }
   },
   "cell_type": "markdown",
   "id": "eaa85eb2",
   "metadata": {},
   "source": [
    "![image.png](attachment:image.png)"
   ]
  },
  {
   "cell_type": "markdown",
   "id": "abb42896",
   "metadata": {},
   "source": [
    "## 字符串常见操作\n",
    "\n",
    "### 字符串拼接（”+”）"
   ]
  },
  {
   "cell_type": "code",
   "execution_count": 327,
   "id": "a4719838",
   "metadata": {},
   "outputs": [
    {
     "name": "stdout",
     "output_type": "stream",
     "text": [
      "2\n",
      "11\n"
     ]
    }
   ],
   "source": [
    "print(1+1)\n",
    "print('1'+'1')"
   ]
  },
  {
   "cell_type": "code",
   "execution_count": 328,
   "id": "f2f9c1b5",
   "metadata": {},
   "outputs": [],
   "source": [
    "### 字符串重复打印（“*”）"
   ]
  },
  {
   "cell_type": "code",
   "execution_count": 329,
   "id": "f172f1fc",
   "metadata": {},
   "outputs": [
    {
     "name": "stdout",
     "output_type": "stream",
     "text": [
      "LJCLJCLJC\n"
     ]
    }
   ],
   "source": [
    "print(\"LJC\" * 3)"
   ]
  },
  {
   "cell_type": "code",
   "execution_count": 330,
   "id": "b5c5d03b",
   "metadata": {},
   "outputs": [],
   "source": [
    "### 字符串包含（”in” “not in”）"
   ]
  },
  {
   "cell_type": "code",
   "execution_count": 331,
   "id": "5140b471",
   "metadata": {},
   "outputs": [
    {
     "name": "stdout",
     "output_type": "stream",
     "text": [
      "False\n",
      "True\n",
      "True\n",
      "False\n"
     ]
    }
   ],
   "source": [
    "name = \"lijiacheng\"\n",
    "print(\"Li\" in name)          # False\n",
    "print(\"Li\" not in name)      # True\n",
    "print(\"jiacheng\" in name)          # True\n",
    "print(\"jiacheng\" not in name)      # False"
   ]
  },
  {
   "cell_type": "markdown",
   "id": "81604a5f",
   "metadata": {},
   "source": [
    "### 字符串索引 / 下标（”[]”）\n",
    "\n",
    "Python中，下标是从0开始，不是从1开始！"
   ]
  },
  {
   "cell_type": "code",
   "execution_count": 332,
   "id": "810b2b07",
   "metadata": {},
   "outputs": [
    {
     "name": "stdout",
     "output_type": "stream",
     "text": [
      "l\n",
      "i\n",
      "j\n",
      "g\n",
      "n\n"
     ]
    }
   ],
   "source": [
    "name = \"lijiacheng\"\n",
    "# 从左往右数，下标从0开始\n",
    "print(name[0])\n",
    "print(name[1])\n",
    "print(name[2])\n",
    "# print(name[10])   # 报错，取值的时候不要超出下标范围\n",
    "# 从右往左数，下标是从-1开始，-1，-2，-3...\n",
    "print(name[-1])\n",
    "print(name[-2])\n",
    "# print(name[-11])  # 报错，超出范围"
   ]
  },
  {
   "attachments": {
    "image.png": {
     "image/png": "[encoded data removed]"
    }
   },
   "cell_type": "markdown",
   "id": "faf27ea4",
   "metadata": {},
   "source": [
    "![image.png](attachment:image.png)"
   ]
  },
  {
   "cell_type": "markdown",
   "id": "c06d6782",
   "metadata": {},
   "source": [
    "### 字符串切片（重点）\n",
    "\n",
    "对操作的对象截取其中一部分的操作（不止字符串可以用）\n",
    "\n",
    "- 语法：`[起始:结束:步长]`\n",
    "- 规则：\n",
    "    - 包前不包后规则，[起始，结束)，从起始位置开始，到结束位的前一位结束\n",
    "    - 步长指隔几个字符输出一次，不写的话默认为1（连续输出）\n",
    "    - 可以省略其中任意一个值，空着即可，但是要打省略号\n",
    "    - 默认从左向右切片，也就是默认起始 < 结束；如果起始 > 结束时，步长需要为负数才可能正常得到字符串切片，否则得到空字符串\n",
    "- 示例"
   ]
  },
  {
   "cell_type": "code",
   "execution_count": 333,
   "id": "fe29350a",
   "metadata": {},
   "outputs": [
    {
     "name": "stdout",
     "output_type": "stream",
     "text": [
      "lij\n",
      "jia\n",
      "\n",
      "che\n",
      "lj\n",
      "ja\n",
      "\n",
      "ce\n",
      "lijiacheng\n",
      "ijiacheng\n",
      "lijiachen\n"
     ]
    }
   ],
   "source": [
    "name = \"lijiacheng\"\n",
    "# 正向选取，默认步长为1\n",
    "print(name[0:3]) # lij\n",
    "print(name[2:5]) # jia\n",
    "\n",
    "# 从右往左取，默认步长为1\n",
    "print(name[-2:-5]) # 起始 > 结束，且步长>0，空字符串\n",
    "print(name[-5:-2])\n",
    "\n",
    "# 正向选取，默认步长为2\n",
    "print(name[0:3:2])\n",
    "print(name[2:5:2])\n",
    "\n",
    "# 从右往左取，默认步长为2\n",
    "print(name[-2:-5:2])\n",
    "print(name[-5:-2:2])\n",
    "\n",
    "# 取全部切片\n",
    "print(name[::])\n",
    "\n",
    "# 取第一个字符之后的所有切片\n",
    "print(name[1:])\n",
    "\n",
    "# 取到最后一个字符\n",
    "print(name[:-1])"
   ]
  },
  {
   "cell_type": "markdown",
   "id": "2657fe9e",
   "metadata": {},
   "source": [
    "### 其他操作\n",
    "\n",
    "- 查找（find、index）\n",
    "\n",
    "两者区别：find没找到返回-1，index没找到返回异常"
   ]
  },
  {
   "cell_type": "code",
   "execution_count": 334,
   "id": "53d082ab",
   "metadata": {},
   "outputs": [
    {
     "name": "stdout",
     "output_type": "stream",
     "text": [
      "1\n",
      "0\n",
      "4\n",
      "-1\n",
      "4\n",
      "-1\n",
      "4\n",
      "1\n",
      "1\n"
     ]
    }
   ],
   "source": [
    "# find()：检测某个子字符串是否包含在字符串中,如果在返回这个子串开始的位置下标，否则则返回-1。\n",
    "# find(子字符串，开始位置下标，结束位置下标)：先进行切片，然后开始find\n",
    "# 注意:开始和结束位置下标可以省略，表示在整个字符串中查找\n",
    "name = \"bingbing\"\n",
    "print(name.find(\"i\"))       # 1 --第一个i的下标为1\n",
    "print(name.find(\"bing\"))    # 0 --检测到第一个bing,b的下标为0\n",
    "# 返回的是开始的索引/下标值\n",
    "print(name.find(\"b\",3))     # 4  --从下标3开始找\"b\"，符号和空格也算是一个字符\n",
    "print(name.find('b',5))     # -1 --超出范围，不包含返回-1\n",
    "print(name.find('b',3,5))   # 4  --在下标3-5位置范围内查找\n",
    "# 包前不包后原则\n",
    "print(name.find('b',3,4))\n",
    "print(name.find('b',4,6))\n",
    "\n",
    "# index()：检测某个子字符串是否包含在这个字符串中，如果在返回这个子串开始的位置下标，否则报异常。\n",
    "# index(子字符串,开始位置下标,结束位置下标)：先进行切片，然后开始index\n",
    "# 注意:开始位置和结束位置下标可以省略，表示在整个字符串中查找\n",
    "name = \"我命油我不油天\"\n",
    "print(name.index(\"命\"))      # 1\n",
    "# print(name.index('命',2))    # 报错，从下标为2开始找，没有找到\n",
    "print(name.index('命',1,3))  # 1"
   ]
  },
  {
   "cell_type": "markdown",
   "id": "ed72abff",
   "metadata": {},
   "source": [
    "- 字符串出现次数（count）"
   ]
  },
  {
   "cell_type": "code",
   "execution_count": 335,
   "id": "2fc07573",
   "metadata": {},
   "outputs": [
    {
     "name": "stdout",
     "output_type": "stream",
     "text": [
      "2\n",
      "0\n",
      "1\n",
      "0\n",
      "1\n",
      "2\n"
     ]
    }
   ],
   "source": [
    "# count()：返回某个子字符串在字符串中出现的次数，没有则返回0。\n",
    "# count(子字符串,开始位置下标,结束位置下标)：先进行切片，然后开始count\n",
    "# 注意:开始和结束位置下标可以省略，表示在整个字符串中查找。\n",
    "name = \"bingbing\"\n",
    "print(name.count('b'))       # 2 --b出现2次\n",
    "print(name.count(\"a\"))       # 0 --a没有出现过\n",
    "print(name.count('b',1))     # 1 --下标为1开始找，只出现过1次\n",
    "print(name.count('b',1,3))   # 0 --范围内没有出现过\n",
    "print(name.count('b',0,4))   # 1 --包前不包后,查找范围不包含下标4\n",
    "print(name.count('b',0,5))   # 2 "
   ]
  },
  {
   "cell_type": "markdown",
   "id": "3a09770c",
   "metadata": {},
   "source": [
    "- 替换（replace）"
   ]
  },
  {
   "cell_type": "code",
   "execution_count": 336,
   "id": "b20ef03b",
   "metadata": {},
   "outputs": [
    {
     "name": "stdout",
     "output_type": "stream",
     "text": [
      "好好学习，时时向上\n",
      "好好学习，时天向上\n"
     ]
    }
   ],
   "source": [
    "# replace()：替换\n",
    "# replace(旧内容，新内容，替换次数)\n",
    "# 注意:替换次数可以省略，默认全部替换\n",
    "name3 = \"好好学习，天天向上\"\n",
    "print(name3.replace('天','时'))    # 好好学习，时时向上\n",
    "print(name3.replace('天','时',1))  # 好好学习，时天向上"
   ]
  },
  {
   "cell_type": "markdown",
   "id": "db9aacb8",
   "metadata": {},
   "source": [
    "- 分割（split）"
   ]
  },
  {
   "cell_type": "code",
   "execution_count": 337,
   "id": "e6578836",
   "metadata": {},
   "outputs": [
    {
     "name": "stdout",
     "output_type": "stream",
     "text": [
      "['hello', 'python']\n",
      "['hello,python']\n",
      "['hell', ',pyth', 'n']\n",
      "['hell', ',python']\n"
     ]
    }
   ],
   "source": [
    "# split(分隔符,分隔次数)\n",
    "st = \"hello,python\"\n",
    "print(st.split(','))     # ['hello', 'python']     --列表形式返回\n",
    "# 如果字符串中不包含分割内容，就不进行分割，会作为一个整体。\n",
    "print(st.split(\"a\"))     # ['hello,python'] \n",
    "print(st.split('o'))     # ['hell', ',pyth', 'n']  --不设置切割次数，则默认全部分割。\n",
    "print(st.split('o',1))   # ['hell', ',python']     --指定只切一次"
   ]
  },
  {
   "cell_type": "markdown",
   "id": "f7ca0287",
   "metadata": {},
   "source": [
    "- 子字符串是否以...开头（startwith）\n",
    "- 子字符串是否以...结尾（startwith）"
   ]
  },
  {
   "cell_type": "code",
   "execution_count": 338,
   "id": "c2903ab8",
   "metadata": {},
   "outputs": [
    {
     "name": "stdout",
     "output_type": "stream",
     "text": [
      "True\n",
      "True\n",
      "False\n",
      "True\n",
      "True\n",
      "False\n",
      "True\n",
      "True\n",
      "False\n",
      "True\n"
     ]
    }
   ],
   "source": [
    "# startswith(子字符串, 开始位置下标, 结束位置下标):判断是否以...开头\n",
    "# endswith(子串, 开始位置下标, 结束位置下标):判断是否以...结尾\n",
    "st = \"sixstar\"\n",
    "print(st.startswith(\"s\"))      # True\n",
    "print(st.startswith(\"six\"))    # True\n",
    "print(st.startswith(\"sex\"))    # False\n",
    "print(st.startswith(\"s\",0,1))  # True\n",
    "print(st.startswith('s',3,6))  # True\n",
    "print(st.startswith('s',2,6))  # False,2-6范围内以x开头\n",
    "print(st.startswith('x',2,6))  # True\n",
    "print(st.endswith(\"r\"))        # True\n",
    "print(st.endswith(\"r\",4,6))    # False,包前不包后\n",
    "print(st.endswith(\"r\",4))      # True,4-最后，以r结尾"
   ]
  },
  {
   "cell_type": "markdown",
   "id": "ecac26c3",
   "metadata": {},
   "source": [
    "- 首字母大写（capitalize）"
   ]
  },
  {
   "cell_type": "code",
   "execution_count": 339,
   "id": "669cfadd",
   "metadata": {},
   "outputs": [],
   "source": [
    "st = \"sixstar\" \n",
    "# print(st.capitalize())   # Sixstar"
   ]
  },
  {
   "cell_type": "markdown",
   "id": "b16620c4",
   "metadata": {},
   "source": [
    "- 全部大写（upper）\n",
    "- 全部小写（lower）"
   ]
  },
  {
   "cell_type": "code",
   "execution_count": 340,
   "id": "a8d72411",
   "metadata": {},
   "outputs": [],
   "source": [
    "name = \"BingBing\"\n",
    "# print(name.lower())\n",
    "# print(name.upper())"
   ]
  },
  {
   "cell_type": "markdown",
   "id": "d3fee0c3",
   "metadata": {},
   "source": [
    "- 是否全部大写（isupper）\n",
    "- 是否全部小写（islower）"
   ]
  },
  {
   "cell_type": "code",
   "execution_count": 341,
   "id": "b8510a28",
   "metadata": {},
   "outputs": [
    {
     "name": "stdout",
     "output_type": "stream",
     "text": [
      "False\n",
      "True\n",
      "True\n",
      "False\n",
      "False\n",
      "False\n"
     ]
    }
   ],
   "source": [
    "# isupper():判断字符串中所有的字母是否都为大写。是的话就返回True，不是就返回False\n",
    "# islower():判断字符串是否由小写字母组成。是的话就返回True，不是就返回False\n",
    "st = 'sixstar'\n",
    "print(st.isupper())   # False\n",
    "print(st.islower())   # True\n",
    "st1 = 'SIXSTAR'\n",
    "print(st1.isupper())  # True\n",
    "print(st1.islower())  # False\n",
    "st2 = 'sixStar'\n",
    "print(st2.isupper())  # False\n",
    "st3 = '123star'       \n",
    "print(st3.isupper())  # False"
   ]
  },
  {
   "cell_type": "markdown",
   "id": "3c93f579",
   "metadata": {},
   "source": [
    "# 可变对象 & 不可变对象\n",
    "\n",
    "可变对象：list、dict、set\n",
    "\n",
    "不可变对象：int、float、complex、string、tuple、bool\n",
    "\n",
    "## 赋值的原理\n",
    "\n",
    "b = a，表示b和a虽然是两个标签，但是地址是一样的，或者说，指向了同一个对象"
   ]
  },
  {
   "cell_type": "code",
   "execution_count": 342,
   "id": "4899c155",
   "metadata": {},
   "outputs": [
    {
     "name": "stdout",
     "output_type": "stream",
     "text": [
      "1877349708528\n",
      "1877349708528\n"
     ]
    }
   ],
   "source": [
    "a = 1000\n",
    "b = a\n",
    "print(id(a))\n",
    "print(id(b))"
   ]
  },
  {
   "cell_type": "markdown",
   "id": "80ef4f1f",
   "metadata": {},
   "source": [
    "区别：\n",
    "\n",
    "可变对象：\n",
    "\n",
    "b和a指向的同一个对象发生改变"
   ]
  },
  {
   "cell_type": "code",
   "execution_count": 343,
   "id": "4f3bbc6e",
   "metadata": {},
   "outputs": [
    {
     "name": "stdout",
     "output_type": "stream",
     "text": [
      "[1, 2, 3, 4]\n",
      "[1, 2, 3, 4]\n"
     ]
    }
   ],
   "source": [
    "x = [1, 2, 3]  # 列表 list，可变\n",
    "y = x           # y 和 x 指向同一个列表对象\n",
    "y.append(4)\n",
    "print(y)\n",
    "print(x)  # [1, 2, 3, 4]  改变 y 的内容，x 也会变"
   ]
  },
  {
   "cell_type": "markdown",
   "id": "927c2309",
   "metadata": {},
   "source": [
    "不可变对象：\n",
    "\n",
    "尝试修改对象时，因为对象无法改变，会重新新建一个对象，并指向新的对象"
   ]
  },
  {
   "cell_type": "code",
   "execution_count": 344,
   "id": "85a94a17",
   "metadata": {},
   "outputs": [
    {
     "name": "stdout",
     "output_type": "stream",
     "text": [
      "10 11\n"
     ]
    }
   ],
   "source": [
    "x = 10   # int，不可变\n",
    "y = x    # y 和 x 都引用整数对象 10\n",
    "y += 1   # 这一步创建了一个新对象 11，并让 y 指向它\n",
    "print(x, y)  # 10 11"
   ]
  },
  {
   "cell_type": "markdown",
   "id": "a139181b",
   "metadata": {},
   "source": [
    "## 拷贝方法（扩展）"
   ]
  },
  {
   "cell_type": "code",
   "execution_count": 345,
   "id": "6071d501",
   "metadata": {},
   "outputs": [
    {
     "name": "stdout",
     "output_type": "stream",
     "text": [
      "1877356594368\n",
      "1877356594368\n",
      "1877356594880\n",
      "1877356595136\n",
      "1877347518336\n",
      "\n",
      "这里是深拷贝和浅拷贝的区别\n",
      "1877356594112\n",
      "1877356594112\n",
      "1877348444800\n"
     ]
    }
   ],
   "source": [
    "import copy # 加载copy模块\n",
    "\n",
    "list1 = [1, 2, 3, [4, 5, 6]]\n",
    "\n",
    "y = list1\n",
    "# 浅拷贝\n",
    "\n",
    "s1 = copy.copy(list1)\n",
    "s2 = list1.copy()\n",
    "\n",
    "# 深拷贝\n",
    "d1 = copy.deepcopy(list1)\n",
    "\n",
    "print(id(list1))\n",
    "print(id(y))\n",
    "print(id(s1))\n",
    "print(id(s2))\n",
    "print(id(d1))\n",
    "\n",
    "print('\\n这里是深拷贝和浅拷贝的区别')\n",
    "\n",
    "# 浅拷贝和深拷贝区别\n",
    "print(id(list1[-1]))\n",
    "print(id(s1[-1]))\n",
    "print(id(d1[-1]))"
   ]
  },
  {
   "cell_type": "markdown",
   "id": "62b64092",
   "metadata": {},
   "source": [
    "# 列表\n",
    "\n",
    "定义：处理一组有序项目的数据结构\n",
    "\n",
    "格式：列表名 = [元素1, 元素2, 元素3, ...]"
   ]
  },
  {
   "cell_type": "code",
   "execution_count": 346,
   "id": "51722182",
   "metadata": {},
   "outputs": [
    {
     "name": "stdout",
     "output_type": "stream",
     "text": [
      "[1, 2, 3] <class 'list'>\n"
     ]
    }
   ],
   "source": [
    "# 列表中所有元素放在一对中括号[]中，并用逗号隔开\n",
    "# 列表中的数据类型可以各不相同\n",
    "list1 = [1, 2, 3]\n",
    "print(list1, type(list1))  # [1, 2, 3] <class 'list'>"
   ]
  },
  {
   "cell_type": "markdown",
   "id": "64340186",
   "metadata": {},
   "source": [
    "使用方法：\n",
    "\n",
    "- 下标访问元素 `print(list1[2])`\n",
    "- 切片操作 `print(list1[0::2])`\n",
    "- for 循环取值"
   ]
  },
  {
   "cell_type": "code",
   "execution_count": 347,
   "id": "1fa66911",
   "metadata": {},
   "outputs": [
    {
     "name": "stdout",
     "output_type": "stream",
     "text": [
      "a\n",
      "b\n",
      "c\n",
      "['d', 'e', ['f', 'g', 'h']]\n"
     ]
    }
   ],
   "source": [
    "for i in li:\n",
    "    print(i)"
   ]
  },
  {
   "cell_type": "markdown",
   "id": "8c10f3dd",
   "metadata": {},
   "source": [
    "## 基本方法\n",
    "\n",
    "### 添加单个元素（append）"
   ]
  },
  {
   "cell_type": "code",
   "execution_count": 348,
   "id": "48ba7ea4",
   "metadata": {},
   "outputs": [
    {
     "name": "stdout",
     "output_type": "stream",
     "text": [
      "[1, 2, 3, 4]\n"
     ]
    }
   ],
   "source": [
    "# 列表末尾添加\n",
    "list1 = [1, 2, 3]\n",
    "list1.append(4)\n",
    "print(list1)"
   ]
  },
  {
   "cell_type": "markdown",
   "id": "125140ca",
   "metadata": {},
   "source": [
    "### 对象中元素逐个添加（entend）"
   ]
  },
  {
   "cell_type": "code",
   "execution_count": 349,
   "id": "ae013c4d",
   "metadata": {},
   "outputs": [
    {
     "name": "stdout",
     "output_type": "stream",
     "text": [
      "[1, 2, 3, '4', '5']\n",
      "[1, 2, 3, '4', '5', 6, 7]\n"
     ]
    }
   ],
   "source": [
    "li = [1, 2, 3]\n",
    "# li.extend(4)     # 报错，整型不是可迭代对象\n",
    "li.extend('45')  \n",
    "print(li)          # [1, 2, 3, '4', '5']\n",
    "li.extend([6, 7])\n",
    "print(li)          # [1, 2, 3, '4', '5', 6, 7]"
   ]
  },
  {
   "cell_type": "markdown",
   "id": "1211a170",
   "metadata": {},
   "source": [
    "### 特定位置插入对象（insert）\n",
    "\n",
    "在指定位置插入元素，指定位置若有元素则原有元素后移。效率没有append高  \n",
    "`list.insert(index, value)`"
   ]
  },
  {
   "cell_type": "code",
   "execution_count": 350,
   "id": "6f4919f4",
   "metadata": {},
   "outputs": [
    {
     "name": "stdout",
     "output_type": "stream",
     "text": [
      "[1, 2, 3, 4]\n",
      "[1, 2, 3, 5, 4]\n"
     ]
    }
   ],
   "source": [
    "li = [1, 2, 3]\n",
    "li.insert(3, 4)\n",
    "print(li)\n",
    "li.insert(3, 5)\n",
    "print(li)"
   ]
  },
  {
   "cell_type": "markdown",
   "id": "ea72b24a",
   "metadata": {},
   "source": [
    "### 添加列表（+）\n",
    "\n",
    "a+b 会返回新的列表，但是不会修改a和b"
   ]
  },
  {
   "cell_type": "code",
   "execution_count": 351,
   "id": "9ff02947",
   "metadata": {},
   "outputs": [
    {
     "name": "stdout",
     "output_type": "stream",
     "text": [
      "[1, 2, 3, 4]\n",
      "[1, 2] [3, 4]\n"
     ]
    }
   ],
   "source": [
    "a = [1, 2]\n",
    "b = [3, 4]\n",
    "print(a+b)\n",
    "print(a, b)"
   ]
  },
  {
   "cell_type": "markdown",
   "id": "b505315d",
   "metadata": {},
   "source": [
    "### 修改元素（=）"
   ]
  },
  {
   "cell_type": "code",
   "execution_count": 352,
   "id": "ea983e29",
   "metadata": {},
   "outputs": [
    {
     "name": "stdout",
     "output_type": "stream",
     "text": [
      "[0, 2, 3]\n",
      "[0, '1', 3]\n",
      "[0, '1', [2]]\n"
     ]
    }
   ],
   "source": [
    "li = [1, 2, 3]\n",
    "li[0] = 0\n",
    "print(li)          # [0, 2, 3]\n",
    "\n",
    "li[1] = \"1\"\n",
    "print(li)          # [0, '1', 3]\n",
    "li[2] = [2]        \n",
    "print(li)          # [0, '1', [2]]"
   ]
  },
  {
   "cell_type": "markdown",
   "id": "e9931f66",
   "metadata": {},
   "source": [
    "### 查找元素（in）"
   ]
  },
  {
   "cell_type": "code",
   "execution_count": 353,
   "id": "aa08cd7d",
   "metadata": {},
   "outputs": [
    {
     "name": "stdout",
     "output_type": "stream",
     "text": [
      "True\n",
      "False\n",
      "False\n",
      "True\n"
     ]
    }
   ],
   "source": [
    "li = [1, 2, 3]\n",
    "print(2 in li)          # True\n",
    "print(2 not in li)      # False\n",
    "print(4 in li)          # False\n",
    "print(4 not in li)      # True"
   ]
  },
  {
   "cell_type": "markdown",
   "id": "ec891ddf",
   "metadata": {},
   "source": [
    "### 查找元素（index）\n",
    "\n",
    "返回指定元素首个位置的下标 ，如果查找的元素不存在则报错"
   ]
  },
  {
   "cell_type": "code",
   "execution_count": 354,
   "id": "e7d4d2b5",
   "metadata": {},
   "outputs": [
    {
     "name": "stdout",
     "output_type": "stream",
     "text": [
      "1\n"
     ]
    }
   ],
   "source": [
    "li = [1, 2, 3, 4, 2]\n",
    "print(li.index(2))       # 1"
   ]
  },
  {
   "cell_type": "markdown",
   "id": "e90a078f",
   "metadata": {},
   "source": [
    "### 元素计数（count）\n",
    "\n",
    "统计指定元素在当前列表中出现的次数"
   ]
  },
  {
   "cell_type": "code",
   "execution_count": 355,
   "id": "2cad42c8",
   "metadata": {},
   "outputs": [
    {
     "name": "stdout",
     "output_type": "stream",
     "text": [
      "2\n",
      "0\n"
     ]
    }
   ],
   "source": [
    "li = [1, 2, 3, 4, 2]\n",
    "print(li.count(2))       # 2，出现2次\n",
    "print(li.count(5))       # 0，出现0次"
   ]
  },
  {
   "cell_type": "markdown",
   "id": "00996ca8",
   "metadata": {},
   "source": [
    "### 删除元素（del）\n",
    "\n",
    "根据下标删除，超出下标范围就报错"
   ]
  },
  {
   "cell_type": "code",
   "execution_count": 356,
   "id": "55520fe9",
   "metadata": {},
   "outputs": [
    {
     "name": "stdout",
     "output_type": "stream",
     "text": [
      "[1, 2, 3, 4]\n"
     ]
    }
   ],
   "source": [
    "li = [1, 2, 3, 4, 5]\n",
    "del li[4]\n",
    "print(li)                # [1, 2, 3, 4]\n",
    "# 删除整个列表\n",
    "del li"
   ]
  },
  {
   "cell_type": "markdown",
   "id": "c35d122e",
   "metadata": {},
   "source": [
    "### 删除元素（remove）\n",
    "\n",
    "根据元素的值进行删除，如果元素不存在则报错"
   ]
  },
  {
   "cell_type": "code",
   "execution_count": 357,
   "id": "c9250f62",
   "metadata": {},
   "outputs": [
    {
     "name": "stdout",
     "output_type": "stream",
     "text": [
      "[2, 3, 4, 3]\n",
      "[2, 4, 3]\n"
     ]
    }
   ],
   "source": [
    "li = [1, 2, 3, 4, 3]\n",
    "li.remove(1)\n",
    "print(li)               # [2, 3, 4, 3]\n",
    "li.remove(3)\n",
    "print(li)               # [2, 4, 3]，默认删除最开始出现的指定元素"
   ]
  },
  {
   "cell_type": "markdown",
   "id": "ec3e7198",
   "metadata": {},
   "source": [
    "### 排序（sort）\n",
    "\n",
    "将列表按特定顺序重新排列，默认从小到大"
   ]
  },
  {
   "cell_type": "code",
   "execution_count": 358,
   "id": "cc1f1bee",
   "metadata": {},
   "outputs": [
    {
     "name": "stdout",
     "output_type": "stream",
     "text": [
      "[1, 2, 3, 4, 5]\n"
     ]
    }
   ],
   "source": [
    "li = [2, 5, 3, 4, 1]\n",
    "li.sort()\n",
    "print(li)               # [1, 2, 3, 4, 5]"
   ]
  },
  {
   "cell_type": "markdown",
   "id": "4c31579c",
   "metadata": {},
   "source": [
    "### 临时排序（sorted）\n",
    "\n",
    "排序后不改变原来的对象"
   ]
  },
  {
   "cell_type": "code",
   "execution_count": 359,
   "id": "96580be0",
   "metadata": {},
   "outputs": [
    {
     "name": "stdout",
     "output_type": "stream",
     "text": [
      "[1, 2, 3, 4, 5]\n",
      "[2, 5, 3, 4, 1]\n"
     ]
    }
   ],
   "source": [
    "li = [2, 5, 3, 4, 1]\n",
    "print(sorted(li)) # 不修改li\n",
    "print(li)"
   ]
  },
  {
   "cell_type": "markdown",
   "id": "fed89d18",
   "metadata": {},
   "source": [
    "### 排序（reverse）\n",
    "\n",
    "列表反转"
   ]
  },
  {
   "cell_type": "code",
   "execution_count": 360,
   "id": "740d8c81",
   "metadata": {},
   "outputs": [
    {
     "name": "stdout",
     "output_type": "stream",
     "text": [
      "[1, 4, 3, 5, 2]\n"
     ]
    }
   ],
   "source": [
    "li = [2, 5, 3, 4, 1]\n",
    "li.reverse()\n",
    "print(li)              # [1, 4, 3, 5, 2]"
   ]
  },
  {
   "cell_type": "markdown",
   "id": "293a5e67",
   "metadata": {},
   "source": [
    "### 列表长度（len）\n",
    "\n",
    "列表中元素的个数"
   ]
  },
  {
   "cell_type": "code",
   "execution_count": 361,
   "id": "898ebc13",
   "metadata": {},
   "outputs": [
    {
     "name": "stdout",
     "output_type": "stream",
     "text": [
      "5\n",
      "0\n"
     ]
    }
   ],
   "source": [
    "li = [2, 5, 3, 4, 1]\n",
    "print(len(li))\n",
    "print(len([]))"
   ]
  },
  {
   "cell_type": "markdown",
   "id": "91add437",
   "metadata": {},
   "source": [
    "## 其他方法\n",
    "\n",
    "### 列表推导式"
   ]
  },
  {
   "cell_type": "code",
   "execution_count": 362,
   "id": "89a74a58",
   "metadata": {},
   "outputs": [
    {
     "name": "stdout",
     "output_type": "stream",
     "text": [
      "[2, 5, 3, 4, 1]\n",
      "[5, 10, 15, 20, 25]\n",
      "[2, 4, 6, 8, 10, 12]\n"
     ]
    }
   ],
   "source": [
    "list1 = [i for i in range(1,11)] \n",
    "print(li)                # [1, 2, 3, 4, 5, 6, 7, 8, 9, 10]\n",
    "\n",
    "\n",
    "# [表达式 for 临时变量 in 列表]：根据列表生成指定需求的列表\n",
    "li = [1, 2, 3, 4, 5]\n",
    "# 需求：使用列表推导式生成一个将li全部元素乘以5的新列表\n",
    "li2 = [(i*5) for i in li]\n",
    "print(li2)             # [5, 10, 15, 20, 25]\n",
    "\n",
    "\n",
    "# [表达式 for 变量 in 列表 if 条件]：从列表中选择符合条件的元素组成新的列表\n",
    "# 需求：将原列表中的所有偶数放进新列表中\n",
    "li = [1, 2, 3, 4, 5, 6, 7, 8, 9, 10, 11, 12, 13]\n",
    "li3 = [i for i in li if i % 2 == 0]\n",
    "print(li3)              # [2, 4, 6, 8, 10, 12]"
   ]
  },
  {
   "cell_type": "markdown",
   "id": "17d7ab24",
   "metadata": {},
   "source": [
    "相当于"
   ]
  },
  {
   "cell_type": "code",
   "execution_count": 363,
   "id": "8a5db5b7",
   "metadata": {},
   "outputs": [
    {
     "name": "stdout",
     "output_type": "stream",
     "text": [
      "[2, 4, 6, 8, 10, 12]\n"
     ]
    }
   ],
   "source": [
    "li = [1, 2, 3, 4, 5, 6, 7, 8, 9, 10, 11, 12, 13]\n",
    "\n",
    "# 定义一个空列表\n",
    "li2 = []\n",
    "for i in li:\n",
    "    # 判断是否为偶数：偶数能被2整除，说明余数为0\n",
    "    if i % 2 == 0:\n",
    "        li2.append(i)\n",
    "print(li2)              # [2, 4, 6, 8, 10, 12]\n",
    "\n",
    "# 列表推导式更简单\n",
    "li3 = [i for i in li if i % 2 == 0]"
   ]
  },
  {
   "cell_type": "markdown",
   "id": "bde3c9f7",
   "metadata": {},
   "source": [
    "### 列表嵌套"
   ]
  },
  {
   "cell_type": "code",
   "execution_count": 364,
   "id": "dee336cb",
   "metadata": {},
   "outputs": [
    {
     "name": "stdout",
     "output_type": "stream",
     "text": [
      "c\n",
      "['d', 'e', 'f']\n",
      "f\n",
      "g\n"
     ]
    }
   ],
   "source": [
    "li = ['a','b','c',['d','e','f']]     # ['d','e','f']是里面的列表\n",
    "print(li[2])          # c\n",
    "print(li[3])          # ['d', 'e', 'f']，取出里面的列表\n",
    "print(li[3][2])       # f，取出内列表里的元素f\n",
    "\n",
    "li = ['a','b','c',['d','e',['f','g','h']]]     \n",
    "print(li[3][2][1])"
   ]
  },
  {
   "cell_type": "markdown",
   "id": "85586fe0",
   "metadata": {},
   "source": [
    "### 列表复制\n",
    "\n",
    "列表复制不能用 l1 = l2，可以用切片。原因见[赋值的原理](https://www.notion.so/253de408681b80b58fcff29874ed4cd0?pvs=21)"
   ]
  },
  {
   "cell_type": "code",
   "execution_count": 365,
   "id": "291b92c4",
   "metadata": {},
   "outputs": [
    {
     "name": "stdout",
     "output_type": "stream",
     "text": [
      "[1, 2, 3, 4, 5, 6]\n",
      "[1, 2, 3, 4, 5, 6]\n",
      "[1, 2, 3, 4, 5]\n"
     ]
    }
   ],
   "source": [
    "l1 = [1, 2, 3, 4, 5]\n",
    "l2 = l1\n",
    "l3 = l1[::] # 或者li1[:] 都可以\n",
    "l1.append(6)\n",
    "print(l1)\n",
    "print(l2)\n",
    "print(l3)"
   ]
  },
  {
   "cell_type": "markdown",
   "id": "0f2bb1c2",
   "metadata": {},
   "source": [
    "## 课堂练习"
   ]
  },
  {
   "cell_type": "markdown",
   "id": "b248e8ff",
   "metadata": {},
   "source": [
    "### Q1"
   ]
  },
  {
   "cell_type": "markdown",
   "id": "ad80d83a",
   "metadata": {},
   "source": [
    "定义一个列表，列表中保存已经存在的昵称  \n",
    "name_list = ['bingbing', 'susu', 'ziyi']  \n",
    "如果用户输入的用户名被使用就需要重新输入，直到没有重复为止"
   ]
  },
  {
   "cell_type": "code",
   "execution_count": 5,
   "id": "c581feff",
   "metadata": {
    "code_folding": [
     0
    ]
   },
   "outputs": [
    {
     "name": "stdout",
     "output_type": "stream",
     "text": [
      "请输入您要查找的名字：a\n",
      "名字a已被您使用\n",
      "['bingbing', 'susu', 'ziyi', '1', 'a']\n"
     ]
    }
   ],
   "source": [
    "while True:\n",
    "    # 用户输入昵称\n",
    "    name = input(\"请输入您要查找的名字：\")\n",
    "    # 如果该昵称在列表中存在\n",
    "    if name in name_list:\n",
    "        print(f'您输入的名字{name}已经存在了哦')\n",
    "    # 如果昵称在列表中不存在，即没有和列表中的数据重复\n",
    "    else:\n",
    "        print(f'名字{name}已被您使用')\n",
    "        # 把昵称新增进列表中\n",
    "        name_list.append(name)\n",
    "        # 输出列表\n",
    "        print(name_list)\n",
    "        # 退出当前所在循环\n",
    "        break"
   ]
  },
  {
   "cell_type": "markdown",
   "id": "7fe06855",
   "metadata": {},
   "source": [
    "### Q2\n",
    "将列表按照从大到小的顺序排序  \n",
    "li = [2, 5, 3, 4, 1]"
   ]
  },
  {
   "cell_type": "code",
   "execution_count": 4,
   "id": "e01ec962",
   "metadata": {
    "code_folding": [
     0
    ]
   },
   "outputs": [
    {
     "name": "stdout",
     "output_type": "stream",
     "text": [
      "[5, 4, 3, 2, 1]\n"
     ]
    }
   ],
   "source": [
    "# 先按照从小到大的顺序排序\n",
    "li.sort()\n",
    "# 再将列表倒置\n",
    "li.reverse()\n",
    "print(li)              # [5, 4, 3, 2, 1]"
   ]
  },
  {
   "cell_type": "markdown",
   "id": "9d4b81f7",
   "metadata": {},
   "source": [
    "# 元组\n",
    "\n",
    "格式：元组名 = (元素1, 元素2, 元素3...)\n",
    "\n",
    "注意：\n",
    "\n",
    "1. 元组使用小括号进行数据保存，所有元素包含在小括号内，元素与元素之间用\",\"隔开\n",
    "2. 元组一旦确定不可修改！如果数据需要修改使用list\n",
    "3. 元组的核心符号是“, “"
   ]
  },
  {
   "cell_type": "code",
   "execution_count": 366,
   "id": "ca120668",
   "metadata": {},
   "outputs": [
    {
     "name": "stdout",
     "output_type": "stream",
     "text": [
      "<class 'tuple'>\n",
      "<class 'int'>\n",
      "<class 'str'>\n",
      "<class 'str'>\n"
     ]
    }
   ],
   "source": [
    "a = 1,\n",
    "print(type(a))\n",
    "print(type(1))\n",
    "print(type(\"a\"))\n",
    "print(type(\"a\",))"
   ]
  },
  {
   "cell_type": "markdown",
   "id": "64a52c21",
   "metadata": {},
   "source": [
    "## 基本操作"
   ]
  },
  {
   "cell_type": "code",
   "execution_count": 367,
   "id": "c62bbaf6",
   "metadata": {},
   "outputs": [
    {
     "name": "stdout",
     "output_type": "stream",
     "text": [
      "['a', 'LJC', 'c']\n",
      "b\n",
      "('b', 'c')\n"
     ]
    }
   ],
   "source": [
    "li2 = ['a','b','c']\n",
    "li2[1] =\"LJC\"\n",
    "print(li2)\n",
    "\n",
    "tua = ('a','b','c')\n",
    "print(tua[1])    # b\n",
    "# print(tua[4])  # 报错，IndexError: tuple index out of range(索引错误：元组下标超出范围)\n",
    "print(tua[1:])   # ('b', 'c')\n",
    "# tua[1] = 'a'   # 报错，TypeError: 'tuple' object does not support item assignment(类型错误：元组对象不支持修改操作)"
   ]
  },
  {
   "cell_type": "markdown",
   "id": "ef55c455",
   "metadata": {},
   "source": [
    "## 其他方法（与list相同，见[列表方法](https://www.notion.so/257de408681b80759fabf0a6f02a4fdf?pvs=21) ）\n",
    "\n",
    "- in\n",
    "- not in\n",
    "- count()\n",
    "- index()\n",
    "- len()"
   ]
  },
  {
   "cell_type": "markdown",
   "id": "4e365b94",
   "metadata": {},
   "source": [
    "## 应用场景\n",
    "\n",
    "数据不可以被修改，保护数据的安全\n",
    "\n",
    "- 函数的参数和返回值"
   ]
  },
  {
   "cell_type": "code",
   "execution_count": 368,
   "id": "05b14434",
   "metadata": {},
   "outputs": [
    {
     "name": "stdout",
     "output_type": "stream",
     "text": [
      "<class 'tuple'>\n"
     ]
    }
   ],
   "source": [
    "def get_num():\n",
    "    return 1, 2\n",
    "\n",
    "a = get_num()\n",
    "print(type(a))"
   ]
  }
 ],
 "metadata": {
  "kernelspec": {
   "display_name": "Python 3",
   "language": "python",
   "name": "python3"
  },
  "language_info": {
   "codemirror_mode": {
    "name": "ipython",
    "version": 3
   },
   "file_extension": ".py",
   "mimetype": "text/x-python",
   "name": "python",
   "nbconvert_exporter": "python",
   "pygments_lexer": "ipython3",
   "version": "3.8.8"
  },
  "toc": {
   "base_numbering": 1,
   "nav_menu": {},
   "number_sections": true,
   "sideBar": true,
   "skip_h1_title": false,
   "title_cell": "Table of Contents",
   "title_sidebar": "Contents",
   "toc_cell": false,
   "toc_position": {
    "height": "calc(100% - 180px)",
    "left": "10px",
    "top": "150px",
    "width": "253px"
   },
   "toc_section_display": true,
   "toc_window_display": true
  }
 },
 "nbformat": 4,
 "nbformat_minor": 5
}
