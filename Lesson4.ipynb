{
 "cells": [
  {
   "cell_type": "markdown",
   "id": "7e32c705",
   "metadata": {},
   "source": [
    "# 字典与集合\n",
    "\n",
    "## 字典（dict）\n",
    "\n",
    "解释：一种便于查找的数据格式\n",
    "\n",
    "格式：字典名 = {键1: 值1, 键2: 值2}。key（键） 和 value（值） 之间用：隔开，key-value 之间用，隔开\n",
    "\n",
    "注意：\n",
    "\n",
    "1. key不能重复，value可以重复\n",
    "2. 类似于书籍的目录和内容，通过目录查找内容。"
   ]
  },
  {
   "cell_type": "code",
   "execution_count": 1,
   "id": "083c33a6",
   "metadata": {},
   "outputs": [
    {
     "name": "stdout",
     "output_type": "stream",
     "text": [
      "<class 'dict'>\n",
      "{'name': 'shanhai'}\n",
      "{'age1': 18, 'age2': 18}\n"
     ]
    }
   ],
   "source": [
    "dic = {'name': 'bingbing', 'age': 18}\n",
    "print(type(dic))           # <class 'dict'>\n",
    "# 注意：字典中的键具备唯一性，但是值可以重复。\n",
    "dic2 = {'name': 'bingbing', 'name': 'shanhai'}\n",
    "print(dic2)                # {'name': 'shanhai'} 键名重复则前面的值会被后面的值覆盖\n",
    "dic3 = {'age1': 18, 'age2': 18}\n",
    "print(dic3)                # {'age1': 18, 'age2': 18}"
   ]
  },
  {
   "cell_type": "markdown",
   "id": "f1e0a77e",
   "metadata": {},
   "source": [
    "### 常见操作"
   ]
  },
  {
   "cell_type": "markdown",
   "id": "c6954563",
   "metadata": {},
   "source": [
    "- 查看元素\n",
    "        1. 变量名[key]"
   ]
  },
  {
   "cell_type": "code",
   "execution_count": 2,
   "id": "835a76a1",
   "metadata": {},
   "outputs": [
    {
     "name": "stdout",
     "output_type": "stream",
     "text": [
      "冰冰\n"
     ]
    }
   ],
   "source": [
    "dic2 = {'name': '冰冰', 'name2': '山海'}\n",
    "print(dic2['name'])    # 冰冰\n",
    "# print(dic2['tel'])   # 报错，键名不存在"
   ]
  },
  {
   "cell_type": "markdown",
   "id": "a48f8c07",
   "metadata": {},
   "source": [
    "        2. 变量名.get(key)"
   ]
  },
  {
   "cell_type": "code",
   "execution_count": 3,
   "id": "bb983b3b",
   "metadata": {},
   "outputs": [
    {
     "name": "stdout",
     "output_type": "stream",
     "text": [
      "shanhai\n",
      "None\n",
      "不存在\n"
     ]
    }
   ],
   "source": [
    "dic2 = {'name': 'bingbing', 'name2': 'shanhai'}\n",
    "print(dic2.get('name2'))            # shanhai\n",
    "print(dic2.get('name3'))            # None  --键名不存在，返回None\n",
    "print(dic2.get('name3', '不存在'))  # 不存在 --如果不存在(没有这个键名)，返回自己设置的默认值"
   ]
  },
  {
   "cell_type": "markdown",
   "id": "6f45caf4",
   "metadata": {},
   "source": [
    "区别：如果key不存在时，变量名[key]的方式报错，get(key)的方式返回None或者默认值"
   ]
  },
  {
   "cell_type": "markdown",
   "id": "30019a00",
   "metadata": {},
   "source": [
    "- 修改元素\n",
    "\n",
    "`字典名['键名'] = 值`"
   ]
  },
  {
   "cell_type": "code",
   "execution_count": 4,
   "id": "abbfdca6",
   "metadata": {},
   "outputs": [
    {
     "name": "stdout",
     "output_type": "stream",
     "text": [
      "{'name': 'bingbing', 'age': 20}\n"
     ]
    }
   ],
   "source": [
    "d = {'name': 'bingbing', 'age': 18}\n",
    "d['age'] = 20    # 列表通过下标修改，字典通过键名修改\n",
    "print(d)         # {'name': 'bingbing', 'age': 20}"
   ]
  },
  {
   "cell_type": "markdown",
   "id": "d7313a3a",
   "metadata": {},
   "source": [
    "- 添加元素\n",
    "\n",
    "`字典名['键名'] = 值`\n",
    "\n",
    "和”修改元素”公式相同，因为如果元素存在就会修改，不存在就会添加"
   ]
  },
  {
   "cell_type": "code",
   "execution_count": 8,
   "id": "f8cdf51c",
   "metadata": {},
   "outputs": [
    {
     "name": "stdout",
     "output_type": "stream",
     "text": [
      "{'name': '小明', 'age': 28, 'remark': '在线征婚'}\n"
     ]
    }
   ],
   "source": [
    "d = {'name': '小明','age': 28}\n",
    "d['remark'] = 1918070991\n",
    "# print(d)\n",
    "d['remark'] = \"在线征婚\"\n",
    "print(d)         # {'name': '小明', 'age': 28, 'remark': '在线征婚'}"
   ]
  },
  {
   "cell_type": "markdown",
   "id": "af508187",
   "metadata": {},
   "source": [
    "- 删除元素\n",
    "    - del\n",
    "    \n",
    "    删除指定键值对，键名不存在就会报错\n",
    "    \n",
    "    ```python\n",
    "    d = {'name': '小明', 'age': 28}\n",
    "    del d['age']      \n",
    "    # del d['remark']      # 没有指定的键就会报错\n",
    "    print(\"删除后: \", d)   # 删除后:  {'name': '小明'}\n",
    "    # 删除整个字典\n",
    "    d = {'name': '小明','age': 28}\n",
    "    del d\n",
    "    ```\n",
    "    \n",
    "    - clear()\n",
    "    \n",
    "    清空整个字典里面的东西，但保留了这个字典\n",
    "    \n",
    "    ```python\n",
    "    d = {'name': '小明','age': 28}\n",
    "    d.clear()\n",
    "    print('删除后',d)      # 删除后 {}\n",
    "    ```"
   ]
  },
  {
   "cell_type": "markdown",
   "id": "b7735622",
   "metadata": {},
   "source": [
    "- 其他操作\n",
    "    - 长度（len）"
   ]
  },
  {
   "cell_type": "code",
   "execution_count": 10,
   "id": "092baad2",
   "metadata": {},
   "outputs": [
    {
     "name": "stdout",
     "output_type": "stream",
     "text": [
      "3\n"
     ]
    }
   ],
   "source": [
    "d2 = {'name': 'bingbing', 'age': 18, 'qq': 917848283}\n",
    "print(len(d2))        # 3，因为字典中有3对键值对"
   ]
  },
  {
   "cell_type": "markdown",
   "id": "a3723097",
   "metadata": {},
   "source": [
    "    - 键名（keys）"
   ]
  },
  {
   "cell_type": "code",
   "execution_count": 11,
   "id": "bf930d19",
   "metadata": {},
   "outputs": [
    {
     "name": "stdout",
     "output_type": "stream",
     "text": [
      "dict_keys(['name', 'age', 'qq'])\n",
      "<class 'dict_keys'>\n"
     ]
    }
   ],
   "source": [
    "d2 = {'name': 'bingbing', 'age': 18, 'qq': 11111111}\n",
    "print(d2.keys())      # dict_keys(['name', 'age', 'qq'])\n",
    "k = d2.keys()\n",
    "print(type(k)) "
   ]
  },
  {
   "cell_type": "markdown",
   "id": "0ff559b4",
   "metadata": {},
   "source": [
    "    - 值名（values）"
   ]
  },
  {
   "cell_type": "code",
   "execution_count": 12,
   "id": "8e7e73d8",
   "metadata": {},
   "outputs": [
    {
     "name": "stdout",
     "output_type": "stream",
     "text": [
      "dict_values(['bingbing', 18, 917848283])\n"
     ]
    }
   ],
   "source": [
    "d2 = {'name': 'bingbing', 'age': 18, 'qq': 917848283}\n",
    "print(d2.values())    # dict_values(['bingbing', 18, 917848283])"
   ]
  },
  {
   "cell_type": "markdown",
   "id": "bb78bb44",
   "metadata": {},
   "source": [
    "    - 键值对（keys - values）"
   ]
  },
  {
   "cell_type": "code",
   "execution_count": 13,
   "id": "8cdd9d97",
   "metadata": {},
   "outputs": [
    {
     "name": "stdout",
     "output_type": "stream",
     "text": [
      "dict_items([('name', 'bingbing'), ('age', 18), ('qq', 917848283)])\n"
     ]
    }
   ],
   "source": [
    "d2 = {'name': 'bingbing', 'age': 18, 'qq': 917848283}\n",
    "print(d2.items())     # dict_items([('name', 'bingbing'), ('age', 18), ('qq', 917848283)])"
   ]
  },
  {
   "cell_type": "markdown",
   "id": "4673093d",
   "metadata": {},
   "source": [
    "    - 与for循环相结合"
   ]
  },
  {
   "cell_type": "code",
   "execution_count": 14,
   "id": "b4f48fde",
   "metadata": {},
   "outputs": [
    {
     "name": "stdout",
     "output_type": "stream",
     "text": [
      "name\n",
      "age\n",
      "qq\n",
      "name\n",
      "age\n",
      "qq\n",
      "bingbing\n",
      "18\n",
      "917848283\n",
      "('name', 'bingbing')\n",
      "('age', 18)\n",
      "('qq', 917848283)\n"
     ]
    }
   ],
   "source": [
    "d2 = {'name': 'bingbing', 'age': 18, 'qq': 917848283}\n",
    "# 取key\n",
    "for i in d2.keys(): \n",
    "    print(i)\n",
    "for i in d2:          \n",
    "    print(i)\n",
    "    \n",
    "# 取value\n",
    "for i in d2.values():\n",
    "    print(i)\n",
    "    \n",
    "# 取键值对\n",
    "for i in d2.items():\n",
    "\t\tprint(i)"
   ]
  },
  {
   "cell_type": "markdown",
   "id": "8b248a99",
   "metadata": {},
   "source": [
    "### 嵌套"
   ]
  },
  {
   "cell_type": "code",
   "execution_count": 4,
   "id": "93e0ce6f",
   "metadata": {},
   "outputs": [
    {
     "name": "stdout",
     "output_type": "stream",
     "text": [
      "{'ljc': {'age': 24, 'university': 'UCL'}, 'lyp': {'age': 27, 'university': 'Warwick'}}\n"
     ]
    }
   ],
   "source": [
    "members = {}\n",
    "members[\"ljc\"] = {}\n",
    "members[\"ljc\"][\"age\"] = 24\n",
    "members[\"ljc\"][\"university\"] = \"UCL\"\n",
    "members[\"lyp\"] = {}\n",
    "members[\"lyp\"][\"age\"] = 27\n",
    "members[\"lyp\"][\"university\"] = \"Warwick\"\n",
    "\n",
    "print(members)"
   ]
  },
  {
   "cell_type": "markdown",
   "id": "7b2e6e01",
   "metadata": {},
   "source": [
    "## 集合（set）\n",
    "\n",
    "作用：用来表示一系列**不重复数据**的数据结构\n",
    "\n",
    "格式：集合名 = {元素1, 元素2, 元素3...}"
   ]
  },
  {
   "cell_type": "code",
   "execution_count": 15,
   "id": "0fce83a8",
   "metadata": {},
   "outputs": [
    {
     "name": "stdout",
     "output_type": "stream",
     "text": [
      "<class 'set'>\n",
      "<class 'set'>\n"
     ]
    }
   ],
   "source": [
    "s1 = {1, 2, 3}\n",
    "print(type(s1))    # <class 'set'>\n",
    "\n",
    "# 定义空集合的方式\n",
    "s1 = set()\n",
    "print(type(s1))    # <class 'set'>"
   ]
  },
  {
   "cell_type": "markdown",
   "id": "be775fb4",
   "metadata": {},
   "source": [
    "特点：\n",
    "\n",
    "1. 无序"
   ]
  },
  {
   "cell_type": "code",
   "execution_count": 16,
   "id": "7bc34b97",
   "metadata": {},
   "outputs": [
    {
     "name": "stdout",
     "output_type": "stream",
     "text": [
      "{'c', 'b', 'd', 'a'}\n"
     ]
    }
   ],
   "source": [
    "# 3.2.1 无序\n",
    "s1 = {'a', 'b', 'c', 'd'}\n",
    "print(s1)"
   ]
  },
  {
   "cell_type": "markdown",
   "id": "d915ea16",
   "metadata": {},
   "source": [
    "2. 唯一"
   ]
  },
  {
   "cell_type": "code",
   "execution_count": 20,
   "id": "278beba0",
   "metadata": {},
   "outputs": [
    {
     "name": "stdout",
     "output_type": "stream",
     "text": [
      "{'d', 'b', 'c', 'a'}\n"
     ]
    }
   ],
   "source": [
    "s1 = {'a', 'b', 'd', 'c', 'b', 'a'}\n",
    "print(s1)"
   ]
  },
  {
   "cell_type": "markdown",
   "id": "8c82f5b1",
   "metadata": {},
   "source": [
    "3. 确定性\n",
    "\n",
    "集合中的元素必须是**不可变类型（int, float, str, tuple）**"
   ]
  },
  {
   "cell_type": "code",
   "execution_count": 19,
   "id": "b67dfa36",
   "metadata": {},
   "outputs": [],
   "source": [
    "# s = {1, 2, [3, 4]}\n",
    "# print(s)         # TypeError: unhashable type: 'list'(类型错误：不可hash(散列)类型:列表)"
   ]
  },
  {
   "cell_type": "markdown",
   "id": "078da524",
   "metadata": {},
   "source": [
    "### 常见操作\n",
    "\n",
    "- 添加元素\n",
    "    - add：添加一个整体"
   ]
  },
  {
   "cell_type": "code",
   "execution_count": 24,
   "id": "32fefb50",
   "metadata": {},
   "outputs": [
    {
     "name": "stdout",
     "output_type": "stream",
     "text": [
      "原集合: {1, 2, 3, 4}\n",
      "添加后 {1, 2, 3, 4, 5}\n",
      "添加后 {1, 2, 3, 4, 5}\n",
      "添加后 {1, 2, 3, 4, 5, (5, 6)}\n"
     ]
    }
   ],
   "source": [
    "s2 = {1, 2, 3, 4}\n",
    "print(\"原集合:\", s2)  # 原集合: {1, 2, 3, 4}\n",
    "s2.add(5)\n",
    "print('添加后', s2)   # 添加后 {1, 2, 3, 4, 5}\n",
    "s2.add(2)\n",
    "print('添加后', s2)   # 添加后 {1, 2, 3, 4, 5}，# 因为集合有自动去重功能\n",
    "s2.add((5,6))        # 添加一个元组类型的元素\n",
    "print('添加后', s2)   # 添加后 {1, 2, 3, 4, 5, (5, 6)}"
   ]
  },
  {
   "cell_type": "markdown",
   "id": "81f2d56f",
   "metadata": {},
   "source": [
    "    - update：把传入的元素拆分，逐个放入集合中"
   ]
  },
  {
   "cell_type": "code",
   "execution_count": 25,
   "id": "c5e148a5",
   "metadata": {},
   "outputs": [
    {
     "name": "stdout",
     "output_type": "stream",
     "text": [
      "原集合: {1, 2, 3, 4}\n",
      "添加后 {1, 2, 3, 4, '6', '7', '5'}\n"
     ]
    }
   ],
   "source": [
    "s2 = {1, 2, 3, 4}\n",
    "print(\"原集合:\", s2)  # 原集合: {1, 2, 3, 4}\n",
    "# s2.update(567)     #报错\n",
    "s2.update('567')\n",
    "print('添加后', s2)   # 添加后 {1, 2, 3, 4, '5', '6', '7'}"
   ]
  },
  {
   "cell_type": "markdown",
   "id": "6096efcb",
   "metadata": {},
   "source": [
    "- 删除元素\n",
    "    - remove：有的话删除，没有的话报错"
   ]
  },
  {
   "cell_type": "code",
   "execution_count": 26,
   "id": "e4e96949",
   "metadata": {},
   "outputs": [
    {
     "name": "stdout",
     "output_type": "stream",
     "text": [
      "删除后: {1, 2, 4}\n"
     ]
    }
   ],
   "source": [
    "s2 = {1, 2, 3, 4}\n",
    "s2.remove(3)\n",
    "# s2.remove(5)        # 报错(集合中没有元素5)\n",
    "print(\"删除后:\", s2)  # 删除后: {1, 2, 4}"
   ]
  },
  {
   "cell_type": "markdown",
   "id": "a249be04",
   "metadata": {},
   "source": [
    "    - discard：有的话删除，没有的话不报错\n",
    "   "
   ]
  },
  {
   "cell_type": "code",
   "execution_count": 27,
   "id": "0ce4af1b",
   "metadata": {},
   "outputs": [
    {
     "name": "stdout",
     "output_type": "stream",
     "text": [
      "原列表: {1, 2, 3, 4}\n",
      "删除后: {1, 2, 4}\n",
      "删除后: {1, 2, 4}\n"
     ]
    }
   ],
   "source": [
    "s2 = {1, 2, 3, 4}\n",
    "print(\"原列表:\", s2)  # 原列表: {1, 2, 3, 4}\n",
    "s2.discard(3)\n",
    "print('删除后:', s2)  # 删除后: {1, 2, 4}\n",
    "s2.discard(7)\n",
    "print('删除后:',s2)   # 删除后: {1, 2, 4}"
   ]
  },
  {
   "cell_type": "markdown",
   "id": "fcd197cf",
   "metadata": {},
   "source": [
    "交集&  并集 |"
   ]
  },
  {
   "cell_type": "code",
   "execution_count": 28,
   "id": "c7195e18",
   "metadata": {},
   "outputs": [
    {
     "name": "stdout",
     "output_type": "stream",
     "text": [
      "{3, 4}\n",
      "set()\n",
      "{1, 2, 3, 4, 5, 6}\n",
      "{1, 2, 3, 4, 5, 6, 7, 8}\n"
     ]
    }
   ],
   "source": [
    "# 交集& 表示共有的部分\n",
    "a = {1, 2, 3, 4}\n",
    "b = {3, 4, 5, 6}\n",
    "print(a & b)          # {3, 4}\n",
    "\n",
    "a = {1, 2, 3, 4}\n",
    "b = {5, 6, 7, 8}\n",
    "print(a & b)          # set()，没有共有的部分\n",
    "\n",
    "\n",
    "\n",
    "# 并集| 表示公共的部分\n",
    "a = {1, 2, 3, 4}\n",
    "b = {3, 4, 5, 6}\n",
    "print(a | b)          # {1, 2, 3, 4, 5, 6}\n",
    "\n",
    "a = {1, 2, 3, 4}\n",
    "b = {5, 6, 7, 8}\n",
    "print(a | b)          # {1, 2, 3, 4, 5, 6, 7, 8}"
   ]
  },
  {
   "cell_type": "code",
   "execution_count": null,
   "id": "76f6cde3",
   "metadata": {},
   "outputs": [],
   "source": []
  }
 ],
 "metadata": {
  "kernelspec": {
   "display_name": "Python 3",
   "language": "python",
   "name": "python3"
  },
  "language_info": {
   "codemirror_mode": {
    "name": "ipython",
    "version": 3
   },
   "file_extension": ".py",
   "mimetype": "text/x-python",
   "name": "python",
   "nbconvert_exporter": "python",
   "pygments_lexer": "ipython3",
   "version": "3.8.8"
  },
  "toc": {
   "base_numbering": 1,
   "nav_menu": {},
   "number_sections": true,
   "sideBar": true,
   "skip_h1_title": false,
   "title_cell": "Table of Contents",
   "title_sidebar": "Contents",
   "toc_cell": false,
   "toc_position": {
    "height": "calc(100% - 180px)",
    "left": "10px",
    "top": "150px",
    "width": "253px"
   },
   "toc_section_display": true,
   "toc_window_display": true
  }
 },
 "nbformat": 4,
 "nbformat_minor": 5
}
